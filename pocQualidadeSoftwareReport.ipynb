{
  "nbformat": 4,
  "nbformat_minor": 0,
  "metadata": {
    "colab": {
      "provenance": [],
      "authorship_tag": "ABX9TyOPblErorccvzQWNrHF3oOk",
      "include_colab_link": true
    },
    "kernelspec": {
      "name": "python3",
      "display_name": "Python 3"
    },
    "language_info": {
      "name": "python"
    }
  },
  "cells": [
    {
      "cell_type": "markdown",
      "metadata": {
        "id": "view-in-github",
        "colab_type": "text"
      },
      "source": [
        "<a href=\"https://colab.research.google.com/github/zup-academy/poc-qualidade-software/blob/master/pocQualidadeSoftwareReport.ipynb\" target=\"_parent\"><img src=\"https://colab.research.google.com/assets/colab-badge.svg\" alt=\"Open In Colab\"/></a>"
      ]
    },
    {
      "cell_type": "markdown",
      "source": [
        "# Zup.Edu Research - Auditoria/Análise de Projetos\n",
        "\n",
        "**Projeto Auditado:** handora-plano-de-estudos-main\n",
        "\n",
        "* Repositório: https://github.com/zup-academy/handora-plano-de-estudos\n",
        "* Tamanho: 892KB\n",
        "* Contém: 202 arquivos (98.2% .java), 74 pastas\n",
        "\n",
        "Nesse colab, apresentamos os resultados de um conjunto de análises feitas no repositório `handora-plano-de-estudos`. As análises estão listadas a seguir:\n",
        "\n",
        "*   Análise de arquitetura:\n",
        "*   Análise de design de código:\n",
        "*   Análise de Implementação:\n",
        "*   Análise de design de teste:\n",
        "*   Análise de design de testabilidade:\n",
        "\n",
        "Ainda são exibidas algumas métricas relacionadas as classes e métodos do projeto, como:"
      ],
      "metadata": {
        "id": "qznfn8r5UHxe"
      }
    },
    {
      "cell_type": "markdown",
      "source": [
        "## Configurações e Imports de Biliotecas e Dados para as Análises"
      ],
      "metadata": {
        "id": "VfmAsRA5WLzf"
      }
    },
    {
      "cell_type": "code",
      "execution_count": null,
      "metadata": {
        "id": "-y3jIdBvT3Wo"
      },
      "outputs": [],
      "source": [
        "import pandas as pd\n",
        "import numpy as np\n",
        "import matplotlib\n",
        "import matplotlib.pyplot as plt \n",
        "import matplotlib.dates as dates\n",
        "import os, json\n",
        "\n",
        "from google.colab import drive"
      ]
    },
    {
      "cell_type": "code",
      "source": [
        "drive.mount('/content/drive', force_remount=True)\n",
        "path = \"/content/drive/Shareddrives/Zup EDU/05. Pesquisa/37.MVP-de-codigo/Qualidade de Código/handora-plano\""
      ],
      "metadata": {
        "colab": {
          "base_uri": "https://localhost:8080/"
        },
        "id": "OsJLfpOgXB0v",
        "outputId": "06d40bb8-dfce-46c0-93fe-fa2a8d96ba1a"
      },
      "execution_count": null,
      "outputs": [
        {
          "output_type": "stream",
          "name": "stdout",
          "text": [
            "Mounted at /content/drive\n"
          ]
        }
      ]
    },
    {
      "cell_type": "code",
      "source": [
        "#Explicar aquivo....\n",
        "architectureDf = pd.read_csv(path+\"/ArchitectureSmells.csv\")\n",
        "\n",
        "#Explicar aquivo....\n",
        "# Especifiquei as colunas aqui para ele não se perder nos separadores que estão sendo utilizados\n",
        "col_names = [\"Project Name\",\"Package Name\",\"Type Name\",\"Design Smell\",\"Cause of the Smell\"]\n",
        "designDf = pd.read_csv(path+\"/DesignSmells.csv\", names=col_names)\n",
        "\n",
        "#Explicar aquivo....\n",
        "implementationDf = pd.read_csv(path+\"/ImplementationSmells.csv\")\n",
        "\n",
        "#Explicar aquivo....\n",
        "methodMetricsDf = pd.read_csv(path+\"/MethodMetrics.csv\")\n",
        "\n",
        "#Explicar aquivo....\n",
        "testabilityDf = pd.read_csv(path+\"/TestabilitySmells.csv\")\n",
        "\n",
        "#Explicar aquivo....\n",
        "testDf = pd.read_csv(path+\"/TestSmells.csv\")\n",
        "\n",
        "#Explicar aquivo....\n",
        "typeMetricsDf = pd.read_csv(path+\"/TypeMetrics.csv\")"
      ],
      "metadata": {
        "id": "HFq78uMEZKYB"
      },
      "execution_count": null,
      "outputs": []
    },
    {
      "cell_type": "markdown",
      "source": [
        "Esses arquivos foram gerados a partir do uso da ferramenta Designite...."
      ],
      "metadata": {
        "id": "lUPmCG15b7u_"
      }
    },
    {
      "cell_type": "markdown",
      "source": [
        "## Pré-processamento dos Dados"
      ],
      "metadata": {
        "id": "R9p3St3dXLxs"
      }
    },
    {
      "cell_type": "code",
      "source": [
        "# Eliminando duplicados, se existirem\n",
        "architectureDf = architectureDf.drop_duplicates()\n",
        "designDf = designDf.drop_duplicates()\n",
        "implementationDf = implementationDf.drop_duplicates()\n",
        "testabilityDf = testabilityDf.drop_duplicates()\n",
        "testDf = testDf.drop_duplicates()"
      ],
      "metadata": {
        "id": "2qi1dIB42rZE"
      },
      "execution_count": null,
      "outputs": []
    },
    {
      "cell_type": "markdown",
      "source": [
        "Percebemos a existência de alguns falsos positivos (muitos relacionados ao uso do spring)...."
      ],
      "metadata": {
        "id": "l5px7Rk0cYQm"
      }
    },
    {
      "cell_type": "markdown",
      "source": [
        "Explicação da remoção de smells de testabilidade em classes de teste..."
      ],
      "metadata": {
        "id": "ftSIitEVc91P"
      }
    },
    {
      "cell_type": "code",
      "source": [
        "testabilityDf = testabilityDf[testabilityDf[\"Type Name\"].str.contains(\"Test\") == False]\n",
        "testabilityDf = testabilityDf[testabilityDf[\"Type Name\"].str.contains(\"Teste\") == False]"
      ],
      "metadata": {
        "id": "Zc2xALUTdFVX"
      },
      "execution_count": null,
      "outputs": []
    },
    {
      "cell_type": "markdown",
      "source": [
        "Explicando remoção de smells de teste em clases de teste de controladores...\n",
        "\n"
      ],
      "metadata": {
        "id": "Av2J9RVEeF9K"
      }
    },
    {
      "cell_type": "code",
      "source": [
        "testDf = testDf[(testDf[\"Type Name\"].str.contains(\"Controller\") & testDf[\"Test Smell\"].str.contains(\"Missing assertion\")) == False]"
      ],
      "metadata": {
        "id": "-2DEMOo9i1aT"
      },
      "execution_count": null,
      "outputs": []
    },
    {
      "cell_type": "markdown",
      "source": [
        "Explicando remoção de smells de design em clases de teste e controladores..."
      ],
      "metadata": {
        "id": "oifhT9MBjdie"
      }
    },
    {
      "cell_type": "code",
      "source": [
        "#Limpando primeira linha deste dataset por vir com nome das colunas pela transformação realizada anteriormente\n",
        "designDf = designDf[designDf[\"Type Name\"].str.contains(\"Type Name\") == False]"
      ],
      "metadata": {
        "id": "PmNqw2zeljP7"
      },
      "execution_count": null,
      "outputs": []
    },
    {
      "cell_type": "code",
      "source": [
        "#Aqui ainda poderia incluir como palavras chaves \"config\" e \"Validation\" no type name para smell de \"Unutilized Abstraction\"?\n",
        "#Da versão free para a enterprise muda a coluna \"Design Smell\" para \"Code Smell\"\n",
        "designDf = designDf[(designDf[\"Type Name\"].str.contains(\"Controller\") & designDf[\"Design Smell\"].str.contains(\"Unutilized Abstraction\")) == False]\n",
        "designDf = designDf[(designDf[\"Type Name\"].str.contains(\"Test\") & designDf[\"Design Smell\"].str.contains(\"Unutilized Abstraction\")) == False]\n",
        "designDf = designDf[(designDf[\"Type Name\"].str.contains(\"Test\") & designDf[\"Design Smell\"].str.contains(\"Unnecessary Abstraction\")) == False]\n",
        "designDf = designDf[(designDf[\"Type Name\"].str.contains(\"Repository\") & designDf[\"Design Smell\"].str.contains(\"Unnecessary Abstraction\")) == False]"
      ],
      "metadata": {
        "id": "7stL4RTRlbWc"
      },
      "execution_count": null,
      "outputs": []
    },
    {
      "cell_type": "markdown",
      "source": [
        "TO-DO: Verificar casos de smells de arquitetura com jackson e Lucas para verificar possíveis falsos positivos padrões!"
      ],
      "metadata": {
        "id": "DQU9YEPymbSD"
      }
    },
    {
      "cell_type": "code",
      "source": [
        "# Unindo todos os smells em um único dataframe considerando apenas o package name (Smells de arquitetura possuem até essa abstração)\n",
        "architectureDfToAll = architectureDf.filter(['Package Name','Cause of the Smell'], axis=1)\n",
        "designDfToAll = designDf.filter(['Package Name','Cause of the Smell'], axis=1)\n",
        "implementationDfToAll = implementationDf.filter(['Package Name','Cause of the Smell'], axis=1)\n",
        "testabilityDfToAll = testabilityDf.filter(['Package Name','Cause of the Smell'], axis=1)\n",
        "testDfToAll = testDf.filter(['Package Name','Cause of the Smell'], axis=1)\n",
        "\n",
        "allSmellsDf = pd.concat([architectureDfToAll, designDfToAll, implementationDfToAll, testabilityDfToAll, testDfToAll])"
      ],
      "metadata": {
        "id": "5g28_A8DNfZg"
      },
      "execution_count": null,
      "outputs": []
    },
    {
      "cell_type": "code",
      "source": [
        "designDfToAll = designDf.filter(['Type Name','Cause of the Smell'], axis=1)\n",
        "implementationDfToAll = implementationDf.filter(['Type Name','Cause of the Smell'], axis=1)\n",
        "testabilityDfToAll = testabilityDf.filter(['Type Name','Cause of the Smell'], axis=1)\n",
        "testDfToAll = testDf.filter(['Type Name','Cause of the Smell'], axis=1)\n",
        "\n",
        "allSmellsDf = pd.concat([designDfToAll, implementationDfToAll, testabilityDfToAll, testDfToAll])"
      ],
      "metadata": {
        "id": "WhLFaTHv8ge_"
      },
      "execution_count": null,
      "outputs": []
    },
    {
      "cell_type": "markdown",
      "source": [
        "## Insights e Visualizações"
      ],
      "metadata": {
        "id": "XK_J0hsHm8Jv"
      }
    },
    {
      "cell_type": "markdown",
      "source": [
        "### Visão Geral de Métricas"
      ],
      "metadata": {
        "id": "79lFbIxsnh4l"
      }
    },
    {
      "cell_type": "markdown",
      "source": [
        "* LOC (Lines Of Code - at method and class granularity)\n",
        "* CC (Cyclomatic Complexity - Method)\n",
        "* PC (Parameter Count - Method)\n",
        "* NOF (Number of Fields - Class)\n",
        "* NOPF (Number of Public Fields - Class)\n",
        "* NOM (Number of Methods - Class)\n",
        "* NOPM (Number of Public Methods - Class)\n",
        "* WMC (Weighted Methods per Class - Class)\n",
        "* NC (Number of Children - Class)\n",
        "* DIT (Depth of Inheritance Tree - Class)\n",
        "* LCOM (Lack of Cohesion in Methods - Class)\n",
        "* FANIN (Fan-in - Class)\n",
        "* FANOUT (Fan-out - Class)"
      ],
      "metadata": {
        "id": "cCMlsqu4qQ0m"
      }
    },
    {
      "cell_type": "markdown",
      "source": [
        "**Métricas das Classes**"
      ],
      "metadata": {
        "id": "7OEJDMZ3tjlr"
      }
    },
    {
      "cell_type": "code",
      "source": [
        "typeMetricsDf.boxplot(column=['NOF', 'NOPF', 'NOM', 'NOPM', 'LOC', 'WMC', 'NC', 'DIT', 'LCOM', 'FANIN', 'FANOUT'], vert=True)\n",
        "plt.title('CK Metrics')\n",
        "plt.ylabel('Ocorrências')\n",
        "plt.show()"
      ],
      "metadata": {
        "colab": {
          "base_uri": "https://localhost:8080/",
          "height": 281
        },
        "id": "Ce_p5n-0vF71",
        "outputId": "f2cc2b84-7d57-42e4-fcfa-149cbb183bff"
      },
      "execution_count": null,
      "outputs": [
        {
          "output_type": "display_data",
          "data": {
            "text/plain": [
              "<Figure size 432x288 with 1 Axes>"
            ],
            "image/png": "[encoded data removed]"
          },
          "metadata": {
            "needs_background": "light"
          }
        }
      ]
    },
    {
      "cell_type": "code",
      "source": [
        "filtered_df = typeMetricsDf[~typeMetricsDf['Type Name'].str.contains('Test', case=False)]\n",
        "filtered_df.boxplot(column=['NOF', 'NOPF', 'NOM', 'NOPM', 'LOC', 'WMC', 'NC', 'DIT', 'LCOM', 'FANIN', 'FANOUT'], vert=True)\n",
        "plt.title('CK Metrics')\n",
        "plt.ylabel('Ocorrências')\n",
        "plt.show()"
      ],
      "metadata": {
        "colab": {
          "base_uri": "https://localhost:8080/",
          "height": 281
        },
        "id": "I2pFRImQnCmr",
        "outputId": "a107ec01-23f8-4b73-c99c-73904908b4fd"
      },
      "execution_count": null,
      "outputs": [
        {
          "output_type": "display_data",
          "data": {
            "text/plain": [
              "<Figure size 432x288 with 1 Axes>"
            ],
            "image/png": "[encoded data removed]"
          },
          "metadata": {
            "needs_background": "light"
          }
        }
      ]
    },
    {
      "cell_type": "code",
      "source": [
        "typeMetricsDf['LCOM'].describe()"
      ],
      "metadata": {
        "colab": {
          "base_uri": "https://localhost:8080/"
        },
        "id": "nG6u0Amjr8R6",
        "outputId": "d9cb0ff9-f8ac-4a69-a9a0-2356c1f7cd4c"
      },
      "execution_count": null,
      "outputs": [
        {
          "output_type": "execute_result",
          "data": {
            "text/plain": [
              "count    72.000000\n",
              "mean     -0.497454\n",
              "std       0.563288\n",
              "min      -1.000000\n",
              "25%      -1.000000\n",
              "50%      -1.000000\n",
              "75%       0.000000\n",
              "max       0.500000\n",
              "Name: LCOM, dtype: float64"
            ]
          },
          "metadata": {},
          "execution_count": 14
        }
      ]
    },
    {
      "cell_type": "code",
      "source": [
        "filtered_df = typeMetricsDf[~typeMetricsDf['Type Name'].str.contains('Test', case=False)]\n",
        "\n",
        "mean_LOC = filtered_df.groupby('Type Name')['LOC'].mean()\n",
        "\n",
        "sorted_classes = mean_LOC.sort_values(ascending=False).index[:10]\n",
        "\n",
        "print(sorted_classes, mean_LOC[sorted_classes])"
      ],
      "metadata": {
        "colab": {
          "base_uri": "https://localhost:8080/"
        },
        "id": "HynYapBUnJdD",
        "outputId": "4cc4ff2a-81d6-4d4c-a614-18700456898a"
      },
      "execution_count": null,
      "outputs": [
        {
          "output_type": "stream",
          "name": "stdout",
          "text": [
            "Index(['HandoraLogBuilder', 'Tema', 'PlanoDeEstudos', 'PlanoDeEstudosFactory',\n",
            "       'HandoraLogBuilder.ProntoParaLogar', 'TemaRequest',\n",
            "       'NovoPlanoDeEstudosRequest', 'AdicionaItensTemas',\n",
            "       'AdicionaItensPlanodeEstudos', 'Link'],\n",
            "      dtype='object', name='Type Name') Type Name\n",
            "HandoraLogBuilder                    124.0\n",
            "Tema                                  89.0\n",
            "PlanoDeEstudos                        81.0\n",
            "PlanoDeEstudosFactory                 71.0\n",
            "HandoraLogBuilder.ProntoParaLogar     69.0\n",
            "TemaRequest                           52.0\n",
            "NovoPlanoDeEstudosRequest             48.0\n",
            "AdicionaItensTemas                    46.0\n",
            "AdicionaItensPlanodeEstudos           46.0\n",
            "Link                                  45.0\n",
            "Name: LOC, dtype: float64\n"
          ]
        }
      ]
    },
    {
      "cell_type": "code",
      "source": [
        "typeMetricsDf.corr()"
      ],
      "metadata": {
        "colab": {
          "base_uri": "https://localhost:8080/",
          "height": 426
        },
        "id": "YH2nNwSGcJoj",
        "outputId": "f468b60e-2fb0-4652-f7f7-5f9813b92a75"
      },
      "execution_count": null,
      "outputs": [
        {
          "output_type": "execute_result",
          "data": {
            "text/plain": [
              "              NOF  NOPF       NOM      NOPM       LOC       WMC        NC  \\\n",
              "NOF      1.000000   NaN  0.743158  0.705109  0.624301  0.741010 -0.083822   \n",
              "NOPF          NaN   NaN       NaN       NaN       NaN       NaN       NaN   \n",
              "NOM      0.743158   NaN  1.000000  0.961678  0.627838  0.989596 -0.050381   \n",
              "NOPM     0.705109   NaN  0.961678  1.000000  0.608734  0.961442 -0.065743   \n",
              "LOC      0.624301   NaN  0.627838  0.608734  1.000000  0.616080 -0.094874   \n",
              "WMC      0.741010   NaN  0.989596  0.961442  0.616080  1.000000 -0.051406   \n",
              "NC      -0.083822   NaN -0.050381 -0.065743 -0.094874 -0.051406  1.000000   \n",
              "DIT      0.403870   NaN  0.428712  0.421531  0.349325  0.436350 -0.014085   \n",
              "LCOM     0.743430   NaN  0.619649  0.520445  0.399608  0.617007 -0.106624   \n",
              "FANIN    0.397150   NaN  0.453552  0.472997  0.319487  0.472795  0.002273   \n",
              "FANOUT   0.313962   NaN  0.264996  0.177972  0.133367  0.222082  0.003394   \n",
              "Line no  0.061300   NaN -0.093864 -0.077887 -0.004126 -0.086895 -0.065202   \n",
              "\n",
              "              DIT      LCOM     FANIN    FANOUT   Line no  \n",
              "NOF      0.403870  0.743430  0.397150  0.313962  0.061300  \n",
              "NOPF          NaN       NaN       NaN       NaN       NaN  \n",
              "NOM      0.428712  0.619649  0.453552  0.264996 -0.093864  \n",
              "NOPM     0.421531  0.520445  0.472997  0.177972 -0.077887  \n",
              "LOC      0.349325  0.399608  0.319487  0.133367 -0.004126  \n",
              "WMC      0.436350  0.617007  0.472795  0.222082 -0.086895  \n",
              "NC      -0.014085 -0.106624  0.002273  0.003394 -0.065202  \n",
              "DIT      1.000000  0.204554  0.111359  0.003394  0.015460  \n",
              "LCOM     0.204554  1.000000  0.284043  0.446783 -0.143691  \n",
              "FANIN    0.111359  0.284043  1.000000 -0.035592 -0.101702  \n",
              "FANOUT   0.003394  0.446783 -0.035592  1.000000 -0.093127  \n",
              "Line no  0.015460 -0.143691 -0.101702 -0.093127  1.000000  "
            ],
            "text/html": [
              "\n",
              "  <div id=\"df-df14f518-9310-492b-b1e3-efc29c2a6ca2\">\n",
              "    <div class=\"colab-df-container\">\n",
              "      <div>\n",
              "<style scoped>\n",
              "    .dataframe tbody tr th:only-of-type {\n",
              "        vertical-align: middle;\n",
              "    }\n",
              "\n",
              "    .dataframe tbody tr th {\n",
              "        vertical-align: top;\n",
              "    }\n",
              "\n",
              "    .dataframe thead th {\n",
              "        text-align: right;\n",
              "    }\n",
              "</style>\n",
              "<table border=\"1\" class=\"dataframe\">\n",
              "  <thead>\n",
              "    <tr style=\"text-align: right;\">\n",
              "      <th></th>\n",
              "      <th>NOF</th>\n",
              "      <th>NOPF</th>\n",
              "      <th>NOM</th>\n",
              "      <th>NOPM</th>\n",
              "      <th>LOC</th>\n",
              "      <th>WMC</th>\n",
              "      <th>NC</th>\n",
              "      <th>DIT</th>\n",
              "      <th>LCOM</th>\n",
              "      <th>FANIN</th>\n",
              "      <th>FANOUT</th>\n",
              "      <th>Line no</th>\n",
              "    </tr>\n",
              "  </thead>\n",
              "  <tbody>\n",
              "    <tr>\n",
              "      <th>NOF</th>\n",
              "      <td>1.000000</td>\n",
              "      <td>NaN</td>\n",
              "      <td>0.743158</td>\n",
              "      <td>0.705109</td>\n",
              "      <td>0.624301</td>\n",
              "      <td>0.741010</td>\n",
              "      <td>-0.083822</td>\n",
              "      <td>0.403870</td>\n",
              "      <td>0.743430</td>\n",
              "      <td>0.397150</td>\n",
              "      <td>0.313962</td>\n",
              "      <td>0.061300</td>\n",
              "    </tr>\n",
              "    <tr>\n",
              "      <th>NOPF</th>\n",
              "      <td>NaN</td>\n",
              "      <td>NaN</td>\n",
              "      <td>NaN</td>\n",
              "      <td>NaN</td>\n",
              "      <td>NaN</td>\n",
              "      <td>NaN</td>\n",
              "      <td>NaN</td>\n",
              "      <td>NaN</td>\n",
              "      <td>NaN</td>\n",
              "      <td>NaN</td>\n",
              "      <td>NaN</td>\n",
              "      <td>NaN</td>\n",
              "    </tr>\n",
              "    <tr>\n",
              "      <th>NOM</th>\n",
              "      <td>0.743158</td>\n",
              "      <td>NaN</td>\n",
              "      <td>1.000000</td>\n",
              "      <td>0.961678</td>\n",
              "      <td>0.627838</td>\n",
              "      <td>0.989596</td>\n",
              "      <td>-0.050381</td>\n",
              "      <td>0.428712</td>\n",
              "      <td>0.619649</td>\n",
              "      <td>0.453552</td>\n",
              "      <td>0.264996</td>\n",
              "      <td>-0.093864</td>\n",
              "    </tr>\n",
              "    <tr>\n",
              "      <th>NOPM</th>\n",
              "      <td>0.705109</td>\n",
              "      <td>NaN</td>\n",
              "      <td>0.961678</td>\n",
              "      <td>1.000000</td>\n",
              "      <td>0.608734</td>\n",
              "      <td>0.961442</td>\n",
              "      <td>-0.065743</td>\n",
              "      <td>0.421531</td>\n",
              "      <td>0.520445</td>\n",
              "      <td>0.472997</td>\n",
              "      <td>0.177972</td>\n",
              "      <td>-0.077887</td>\n",
              "    </tr>\n",
              "    <tr>\n",
              "      <th>LOC</th>\n",
              "      <td>0.624301</td>\n",
              "      <td>NaN</td>\n",
              "      <td>0.627838</td>\n",
              "      <td>0.608734</td>\n",
              "      <td>1.000000</td>\n",
              "      <td>0.616080</td>\n",
              "      <td>-0.094874</td>\n",
              "      <td>0.349325</td>\n",
              "      <td>0.399608</td>\n",
              "      <td>0.319487</td>\n",
              "      <td>0.133367</td>\n",
              "      <td>-0.004126</td>\n",
              "    </tr>\n",
              "    <tr>\n",
              "      <th>WMC</th>\n",
              "      <td>0.741010</td>\n",
              "      <td>NaN</td>\n",
              "      <td>0.989596</td>\n",
              "      <td>0.961442</td>\n",
              "      <td>0.616080</td>\n",
              "      <td>1.000000</td>\n",
              "      <td>-0.051406</td>\n",
              "      <td>0.436350</td>\n",
              "      <td>0.617007</td>\n",
              "      <td>0.472795</td>\n",
              "      <td>0.222082</td>\n",
              "      <td>-0.086895</td>\n",
              "    </tr>\n",
              "    <tr>\n",
              "      <th>NC</th>\n",
              "      <td>-0.083822</td>\n",
              "      <td>NaN</td>\n",
              "      <td>-0.050381</td>\n",
              "      <td>-0.065743</td>\n",
              "      <td>-0.094874</td>\n",
              "      <td>-0.051406</td>\n",
              "      <td>1.000000</td>\n",
              "      <td>-0.014085</td>\n",
              "      <td>-0.106624</td>\n",
              "      <td>0.002273</td>\n",
              "      <td>0.003394</td>\n",
              "      <td>-0.065202</td>\n",
              "    </tr>\n",
              "    <tr>\n",
              "      <th>DIT</th>\n",
              "      <td>0.403870</td>\n",
              "      <td>NaN</td>\n",
              "      <td>0.428712</td>\n",
              "      <td>0.421531</td>\n",
              "      <td>0.349325</td>\n",
              "      <td>0.436350</td>\n",
              "      <td>-0.014085</td>\n",
              "      <td>1.000000</td>\n",
              "      <td>0.204554</td>\n",
              "      <td>0.111359</td>\n",
              "      <td>0.003394</td>\n",
              "      <td>0.015460</td>\n",
              "    </tr>\n",
              "    <tr>\n",
              "      <th>LCOM</th>\n",
              "      <td>0.743430</td>\n",
              "      <td>NaN</td>\n",
              "      <td>0.619649</td>\n",
              "      <td>0.520445</td>\n",
              "      <td>0.399608</td>\n",
              "      <td>0.617007</td>\n",
              "      <td>-0.106624</td>\n",
              "      <td>0.204554</td>\n",
              "      <td>1.000000</td>\n",
              "      <td>0.284043</td>\n",
              "      <td>0.446783</td>\n",
              "      <td>-0.143691</td>\n",
              "    </tr>\n",
              "    <tr>\n",
              "      <th>FANIN</th>\n",
              "      <td>0.397150</td>\n",
              "      <td>NaN</td>\n",
              "      <td>0.453552</td>\n",
              "      <td>0.472997</td>\n",
              "      <td>0.319487</td>\n",
              "      <td>0.472795</td>\n",
              "      <td>0.002273</td>\n",
              "      <td>0.111359</td>\n",
              "      <td>0.284043</td>\n",
              "      <td>1.000000</td>\n",
              "      <td>-0.035592</td>\n",
              "      <td>-0.101702</td>\n",
              "    </tr>\n",
              "    <tr>\n",
              "      <th>FANOUT</th>\n",
              "      <td>0.313962</td>\n",
              "      <td>NaN</td>\n",
              "      <td>0.264996</td>\n",
              "      <td>0.177972</td>\n",
              "      <td>0.133367</td>\n",
              "      <td>0.222082</td>\n",
              "      <td>0.003394</td>\n",
              "      <td>0.003394</td>\n",
              "      <td>0.446783</td>\n",
              "      <td>-0.035592</td>\n",
              "      <td>1.000000</td>\n",
              "      <td>-0.093127</td>\n",
              "    </tr>\n",
              "    <tr>\n",
              "      <th>Line no</th>\n",
              "      <td>0.061300</td>\n",
              "      <td>NaN</td>\n",
              "      <td>-0.093864</td>\n",
              "      <td>-0.077887</td>\n",
              "      <td>-0.004126</td>\n",
              "      <td>-0.086895</td>\n",
              "      <td>-0.065202</td>\n",
              "      <td>0.015460</td>\n",
              "      <td>-0.143691</td>\n",
              "      <td>-0.101702</td>\n",
              "      <td>-0.093127</td>\n",
              "      <td>1.000000</td>\n",
              "    </tr>\n",
              "  </tbody>\n",
              "</table>\n",
              "</div>\n",
              "      <button class=\"colab-df-convert\" onclick=\"convertToInteractive('df-df14f518-9310-492b-b1e3-efc29c2a6ca2')\"\n",
              "              title=\"Convert this dataframe to an interactive table.\"\n",
              "              style=\"display:none;\">\n",
              "        \n",
              "  <svg xmlns=\"http://www.w3.org/2000/svg\" height=\"24px\"viewBox=\"0 0 24 24\"\n",
              "       width=\"24px\">\n",
              "    <path d=\"M0 0h24v24H0V0z\" fill=\"none\"/>\n",
              "    <path d=\"M18.56 5.44l.94 2.06.94-2.06 2.06-.94-2.06-.94-.94-2.06-.94 2.06-2.06.94zm-11 1L8.5 8.5l.94-2.06 2.06-.94-2.06-.94L8.5 2.5l-.94 2.06-2.06.94zm10 10l.94 2.06.94-2.06 2.06-.94-2.06-.94-.94-2.06-.94 2.06-2.06.94z\"/><path d=\"M17.41 7.96l-1.37-1.37c-.4-.4-.92-.59-1.43-.59-.52 0-1.04.2-1.43.59L10.3 9.45l-7.72 7.72c-.78.78-.78 2.05 0 2.83L4 21.41c.39.39.9.59 1.41.59.51 0 1.02-.2 1.41-.59l7.78-7.78 2.81-2.81c.8-.78.8-2.07 0-2.86zM5.41 20L4 18.59l7.72-7.72 1.47 1.35L5.41 20z\"/>\n",
              "  </svg>\n",
              "      </button>\n",
              "      \n",
              "  <style>\n",
              "    .colab-df-container {\n",
              "      display:flex;\n",
              "      flex-wrap:wrap;\n",
              "      gap: 12px;\n",
              "    }\n",
              "\n",
              "    .colab-df-convert {\n",
              "      background-color: #E8F0FE;\n",
              "      border: none;\n",
              "      border-radius: 50%;\n",
              "      cursor: pointer;\n",
              "      display: none;\n",
              "      fill: #1967D2;\n",
              "      height: 32px;\n",
              "      padding: 0 0 0 0;\n",
              "      width: 32px;\n",
              "    }\n",
              "\n",
              "    .colab-df-convert:hover {\n",
              "      background-color: #E2EBFA;\n",
              "      box-shadow: 0px 1px 2px rgba(60, 64, 67, 0.3), 0px 1px 3px 1px rgba(60, 64, 67, 0.15);\n",
              "      fill: #174EA6;\n",
              "    }\n",
              "\n",
              "    [theme=dark] .colab-df-convert {\n",
              "      background-color: #3B4455;\n",
              "      fill: #D2E3FC;\n",
              "    }\n",
              "\n",
              "    [theme=dark] .colab-df-convert:hover {\n",
              "      background-color: #434B5C;\n",
              "      box-shadow: 0px 1px 3px 1px rgba(0, 0, 0, 0.15);\n",
              "      filter: drop-shadow(0px 1px 2px rgba(0, 0, 0, 0.3));\n",
              "      fill: #FFFFFF;\n",
              "    }\n",
              "  </style>\n",
              "\n",
              "      <script>\n",
              "        const buttonEl =\n",
              "          document.querySelector('#df-df14f518-9310-492b-b1e3-efc29c2a6ca2 button.colab-df-convert');\n",
              "        buttonEl.style.display =\n",
              "          google.colab.kernel.accessAllowed ? 'block' : 'none';\n",
              "\n",
              "        async function convertToInteractive(key) {\n",
              "          const element = document.querySelector('#df-df14f518-9310-492b-b1e3-efc29c2a6ca2');\n",
              "          const dataTable =\n",
              "            await google.colab.kernel.invokeFunction('convertToInteractive',\n",
              "                                                     [key], {});\n",
              "          if (!dataTable) return;\n",
              "\n",
              "          const docLinkHtml = 'Like what you see? Visit the ' +\n",
              "            '<a target=\"_blank\" href=https://colab.research.google.com/notebooks/data_table.ipynb>data table notebook</a>'\n",
              "            + ' to learn more about interactive tables.';\n",
              "          element.innerHTML = '';\n",
              "          dataTable['output_type'] = 'display_data';\n",
              "          await google.colab.output.renderOutput(dataTable, element);\n",
              "          const docLink = document.createElement('div');\n",
              "          docLink.innerHTML = docLinkHtml;\n",
              "          element.appendChild(docLink);\n",
              "        }\n",
              "      </script>\n",
              "    </div>\n",
              "  </div>\n",
              "  "
            ]
          },
          "metadata": {},
          "execution_count": 21
        }
      ]
    },
    {
      "cell_type": "code",
      "source": [
        "corr = typeMetricsDf.corr()  \n",
        "fig, ax = plt.subplots(figsize=(11, 11))\n",
        "ax.matshow(corr) \n",
        "plt.xticks(range(len(corr.columns)), corr.columns)\n",
        "plt.yticks(range(len(corr.columns)), corr.columns) "
      ],
      "metadata": {
        "colab": {
          "base_uri": "https://localhost:8080/",
          "height": 1000
        },
        "id": "TJ2mq8FTcTZE",
        "outputId": "0aa86af4-3834-4333-83b1-d6aefa92ff7c"
      },
      "execution_count": null,
      "outputs": [
        {
          "output_type": "execute_result",
          "data": {
            "text/plain": [
              "([<matplotlib.axis.YTick at 0x7f1c9efdda90>,\n",
              "  <matplotlib.axis.YTick at 0x7f1c9efdd310>,\n",
              "  <matplotlib.axis.YTick at 0x7f1c9efd51f0>,\n",
              "  <matplotlib.axis.YTick at 0x7f1c9efac850>,\n",
              "  <matplotlib.axis.YTick at 0x7f1c9efb1040>,\n",
              "  <matplotlib.axis.YTick at 0x7f1c9efb1700>,\n",
              "  <matplotlib.axis.YTick at 0x7f1c9efac550>,\n",
              "  <matplotlib.axis.YTick at 0x7f1c9ef9a0d0>,\n",
              "  <matplotlib.axis.YTick at 0x7f1c9efb1070>,\n",
              "  <matplotlib.axis.YTick at 0x7f1c9efb81f0>,\n",
              "  <matplotlib.axis.YTick at 0x7f1c9efb8940>,\n",
              "  <matplotlib.axis.YTick at 0x7f1c9ef3d0d0>],\n",
              " [Text(0, 0, 'NOF'),\n",
              "  Text(0, 1, 'NOPF'),\n",
              "  Text(0, 2, 'NOM'),\n",
              "  Text(0, 3, 'NOPM'),\n",
              "  Text(0, 4, 'LOC'),\n",
              "  Text(0, 5, 'WMC'),\n",
              "  Text(0, 6, 'NC'),\n",
              "  Text(0, 7, 'DIT'),\n",
              "  Text(0, 8, 'LCOM'),\n",
              "  Text(0, 9, 'FANIN'),\n",
              "  Text(0, 10, 'FANOUT'),\n",
              "  Text(0, 11, 'Line no')])"
            ]
          },
          "metadata": {},
          "execution_count": 22
        },
        {
          "output_type": "display_data",
          "data": {
            "text/plain": [
              "<Figure size 792x792 with 1 Axes>"
            ],
            "image/png": "[encoded data removed]"
          },
          "metadata": {
            "needs_background": "light"
          }
        }
      ]
    },
    {
      "cell_type": "markdown",
      "source": [
        "**Métricas dos Métodos**"
      ],
      "metadata": {
        "id": "DfM_NrULuB1t"
      }
    },
    {
      "cell_type": "code",
      "source": [
        "methodMetricsDf.boxplot(column=['LOC','CC','PC','Line no','IsTest'], vert=True)\n",
        "plt.title('Method Metrics')\n",
        "plt.ylabel('Ocorrências')\n",
        "plt.show()"
      ],
      "metadata": {
        "colab": {
          "base_uri": "https://localhost:8080/",
          "height": 281
        },
        "id": "7ayndTp7uL7c",
        "outputId": "23bbb2aa-af15-4d5f-87df-5d7cb046bdd2"
      },
      "execution_count": null,
      "outputs": [
        {
          "output_type": "display_data",
          "data": {
            "text/plain": [
              "<Figure size 432x288 with 1 Axes>"
            ],
            "image/png": "[encoded data removed]"
          },
          "metadata": {
            "needs_background": "light"
          }
        }
      ]
    },
    {
      "cell_type": "code",
      "source": [
        "filtered_df = methodMetricsDf[~methodMetricsDf['Type Name'].str.contains('Test', case=False)]\n",
        "filtered_df.boxplot(column=['LOC','CC','PC','Line no','IsTest'], vert=True)\n",
        "plt.title('Method Metrics')\n",
        "plt.ylabel('Ocorrências')\n",
        "plt.show()"
      ],
      "metadata": {
        "colab": {
          "base_uri": "https://localhost:8080/",
          "height": 281
        },
        "id": "U3UKIqdGu-nD",
        "outputId": "d7a7d7da-fb07-4f54-9ad4-e7cd5171a468"
      },
      "execution_count": null,
      "outputs": [
        {
          "output_type": "display_data",
          "data": {
            "text/plain": [
              "<Figure size 432x288 with 1 Axes>"
            ],
            "image/png": "[encoded data removed]"
          },
          "metadata": {
            "needs_background": "light"
          }
        }
      ]
    },
    {
      "cell_type": "code",
      "source": [
        "methodMetricsDf.describe(include='all').loc[['top']]"
      ],
      "metadata": {
        "colab": {
          "base_uri": "https://localhost:8080/",
          "height": 159
        },
        "id": "MBJUAIJjpGj7",
        "outputId": "f2cb3f67-595a-4231-a667-9833026f6746"
      },
      "execution_count": null,
      "outputs": [
        {
          "output_type": "execute_result",
          "data": {
            "text/plain": [
              "                      Project Name                             Package Name  \\\n",
              "top  handora-plano-de-estudos-main  br.com.zup.handora.planodeestudos.plano   \n",
              "\n",
              "    Type Name Method Name  LOC  CC  PC  Line no  IsTest  \\\n",
              "top      Tema    hashCode  NaN NaN NaN      NaN     NaN   \n",
              "\n",
              "                                Main prod class tested  \\\n",
              "top  br.com.zup.handora.planodeestudos.utils.PlanoD...   \n",
              "\n",
              "                             Production classes tested  \n",
              "top  br.com.zup.handora.planodeestudos.compartilhad...  "
            ],
            "text/html": [
              "\n",
              "  <div id=\"df-a88a3328-f9ec-4193-b4a2-b2e7f7306157\">\n",
              "    <div class=\"colab-df-container\">\n",
              "      <div>\n",
              "<style scoped>\n",
              "    .dataframe tbody tr th:only-of-type {\n",
              "        vertical-align: middle;\n",
              "    }\n",
              "\n",
              "    .dataframe tbody tr th {\n",
              "        vertical-align: top;\n",
              "    }\n",
              "\n",
              "    .dataframe thead th {\n",
              "        text-align: right;\n",
              "    }\n",
              "</style>\n",
              "<table border=\"1\" class=\"dataframe\">\n",
              "  <thead>\n",
              "    <tr style=\"text-align: right;\">\n",
              "      <th></th>\n",
              "      <th>Project Name</th>\n",
              "      <th>Package Name</th>\n",
              "      <th>Type Name</th>\n",
              "      <th>Method Name</th>\n",
              "      <th>LOC</th>\n",
              "      <th>CC</th>\n",
              "      <th>PC</th>\n",
              "      <th>Line no</th>\n",
              "      <th>IsTest</th>\n",
              "      <th>Main prod class tested</th>\n",
              "      <th>Production classes tested</th>\n",
              "    </tr>\n",
              "  </thead>\n",
              "  <tbody>\n",
              "    <tr>\n",
              "      <th>top</th>\n",
              "      <td>handora-plano-de-estudos-main</td>\n",
              "      <td>br.com.zup.handora.planodeestudos.plano</td>\n",
              "      <td>Tema</td>\n",
              "      <td>hashCode</td>\n",
              "      <td>NaN</td>\n",
              "      <td>NaN</td>\n",
              "      <td>NaN</td>\n",
              "      <td>NaN</td>\n",
              "      <td>NaN</td>\n",
              "      <td>br.com.zup.handora.planodeestudos.utils.PlanoD...</td>\n",
              "      <td>br.com.zup.handora.planodeestudos.compartilhad...</td>\n",
              "    </tr>\n",
              "  </tbody>\n",
              "</table>\n",
              "</div>\n",
              "      <button class=\"colab-df-convert\" onclick=\"convertToInteractive('df-a88a3328-f9ec-4193-b4a2-b2e7f7306157')\"\n",
              "              title=\"Convert this dataframe to an interactive table.\"\n",
              "              style=\"display:none;\">\n",
              "        \n",
              "  <svg xmlns=\"http://www.w3.org/2000/svg\" height=\"24px\"viewBox=\"0 0 24 24\"\n",
              "       width=\"24px\">\n",
              "    <path d=\"M0 0h24v24H0V0z\" fill=\"none\"/>\n",
              "    <path d=\"M18.56 5.44l.94 2.06.94-2.06 2.06-.94-2.06-.94-.94-2.06-.94 2.06-2.06.94zm-11 1L8.5 8.5l.94-2.06 2.06-.94-2.06-.94L8.5 2.5l-.94 2.06-2.06.94zm10 10l.94 2.06.94-2.06 2.06-.94-2.06-.94-.94-2.06-.94 2.06-2.06.94z\"/><path d=\"M17.41 7.96l-1.37-1.37c-.4-.4-.92-.59-1.43-.59-.52 0-1.04.2-1.43.59L10.3 9.45l-7.72 7.72c-.78.78-.78 2.05 0 2.83L4 21.41c.39.39.9.59 1.41.59.51 0 1.02-.2 1.41-.59l7.78-7.78 2.81-2.81c.8-.78.8-2.07 0-2.86zM5.41 20L4 18.59l7.72-7.72 1.47 1.35L5.41 20z\"/>\n",
              "  </svg>\n",
              "      </button>\n",
              "      \n",
              "  <style>\n",
              "    .colab-df-container {\n",
              "      display:flex;\n",
              "      flex-wrap:wrap;\n",
              "      gap: 12px;\n",
              "    }\n",
              "\n",
              "    .colab-df-convert {\n",
              "      background-color: #E8F0FE;\n",
              "      border: none;\n",
              "      border-radius: 50%;\n",
              "      cursor: pointer;\n",
              "      display: none;\n",
              "      fill: #1967D2;\n",
              "      height: 32px;\n",
              "      padding: 0 0 0 0;\n",
              "      width: 32px;\n",
              "    }\n",
              "\n",
              "    .colab-df-convert:hover {\n",
              "      background-color: #E2EBFA;\n",
              "      box-shadow: 0px 1px 2px rgba(60, 64, 67, 0.3), 0px 1px 3px 1px rgba(60, 64, 67, 0.15);\n",
              "      fill: #174EA6;\n",
              "    }\n",
              "\n",
              "    [theme=dark] .colab-df-convert {\n",
              "      background-color: #3B4455;\n",
              "      fill: #D2E3FC;\n",
              "    }\n",
              "\n",
              "    [theme=dark] .colab-df-convert:hover {\n",
              "      background-color: #434B5C;\n",
              "      box-shadow: 0px 1px 3px 1px rgba(0, 0, 0, 0.15);\n",
              "      filter: drop-shadow(0px 1px 2px rgba(0, 0, 0, 0.3));\n",
              "      fill: #FFFFFF;\n",
              "    }\n",
              "  </style>\n",
              "\n",
              "      <script>\n",
              "        const buttonEl =\n",
              "          document.querySelector('#df-a88a3328-f9ec-4193-b4a2-b2e7f7306157 button.colab-df-convert');\n",
              "        buttonEl.style.display =\n",
              "          google.colab.kernel.accessAllowed ? 'block' : 'none';\n",
              "\n",
              "        async function convertToInteractive(key) {\n",
              "          const element = document.querySelector('#df-a88a3328-f9ec-4193-b4a2-b2e7f7306157');\n",
              "          const dataTable =\n",
              "            await google.colab.kernel.invokeFunction('convertToInteractive',\n",
              "                                                     [key], {});\n",
              "          if (!dataTable) return;\n",
              "\n",
              "          const docLinkHtml = 'Like what you see? Visit the ' +\n",
              "            '<a target=\"_blank\" href=https://colab.research.google.com/notebooks/data_table.ipynb>data table notebook</a>'\n",
              "            + ' to learn more about interactive tables.';\n",
              "          element.innerHTML = '';\n",
              "          dataTable['output_type'] = 'display_data';\n",
              "          await google.colab.output.renderOutput(dataTable, element);\n",
              "          const docLink = document.createElement('div');\n",
              "          docLink.innerHTML = docLinkHtml;\n",
              "          element.appendChild(docLink);\n",
              "        }\n",
              "      </script>\n",
              "    </div>\n",
              "  </div>\n",
              "  "
            ]
          },
          "metadata": {},
          "execution_count": 18
        }
      ]
    },
    {
      "cell_type": "code",
      "source": [
        "methodMetricsDf['CC'].describe()"
      ],
      "metadata": {
        "colab": {
          "base_uri": "https://localhost:8080/"
        },
        "id": "OptmtvfHv1q_",
        "outputId": "60d11c20-0796-4625-aef7-f8f7485f84d1"
      },
      "execution_count": null,
      "outputs": [
        {
          "output_type": "execute_result",
          "data": {
            "text/plain": [
              "count    178.000000\n",
              "mean       1.129213\n",
              "std        0.463517\n",
              "min        1.000000\n",
              "25%        1.000000\n",
              "50%        1.000000\n",
              "75%        1.000000\n",
              "max        3.000000\n",
              "Name: CC, dtype: float64"
            ]
          },
          "metadata": {},
          "execution_count": 19
        }
      ]
    },
    {
      "cell_type": "code",
      "source": [
        "methodMetricsDf['LOC'].corr(methodMetricsDf['PC'])"
      ],
      "metadata": {
        "colab": {
          "base_uri": "https://localhost:8080/"
        },
        "id": "T3p-Ba6WyFVc",
        "outputId": "109119f8-7eb0-4252-d299-1496566de92c"
      },
      "execution_count": null,
      "outputs": [
        {
          "output_type": "execute_result",
          "data": {
            "text/plain": [
              "0.4415287123392008"
            ]
          },
          "metadata": {},
          "execution_count": 20
        }
      ]
    },
    {
      "cell_type": "code",
      "source": [
        "methodMetricsDf.corr()"
      ],
      "metadata": {
        "colab": {
          "base_uri": "https://localhost:8080/",
          "height": 206
        },
        "id": "jFHzbW-iyPJl",
        "outputId": "b804abb0-802f-4a15-e21b-eff210883be3"
      },
      "execution_count": null,
      "outputs": [
        {
          "output_type": "execute_result",
          "data": {
            "text/plain": [
              "              LOC        CC        PC   Line no    IsTest\n",
              "LOC      1.000000  0.128840  0.441529 -0.167261  0.241176\n",
              "CC       0.128840  1.000000  0.111539 -0.023706 -0.099461\n",
              "PC       0.441529  0.111539  1.000000 -0.284189 -0.242910\n",
              "Line no -0.167261 -0.023706 -0.284189  1.000000 -0.143892\n",
              "IsTest   0.241176 -0.099461 -0.242910 -0.143892  1.000000"
            ],
            "text/html": [
              "\n",
              "  <div id=\"df-e3e9f978-0f32-4b42-8d3a-f22ef48435ac\">\n",
              "    <div class=\"colab-df-container\">\n",
              "      <div>\n",
              "<style scoped>\n",
              "    .dataframe tbody tr th:only-of-type {\n",
              "        vertical-align: middle;\n",
              "    }\n",
              "\n",
              "    .dataframe tbody tr th {\n",
              "        vertical-align: top;\n",
              "    }\n",
              "\n",
              "    .dataframe thead th {\n",
              "        text-align: right;\n",
              "    }\n",
              "</style>\n",
              "<table border=\"1\" class=\"dataframe\">\n",
              "  <thead>\n",
              "    <tr style=\"text-align: right;\">\n",
              "      <th></th>\n",
              "      <th>LOC</th>\n",
              "      <th>CC</th>\n",
              "      <th>PC</th>\n",
              "      <th>Line no</th>\n",
              "      <th>IsTest</th>\n",
              "    </tr>\n",
              "  </thead>\n",
              "  <tbody>\n",
              "    <tr>\n",
              "      <th>LOC</th>\n",
              "      <td>1.000000</td>\n",
              "      <td>0.128840</td>\n",
              "      <td>0.441529</td>\n",
              "      <td>-0.167261</td>\n",
              "      <td>0.241176</td>\n",
              "    </tr>\n",
              "    <tr>\n",
              "      <th>CC</th>\n",
              "      <td>0.128840</td>\n",
              "      <td>1.000000</td>\n",
              "      <td>0.111539</td>\n",
              "      <td>-0.023706</td>\n",
              "      <td>-0.099461</td>\n",
              "    </tr>\n",
              "    <tr>\n",
              "      <th>PC</th>\n",
              "      <td>0.441529</td>\n",
              "      <td>0.111539</td>\n",
              "      <td>1.000000</td>\n",
              "      <td>-0.284189</td>\n",
              "      <td>-0.242910</td>\n",
              "    </tr>\n",
              "    <tr>\n",
              "      <th>Line no</th>\n",
              "      <td>-0.167261</td>\n",
              "      <td>-0.023706</td>\n",
              "      <td>-0.284189</td>\n",
              "      <td>1.000000</td>\n",
              "      <td>-0.143892</td>\n",
              "    </tr>\n",
              "    <tr>\n",
              "      <th>IsTest</th>\n",
              "      <td>0.241176</td>\n",
              "      <td>-0.099461</td>\n",
              "      <td>-0.242910</td>\n",
              "      <td>-0.143892</td>\n",
              "      <td>1.000000</td>\n",
              "    </tr>\n",
              "  </tbody>\n",
              "</table>\n",
              "</div>\n",
              "      <button class=\"colab-df-convert\" onclick=\"convertToInteractive('df-e3e9f978-0f32-4b42-8d3a-f22ef48435ac')\"\n",
              "              title=\"Convert this dataframe to an interactive table.\"\n",
              "              style=\"display:none;\">\n",
              "        \n",
              "  <svg xmlns=\"http://www.w3.org/2000/svg\" height=\"24px\"viewBox=\"0 0 24 24\"\n",
              "       width=\"24px\">\n",
              "    <path d=\"M0 0h24v24H0V0z\" fill=\"none\"/>\n",
              "    <path d=\"M18.56 5.44l.94 2.06.94-2.06 2.06-.94-2.06-.94-.94-2.06-.94 2.06-2.06.94zm-11 1L8.5 8.5l.94-2.06 2.06-.94-2.06-.94L8.5 2.5l-.94 2.06-2.06.94zm10 10l.94 2.06.94-2.06 2.06-.94-2.06-.94-.94-2.06-.94 2.06-2.06.94z\"/><path d=\"M17.41 7.96l-1.37-1.37c-.4-.4-.92-.59-1.43-.59-.52 0-1.04.2-1.43.59L10.3 9.45l-7.72 7.72c-.78.78-.78 2.05 0 2.83L4 21.41c.39.39.9.59 1.41.59.51 0 1.02-.2 1.41-.59l7.78-7.78 2.81-2.81c.8-.78.8-2.07 0-2.86zM5.41 20L4 18.59l7.72-7.72 1.47 1.35L5.41 20z\"/>\n",
              "  </svg>\n",
              "      </button>\n",
              "      \n",
              "  <style>\n",
              "    .colab-df-container {\n",
              "      display:flex;\n",
              "      flex-wrap:wrap;\n",
              "      gap: 12px;\n",
              "    }\n",
              "\n",
              "    .colab-df-convert {\n",
              "      background-color: #E8F0FE;\n",
              "      border: none;\n",
              "      border-radius: 50%;\n",
              "      cursor: pointer;\n",
              "      display: none;\n",
              "      fill: #1967D2;\n",
              "      height: 32px;\n",
              "      padding: 0 0 0 0;\n",
              "      width: 32px;\n",
              "    }\n",
              "\n",
              "    .colab-df-convert:hover {\n",
              "      background-color: #E2EBFA;\n",
              "      box-shadow: 0px 1px 2px rgba(60, 64, 67, 0.3), 0px 1px 3px 1px rgba(60, 64, 67, 0.15);\n",
              "      fill: #174EA6;\n",
              "    }\n",
              "\n",
              "    [theme=dark] .colab-df-convert {\n",
              "      background-color: #3B4455;\n",
              "      fill: #D2E3FC;\n",
              "    }\n",
              "\n",
              "    [theme=dark] .colab-df-convert:hover {\n",
              "      background-color: #434B5C;\n",
              "      box-shadow: 0px 1px 3px 1px rgba(0, 0, 0, 0.15);\n",
              "      filter: drop-shadow(0px 1px 2px rgba(0, 0, 0, 0.3));\n",
              "      fill: #FFFFFF;\n",
              "    }\n",
              "  </style>\n",
              "\n",
              "      <script>\n",
              "        const buttonEl =\n",
              "          document.querySelector('#df-e3e9f978-0f32-4b42-8d3a-f22ef48435ac button.colab-df-convert');\n",
              "        buttonEl.style.display =\n",
              "          google.colab.kernel.accessAllowed ? 'block' : 'none';\n",
              "\n",
              "        async function convertToInteractive(key) {\n",
              "          const element = document.querySelector('#df-e3e9f978-0f32-4b42-8d3a-f22ef48435ac');\n",
              "          const dataTable =\n",
              "            await google.colab.kernel.invokeFunction('convertToInteractive',\n",
              "                                                     [key], {});\n",
              "          if (!dataTable) return;\n",
              "\n",
              "          const docLinkHtml = 'Like what you see? Visit the ' +\n",
              "            '<a target=\"_blank\" href=https://colab.research.google.com/notebooks/data_table.ipynb>data table notebook</a>'\n",
              "            + ' to learn more about interactive tables.';\n",
              "          element.innerHTML = '';\n",
              "          dataTable['output_type'] = 'display_data';\n",
              "          await google.colab.output.renderOutput(dataTable, element);\n",
              "          const docLink = document.createElement('div');\n",
              "          docLink.innerHTML = docLinkHtml;\n",
              "          element.appendChild(docLink);\n",
              "        }\n",
              "      </script>\n",
              "    </div>\n",
              "  </div>\n",
              "  "
            ]
          },
          "metadata": {},
          "execution_count": 23
        }
      ]
    },
    {
      "cell_type": "code",
      "source": [
        "corr = methodMetricsDf.corr()\n",
        "fig, ax = plt.subplots(figsize=(11, 11))\n",
        "ax.matshow(corr)\n",
        "plt.xticks(range(len(corr.columns)), corr.columns)\n",
        "plt.yticks(range(len(corr.columns)), corr.columns)"
      ],
      "metadata": {
        "colab": {
          "base_uri": "https://localhost:8080/",
          "height": 823
        },
        "id": "VeAYAXRJyVbN",
        "outputId": "557e0f11-a37b-4607-8379-8b04d9200dd7"
      },
      "execution_count": null,
      "outputs": [
        {
          "output_type": "execute_result",
          "data": {
            "text/plain": [
              "([<matplotlib.axis.YTick at 0x7f1c9ef79e80>,\n",
              "  <matplotlib.axis.YTick at 0x7f1c9ef79700>,\n",
              "  <matplotlib.axis.YTick at 0x7f1c9ef755b0>,\n",
              "  <matplotlib.axis.YTick at 0x7f1c9ef2e430>,\n",
              "  <matplotlib.axis.YTick at 0x7f1c9ef2b670>],\n",
              " [Text(0, 0, 'LOC'),\n",
              "  Text(0, 1, 'CC'),\n",
              "  Text(0, 2, 'PC'),\n",
              "  Text(0, 3, 'Line no'),\n",
              "  Text(0, 4, 'IsTest')])"
            ]
          },
          "metadata": {},
          "execution_count": 24
        },
        {
          "output_type": "display_data",
          "data": {
            "text/plain": [
              "<Figure size 792x792 with 1 Axes>"
            ],
            "image/png": "[encoded data removed]"
          },
          "metadata": {
            "needs_background": "light"
          }
        }
      ]
    },
    {
      "cell_type": "markdown",
      "source": [
        "### Smells de Implementação\n",
        "\n",
        "* Abstract Function Call From Constructor\n",
        "* Complex Conditional\n",
        "* Complex Method\n",
        "* Empty catch clause\n",
        "* Long Identifier\n",
        "* Long Method\n",
        "* Long Parameter List\n",
        "* Long Statement\n",
        "* Magic Number\n",
        "* Missing default"
      ],
      "metadata": {
        "id": "iq02G-sCwfiI"
      }
    },
    {
      "cell_type": "code",
      "source": [
        "counts = implementationDf['Implementation Smell'].value_counts().sort_index()\n",
        "plt.bar(counts.index, counts.values)\n",
        "plt.xlabel('Smell')\n",
        "plt.xticks(rotation=45)\n",
        "plt.ylabel('Ocorrências')\n",
        "plt.show()"
      ],
      "metadata": {
        "colab": {
          "base_uri": "https://localhost:8080/",
          "height": 347
        },
        "id": "iYmaoPTMnRnZ",
        "outputId": "46a4f0f9-47ed-4351-dd6e-1814f0bc44ea"
      },
      "execution_count": null,
      "outputs": [
        {
          "output_type": "display_data",
          "data": {
            "text/plain": [
              "<Figure size 432x288 with 1 Axes>"
            ],
            "image/png": "[encoded data removed]"
          },
          "metadata": {
            "needs_background": "light"
          }
        }
      ]
    },
    {
      "cell_type": "code",
      "source": [
        "pd.crosstab(implementationDf['Type Name'],implementationDf['Implementation Smell'])"
      ],
      "metadata": {
        "colab": {
          "base_uri": "https://localhost:8080/",
          "height": 896
        },
        "id": "hOY05nXCxF7D",
        "outputId": "0f5d4958-6785-4b68-d7b4-ccda9a77447e"
      },
      "execution_count": null,
      "outputs": [
        {
          "output_type": "execute_result",
          "data": {
            "text/plain": [
              "Implementation Smell                    Long Identifier  Long Parameter List  \\\n",
              "Type Name                                                                      \n",
              "AdicionaItensPlanodeEstudos                           0                    0   \n",
              "AdicionaItensTemas                                    1                    0   \n",
              "Aluno                                                 0                    0   \n",
              "AlunoPodeAcessarOPlanoDeEstudosTest                   2                    0   \n",
              "CampoUnicoValidator                                   0                    0   \n",
              "DadosDoPlanoResumidoController                        0                    0   \n",
              "DadosDoPlanoResumidoControllerTest                    0                    0   \n",
              "DetalhesDoPlanoDeEstudosController                    3                    0   \n",
              "DetalhesDoPlanoDeEstudosControllerTest                0                    0   \n",
              "DetalhesDoTemaController                              3                    0   \n",
              "DetalhesDoTemaControllerTest                          0                    0   \n",
              "HandoraLogBuilder                                     0                    0   \n",
              "IndexaPlanoDeEstudos                                  0                    0   \n",
              "IndexaPlanoDeEstudosTest                              0                    0   \n",
              "InscricaoPlanoController                              0                    0   \n",
              "InscricaoPlanoControllerTest                          0                    0   \n",
              "NovoPlanoDeEstudosController                          0                    0   \n",
              "NovoPlanoDeEstudosControllerTest                      0                    0   \n",
              "NovoPlanoDeEstudosRequest                             0                    1   \n",
              "PlanoDeEstudos                                        0                    1   \n",
              "PlanoDeEstudosFactory                                 0                    0   \n",
              "PlanosSeguidosPeloAlunoControllerTest                 0                    0   \n",
              "Tema                                                  1                    1   \n",
              "TemaRequest                                           0                    0   \n",
              "ValidationErrorHandler                                0                    0   \n",
              "WebSecurityConfig                                     1                    0   \n",
              "\n",
              "Implementation Smell                    Long Statement  Magic Number  \n",
              "Type Name                                                             \n",
              "AdicionaItensPlanodeEstudos                          4             0  \n",
              "AdicionaItensTemas                                   6             0  \n",
              "Aluno                                                2             0  \n",
              "AlunoPodeAcessarOPlanoDeEstudosTest                  1             0  \n",
              "CampoUnicoValidator                                  2             0  \n",
              "DadosDoPlanoResumidoController                       1             1  \n",
              "DadosDoPlanoResumidoControllerTest                   3             0  \n",
              "DetalhesDoPlanoDeEstudosController                   2             0  \n",
              "DetalhesDoPlanoDeEstudosControllerTest               3             0  \n",
              "DetalhesDoTemaController                             2             0  \n",
              "DetalhesDoTemaControllerTest                         3             0  \n",
              "HandoraLogBuilder                                    0             1  \n",
              "IndexaPlanoDeEstudos                                 3             0  \n",
              "IndexaPlanoDeEstudosTest                             0             2  \n",
              "InscricaoPlanoController                             2             1  \n",
              "InscricaoPlanoControllerTest                         3             0  \n",
              "NovoPlanoDeEstudosController                         3             0  \n",
              "NovoPlanoDeEstudosControllerTest                     5             3  \n",
              "NovoPlanoDeEstudosRequest                            0             1  \n",
              "PlanoDeEstudos                                       1             0  \n",
              "PlanoDeEstudosFactory                                3             0  \n",
              "PlanosSeguidosPeloAlunoControllerTest                4             0  \n",
              "Tema                                                 1             0  \n",
              "TemaRequest                                          0             1  \n",
              "ValidationErrorHandler                               1             0  \n",
              "WebSecurityConfig                                    1             0  "
            ],
            "text/html": [
              "\n",
              "  <div id=\"df-b34e9214-4dd4-4fc2-a43e-3d583e2b67db\">\n",
              "    <div class=\"colab-df-container\">\n",
              "      <div>\n",
              "<style scoped>\n",
              "    .dataframe tbody tr th:only-of-type {\n",
              "        vertical-align: middle;\n",
              "    }\n",
              "\n",
              "    .dataframe tbody tr th {\n",
              "        vertical-align: top;\n",
              "    }\n",
              "\n",
              "    .dataframe thead th {\n",
              "        text-align: right;\n",
              "    }\n",
              "</style>\n",
              "<table border=\"1\" class=\"dataframe\">\n",
              "  <thead>\n",
              "    <tr style=\"text-align: right;\">\n",
              "      <th>Implementation Smell</th>\n",
              "      <th>Long Identifier</th>\n",
              "      <th>Long Parameter List</th>\n",
              "      <th>Long Statement</th>\n",
              "      <th>Magic Number</th>\n",
              "    </tr>\n",
              "    <tr>\n",
              "      <th>Type Name</th>\n",
              "      <th></th>\n",
              "      <th></th>\n",
              "      <th></th>\n",
              "      <th></th>\n",
              "    </tr>\n",
              "  </thead>\n",
              "  <tbody>\n",
              "    <tr>\n",
              "      <th>AdicionaItensPlanodeEstudos</th>\n",
              "      <td>0</td>\n",
              "      <td>0</td>\n",
              "      <td>4</td>\n",
              "      <td>0</td>\n",
              "    </tr>\n",
              "    <tr>\n",
              "      <th>AdicionaItensTemas</th>\n",
              "      <td>1</td>\n",
              "      <td>0</td>\n",
              "      <td>6</td>\n",
              "      <td>0</td>\n",
              "    </tr>\n",
              "    <tr>\n",
              "      <th>Aluno</th>\n",
              "      <td>0</td>\n",
              "      <td>0</td>\n",
              "      <td>2</td>\n",
              "      <td>0</td>\n",
              "    </tr>\n",
              "    <tr>\n",
              "      <th>AlunoPodeAcessarOPlanoDeEstudosTest</th>\n",
              "      <td>2</td>\n",
              "      <td>0</td>\n",
              "      <td>1</td>\n",
              "      <td>0</td>\n",
              "    </tr>\n",
              "    <tr>\n",
              "      <th>CampoUnicoValidator</th>\n",
              "      <td>0</td>\n",
              "      <td>0</td>\n",
              "      <td>2</td>\n",
              "      <td>0</td>\n",
              "    </tr>\n",
              "    <tr>\n",
              "      <th>DadosDoPlanoResumidoController</th>\n",
              "      <td>0</td>\n",
              "      <td>0</td>\n",
              "      <td>1</td>\n",
              "      <td>1</td>\n",
              "    </tr>\n",
              "    <tr>\n",
              "      <th>DadosDoPlanoResumidoControllerTest</th>\n",
              "      <td>0</td>\n",
              "      <td>0</td>\n",
              "      <td>3</td>\n",
              "      <td>0</td>\n",
              "    </tr>\n",
              "    <tr>\n",
              "      <th>DetalhesDoPlanoDeEstudosController</th>\n",
              "      <td>3</td>\n",
              "      <td>0</td>\n",
              "      <td>2</td>\n",
              "      <td>0</td>\n",
              "    </tr>\n",
              "    <tr>\n",
              "      <th>DetalhesDoPlanoDeEstudosControllerTest</th>\n",
              "      <td>0</td>\n",
              "      <td>0</td>\n",
              "      <td>3</td>\n",
              "      <td>0</td>\n",
              "    </tr>\n",
              "    <tr>\n",
              "      <th>DetalhesDoTemaController</th>\n",
              "      <td>3</td>\n",
              "      <td>0</td>\n",
              "      <td>2</td>\n",
              "      <td>0</td>\n",
              "    </tr>\n",
              "    <tr>\n",
              "      <th>DetalhesDoTemaControllerTest</th>\n",
              "      <td>0</td>\n",
              "      <td>0</td>\n",
              "      <td>3</td>\n",
              "      <td>0</td>\n",
              "    </tr>\n",
              "    <tr>\n",
              "      <th>HandoraLogBuilder</th>\n",
              "      <td>0</td>\n",
              "      <td>0</td>\n",
              "      <td>0</td>\n",
              "      <td>1</td>\n",
              "    </tr>\n",
              "    <tr>\n",
              "      <th>IndexaPlanoDeEstudos</th>\n",
              "      <td>0</td>\n",
              "      <td>0</td>\n",
              "      <td>3</td>\n",
              "      <td>0</td>\n",
              "    </tr>\n",
              "    <tr>\n",
              "      <th>IndexaPlanoDeEstudosTest</th>\n",
              "      <td>0</td>\n",
              "      <td>0</td>\n",
              "      <td>0</td>\n",
              "      <td>2</td>\n",
              "    </tr>\n",
              "    <tr>\n",
              "      <th>InscricaoPlanoController</th>\n",
              "      <td>0</td>\n",
              "      <td>0</td>\n",
              "      <td>2</td>\n",
              "      <td>1</td>\n",
              "    </tr>\n",
              "    <tr>\n",
              "      <th>InscricaoPlanoControllerTest</th>\n",
              "      <td>0</td>\n",
              "      <td>0</td>\n",
              "      <td>3</td>\n",
              "      <td>0</td>\n",
              "    </tr>\n",
              "    <tr>\n",
              "      <th>NovoPlanoDeEstudosController</th>\n",
              "      <td>0</td>\n",
              "      <td>0</td>\n",
              "      <td>3</td>\n",
              "      <td>0</td>\n",
              "    </tr>\n",
              "    <tr>\n",
              "      <th>NovoPlanoDeEstudosControllerTest</th>\n",
              "      <td>0</td>\n",
              "      <td>0</td>\n",
              "      <td>5</td>\n",
              "      <td>3</td>\n",
              "    </tr>\n",
              "    <tr>\n",
              "      <th>NovoPlanoDeEstudosRequest</th>\n",
              "      <td>0</td>\n",
              "      <td>1</td>\n",
              "      <td>0</td>\n",
              "      <td>1</td>\n",
              "    </tr>\n",
              "    <tr>\n",
              "      <th>PlanoDeEstudos</th>\n",
              "      <td>0</td>\n",
              "      <td>1</td>\n",
              "      <td>1</td>\n",
              "      <td>0</td>\n",
              "    </tr>\n",
              "    <tr>\n",
              "      <th>PlanoDeEstudosFactory</th>\n",
              "      <td>0</td>\n",
              "      <td>0</td>\n",
              "      <td>3</td>\n",
              "      <td>0</td>\n",
              "    </tr>\n",
              "    <tr>\n",
              "      <th>PlanosSeguidosPeloAlunoControllerTest</th>\n",
              "      <td>0</td>\n",
              "      <td>0</td>\n",
              "      <td>4</td>\n",
              "      <td>0</td>\n",
              "    </tr>\n",
              "    <tr>\n",
              "      <th>Tema</th>\n",
              "      <td>1</td>\n",
              "      <td>1</td>\n",
              "      <td>1</td>\n",
              "      <td>0</td>\n",
              "    </tr>\n",
              "    <tr>\n",
              "      <th>TemaRequest</th>\n",
              "      <td>0</td>\n",
              "      <td>0</td>\n",
              "      <td>0</td>\n",
              "      <td>1</td>\n",
              "    </tr>\n",
              "    <tr>\n",
              "      <th>ValidationErrorHandler</th>\n",
              "      <td>0</td>\n",
              "      <td>0</td>\n",
              "      <td>1</td>\n",
              "      <td>0</td>\n",
              "    </tr>\n",
              "    <tr>\n",
              "      <th>WebSecurityConfig</th>\n",
              "      <td>1</td>\n",
              "      <td>0</td>\n",
              "      <td>1</td>\n",
              "      <td>0</td>\n",
              "    </tr>\n",
              "  </tbody>\n",
              "</table>\n",
              "</div>\n",
              "      <button class=\"colab-df-convert\" onclick=\"convertToInteractive('df-b34e9214-4dd4-4fc2-a43e-3d583e2b67db')\"\n",
              "              title=\"Convert this dataframe to an interactive table.\"\n",
              "              style=\"display:none;\">\n",
              "        \n",
              "  <svg xmlns=\"http://www.w3.org/2000/svg\" height=\"24px\"viewBox=\"0 0 24 24\"\n",
              "       width=\"24px\">\n",
              "    <path d=\"M0 0h24v24H0V0z\" fill=\"none\"/>\n",
              "    <path d=\"M18.56 5.44l.94 2.06.94-2.06 2.06-.94-2.06-.94-.94-2.06-.94 2.06-2.06.94zm-11 1L8.5 8.5l.94-2.06 2.06-.94-2.06-.94L8.5 2.5l-.94 2.06-2.06.94zm10 10l.94 2.06.94-2.06 2.06-.94-2.06-.94-.94-2.06-.94 2.06-2.06.94z\"/><path d=\"M17.41 7.96l-1.37-1.37c-.4-.4-.92-.59-1.43-.59-.52 0-1.04.2-1.43.59L10.3 9.45l-7.72 7.72c-.78.78-.78 2.05 0 2.83L4 21.41c.39.39.9.59 1.41.59.51 0 1.02-.2 1.41-.59l7.78-7.78 2.81-2.81c.8-.78.8-2.07 0-2.86zM5.41 20L4 18.59l7.72-7.72 1.47 1.35L5.41 20z\"/>\n",
              "  </svg>\n",
              "      </button>\n",
              "      \n",
              "  <style>\n",
              "    .colab-df-container {\n",
              "      display:flex;\n",
              "      flex-wrap:wrap;\n",
              "      gap: 12px;\n",
              "    }\n",
              "\n",
              "    .colab-df-convert {\n",
              "      background-color: #E8F0FE;\n",
              "      border: none;\n",
              "      border-radius: 50%;\n",
              "      cursor: pointer;\n",
              "      display: none;\n",
              "      fill: #1967D2;\n",
              "      height: 32px;\n",
              "      padding: 0 0 0 0;\n",
              "      width: 32px;\n",
              "    }\n",
              "\n",
              "    .colab-df-convert:hover {\n",
              "      background-color: #E2EBFA;\n",
              "      box-shadow: 0px 1px 2px rgba(60, 64, 67, 0.3), 0px 1px 3px 1px rgba(60, 64, 67, 0.15);\n",
              "      fill: #174EA6;\n",
              "    }\n",
              "\n",
              "    [theme=dark] .colab-df-convert {\n",
              "      background-color: #3B4455;\n",
              "      fill: #D2E3FC;\n",
              "    }\n",
              "\n",
              "    [theme=dark] .colab-df-convert:hover {\n",
              "      background-color: #434B5C;\n",
              "      box-shadow: 0px 1px 3px 1px rgba(0, 0, 0, 0.15);\n",
              "      filter: drop-shadow(0px 1px 2px rgba(0, 0, 0, 0.3));\n",
              "      fill: #FFFFFF;\n",
              "    }\n",
              "  </style>\n",
              "\n",
              "      <script>\n",
              "        const buttonEl =\n",
              "          document.querySelector('#df-b34e9214-4dd4-4fc2-a43e-3d583e2b67db button.colab-df-convert');\n",
              "        buttonEl.style.display =\n",
              "          google.colab.kernel.accessAllowed ? 'block' : 'none';\n",
              "\n",
              "        async function convertToInteractive(key) {\n",
              "          const element = document.querySelector('#df-b34e9214-4dd4-4fc2-a43e-3d583e2b67db');\n",
              "          const dataTable =\n",
              "            await google.colab.kernel.invokeFunction('convertToInteractive',\n",
              "                                                     [key], {});\n",
              "          if (!dataTable) return;\n",
              "\n",
              "          const docLinkHtml = 'Like what you see? Visit the ' +\n",
              "            '<a target=\"_blank\" href=https://colab.research.google.com/notebooks/data_table.ipynb>data table notebook</a>'\n",
              "            + ' to learn more about interactive tables.';\n",
              "          element.innerHTML = '';\n",
              "          dataTable['output_type'] = 'display_data';\n",
              "          await google.colab.output.renderOutput(dataTable, element);\n",
              "          const docLink = document.createElement('div');\n",
              "          docLink.innerHTML = docLinkHtml;\n",
              "          element.appendChild(docLink);\n",
              "        }\n",
              "      </script>\n",
              "    </div>\n",
              "  </div>\n",
              "  "
            ]
          },
          "metadata": {},
          "execution_count": 26
        }
      ]
    },
    {
      "cell_type": "markdown",
      "source": [
        "### Smells de Arquitetura\n",
        "\n",
        "* Cyclic Dependency: This smell arises when two or more architecture components depend on each other directly or indirectly.\n",
        "* Unstable Dependency: This smell arises when a component depends on other components that are less stable than itself.\n",
        "* Ambiguous Interface: This smell arises when a component offers only a single, general entry-point into the component.\n",
        "* God Component: This smell occurs when a component is excessively large either in the terms of LOC or number of classes.\n",
        "* Feature Concentration: This smell occurs when a component realizes more than one architectural concern/feature.\n",
        "* Scattered Functionality: This smell arises when multiple components are responsible for realizing the same high-level concern.\n",
        "* Dense Structure: This smell arises when components have excessive and dense dependencies without any particular structure."
      ],
      "metadata": {
        "id": "_doOPPi2yowu"
      }
    },
    {
      "cell_type": "code",
      "source": [
        "counts = architectureDf['Architecture Smell'].value_counts().sort_index()\n",
        "plt.bar(counts.index, counts.values)\n",
        "plt.xlabel('Smell de Arquitetura')\n",
        "plt.xticks(rotation=45)\n",
        "plt.ylabel('Ocorrências')\n",
        "plt.show()"
      ],
      "metadata": {
        "colab": {
          "base_uri": "https://localhost:8080/",
          "height": 355
        },
        "id": "5rVYXaV4nUJU",
        "outputId": "e8f0ff17-4037-4c18-d952-0a51641c3f7b"
      },
      "execution_count": null,
      "outputs": [
        {
          "output_type": "display_data",
          "data": {
            "text/plain": [
              "<Figure size 432x288 with 1 Axes>"
            ],
            "image/png": "[encoded data removed]"
          },
          "metadata": {
            "needs_background": "light"
          }
        }
      ]
    },
    {
      "cell_type": "code",
      "source": [
        "pd.crosstab(architectureDf['Package Name'],architectureDf['Architecture Smell'])"
      ],
      "metadata": {
        "colab": {
          "base_uri": "https://localhost:8080/",
          "height": 300
        },
        "id": "vMut5BuKc1-z",
        "outputId": "133ac124-a486-4300-b01d-2dc75d9fc5d2"
      },
      "execution_count": null,
      "outputs": [
        {
          "output_type": "execute_result",
          "data": {
            "text/plain": [
              "Architecture Smell                                  Cyclic Dependency  \\\n",
              "Package Name                                                            \n",
              "br.com.zup.handora.planodeestudos.alunos                            3   \n",
              "br.com.zup.handora.planodeestudos.clientes.inde...                  2   \n",
              "br.com.zup.handora.planodeestudos.compartilhado                     0   \n",
              "br.com.zup.handora.planodeestudos.plano                             3   \n",
              "br.com.zup.handora.planodeestudos.plano.partial...                  2   \n",
              "br.com.zup.handora.planodeestudos.plano.partial...                  3   \n",
              "br.com.zup.handora.planodeestudos.utils                             2   \n",
              "\n",
              "Architecture Smell                                  Feature Concentration  \\\n",
              "Package Name                                                                \n",
              "br.com.zup.handora.planodeestudos.alunos                                1   \n",
              "br.com.zup.handora.planodeestudos.clientes.inde...                      0   \n",
              "br.com.zup.handora.planodeestudos.compartilhado                         1   \n",
              "br.com.zup.handora.planodeestudos.plano                                 1   \n",
              "br.com.zup.handora.planodeestudos.plano.partial...                      0   \n",
              "br.com.zup.handora.planodeestudos.plano.partial...                      0   \n",
              "br.com.zup.handora.planodeestudos.utils                                 0   \n",
              "\n",
              "Architecture Smell                                  God Component  \\\n",
              "Package Name                                                        \n",
              "br.com.zup.handora.planodeestudos.alunos                        0   \n",
              "br.com.zup.handora.planodeestudos.clientes.inde...              0   \n",
              "br.com.zup.handora.planodeestudos.compartilhado                 0   \n",
              "br.com.zup.handora.planodeestudos.plano                         1   \n",
              "br.com.zup.handora.planodeestudos.plano.partial...              0   \n",
              "br.com.zup.handora.planodeestudos.plano.partial...              0   \n",
              "br.com.zup.handora.planodeestudos.utils                         0   \n",
              "\n",
              "Architecture Smell                                  Unstable Dependency  \n",
              "Package Name                                                             \n",
              "br.com.zup.handora.planodeestudos.alunos                              1  \n",
              "br.com.zup.handora.planodeestudos.clientes.inde...                    0  \n",
              "br.com.zup.handora.planodeestudos.compartilhado                       0  \n",
              "br.com.zup.handora.planodeestudos.plano                               1  \n",
              "br.com.zup.handora.planodeestudos.plano.partial...                    1  \n",
              "br.com.zup.handora.planodeestudos.plano.partial...                    1  \n",
              "br.com.zup.handora.planodeestudos.utils                               0  "
            ],
            "text/html": [
              "\n",
              "  <div id=\"df-bd0f50d5-1d56-4da1-95bb-03e342c5a22d\">\n",
              "    <div class=\"colab-df-container\">\n",
              "      <div>\n",
              "<style scoped>\n",
              "    .dataframe tbody tr th:only-of-type {\n",
              "        vertical-align: middle;\n",
              "    }\n",
              "\n",
              "    .dataframe tbody tr th {\n",
              "        vertical-align: top;\n",
              "    }\n",
              "\n",
              "    .dataframe thead th {\n",
              "        text-align: right;\n",
              "    }\n",
              "</style>\n",
              "<table border=\"1\" class=\"dataframe\">\n",
              "  <thead>\n",
              "    <tr style=\"text-align: right;\">\n",
              "      <th>Architecture Smell</th>\n",
              "      <th>Cyclic Dependency</th>\n",
              "      <th>Feature Concentration</th>\n",
              "      <th>God Component</th>\n",
              "      <th>Unstable Dependency</th>\n",
              "    </tr>\n",
              "    <tr>\n",
              "      <th>Package Name</th>\n",
              "      <th></th>\n",
              "      <th></th>\n",
              "      <th></th>\n",
              "      <th></th>\n",
              "    </tr>\n",
              "  </thead>\n",
              "  <tbody>\n",
              "    <tr>\n",
              "      <th>br.com.zup.handora.planodeestudos.alunos</th>\n",
              "      <td>3</td>\n",
              "      <td>1</td>\n",
              "      <td>0</td>\n",
              "      <td>1</td>\n",
              "    </tr>\n",
              "    <tr>\n",
              "      <th>br.com.zup.handora.planodeestudos.clientes.indexador</th>\n",
              "      <td>2</td>\n",
              "      <td>0</td>\n",
              "      <td>0</td>\n",
              "      <td>0</td>\n",
              "    </tr>\n",
              "    <tr>\n",
              "      <th>br.com.zup.handora.planodeestudos.compartilhado</th>\n",
              "      <td>0</td>\n",
              "      <td>1</td>\n",
              "      <td>0</td>\n",
              "      <td>0</td>\n",
              "    </tr>\n",
              "    <tr>\n",
              "      <th>br.com.zup.handora.planodeestudos.plano</th>\n",
              "      <td>3</td>\n",
              "      <td>1</td>\n",
              "      <td>1</td>\n",
              "      <td>1</td>\n",
              "    </tr>\n",
              "    <tr>\n",
              "      <th>br.com.zup.handora.planodeestudos.plano.partials.plano</th>\n",
              "      <td>2</td>\n",
              "      <td>0</td>\n",
              "      <td>0</td>\n",
              "      <td>1</td>\n",
              "    </tr>\n",
              "    <tr>\n",
              "      <th>br.com.zup.handora.planodeestudos.plano.partials.tema</th>\n",
              "      <td>3</td>\n",
              "      <td>0</td>\n",
              "      <td>0</td>\n",
              "      <td>1</td>\n",
              "    </tr>\n",
              "    <tr>\n",
              "      <th>br.com.zup.handora.planodeestudos.utils</th>\n",
              "      <td>2</td>\n",
              "      <td>0</td>\n",
              "      <td>0</td>\n",
              "      <td>0</td>\n",
              "    </tr>\n",
              "  </tbody>\n",
              "</table>\n",
              "</div>\n",
              "      <button class=\"colab-df-convert\" onclick=\"convertToInteractive('df-bd0f50d5-1d56-4da1-95bb-03e342c5a22d')\"\n",
              "              title=\"Convert this dataframe to an interactive table.\"\n",
              "              style=\"display:none;\">\n",
              "        \n",
              "  <svg xmlns=\"http://www.w3.org/2000/svg\" height=\"24px\"viewBox=\"0 0 24 24\"\n",
              "       width=\"24px\">\n",
              "    <path d=\"M0 0h24v24H0V0z\" fill=\"none\"/>\n",
              "    <path d=\"M18.56 5.44l.94 2.06.94-2.06 2.06-.94-2.06-.94-.94-2.06-.94 2.06-2.06.94zm-11 1L8.5 8.5l.94-2.06 2.06-.94-2.06-.94L8.5 2.5l-.94 2.06-2.06.94zm10 10l.94 2.06.94-2.06 2.06-.94-2.06-.94-.94-2.06-.94 2.06-2.06.94z\"/><path d=\"M17.41 7.96l-1.37-1.37c-.4-.4-.92-.59-1.43-.59-.52 0-1.04.2-1.43.59L10.3 9.45l-7.72 7.72c-.78.78-.78 2.05 0 2.83L4 21.41c.39.39.9.59 1.41.59.51 0 1.02-.2 1.41-.59l7.78-7.78 2.81-2.81c.8-.78.8-2.07 0-2.86zM5.41 20L4 18.59l7.72-7.72 1.47 1.35L5.41 20z\"/>\n",
              "  </svg>\n",
              "      </button>\n",
              "      \n",
              "  <style>\n",
              "    .colab-df-container {\n",
              "      display:flex;\n",
              "      flex-wrap:wrap;\n",
              "      gap: 12px;\n",
              "    }\n",
              "\n",
              "    .colab-df-convert {\n",
              "      background-color: #E8F0FE;\n",
              "      border: none;\n",
              "      border-radius: 50%;\n",
              "      cursor: pointer;\n",
              "      display: none;\n",
              "      fill: #1967D2;\n",
              "      height: 32px;\n",
              "      padding: 0 0 0 0;\n",
              "      width: 32px;\n",
              "    }\n",
              "\n",
              "    .colab-df-convert:hover {\n",
              "      background-color: #E2EBFA;\n",
              "      box-shadow: 0px 1px 2px rgba(60, 64, 67, 0.3), 0px 1px 3px 1px rgba(60, 64, 67, 0.15);\n",
              "      fill: #174EA6;\n",
              "    }\n",
              "\n",
              "    [theme=dark] .colab-df-convert {\n",
              "      background-color: #3B4455;\n",
              "      fill: #D2E3FC;\n",
              "    }\n",
              "\n",
              "    [theme=dark] .colab-df-convert:hover {\n",
              "      background-color: #434B5C;\n",
              "      box-shadow: 0px 1px 3px 1px rgba(0, 0, 0, 0.15);\n",
              "      filter: drop-shadow(0px 1px 2px rgba(0, 0, 0, 0.3));\n",
              "      fill: #FFFFFF;\n",
              "    }\n",
              "  </style>\n",
              "\n",
              "      <script>\n",
              "        const buttonEl =\n",
              "          document.querySelector('#df-bd0f50d5-1d56-4da1-95bb-03e342c5a22d button.colab-df-convert');\n",
              "        buttonEl.style.display =\n",
              "          google.colab.kernel.accessAllowed ? 'block' : 'none';\n",
              "\n",
              "        async function convertToInteractive(key) {\n",
              "          const element = document.querySelector('#df-bd0f50d5-1d56-4da1-95bb-03e342c5a22d');\n",
              "          const dataTable =\n",
              "            await google.colab.kernel.invokeFunction('convertToInteractive',\n",
              "                                                     [key], {});\n",
              "          if (!dataTable) return;\n",
              "\n",
              "          const docLinkHtml = 'Like what you see? Visit the ' +\n",
              "            '<a target=\"_blank\" href=https://colab.research.google.com/notebooks/data_table.ipynb>data table notebook</a>'\n",
              "            + ' to learn more about interactive tables.';\n",
              "          element.innerHTML = '';\n",
              "          dataTable['output_type'] = 'display_data';\n",
              "          await google.colab.output.renderOutput(dataTable, element);\n",
              "          const docLink = document.createElement('div');\n",
              "          docLink.innerHTML = docLinkHtml;\n",
              "          element.appendChild(docLink);\n",
              "        }\n",
              "      </script>\n",
              "    </div>\n",
              "  </div>\n",
              "  "
            ]
          },
          "metadata": {},
          "execution_count": 29
        }
      ]
    },
    {
      "cell_type": "markdown",
      "source": [
        "### Smells de Teste\n",
        "\n",
        "* Assertion roulette\n",
        "* Conditional test logic\n",
        "* Constructor initialization\n",
        "* Eager test\n",
        "* Empty test\n",
        "* Exception handling\n",
        "* Ignored test\n",
        "* Unknown test"
      ],
      "metadata": {
        "id": "AUGabv4vysP5"
      }
    },
    {
      "cell_type": "code",
      "source": [
        "counts = testDf['Test Smell'].value_counts().sort_index()\n",
        "plt.bar(counts.index, counts.values)\n",
        "plt.xlabel('Test Smell')\n",
        "plt.xticks(rotation=45)\n",
        "plt.ylabel('Ocorrências')\n",
        "plt.show()"
      ],
      "metadata": {
        "colab": {
          "base_uri": "https://localhost:8080/",
          "height": 339
        },
        "id": "woSx1BrhnXER",
        "outputId": "93d82f9d-c91e-4f56-9d67-4947c649aedc"
      },
      "execution_count": null,
      "outputs": [
        {
          "output_type": "display_data",
          "data": {
            "text/plain": [
              "<Figure size 432x288 with 1 Axes>"
            ],
            "image/png": "[encoded data removed]"
          },
          "metadata": {
            "needs_background": "light"
          }
        }
      ]
    },
    {
      "cell_type": "code",
      "source": [
        "pd.crosstab(testDf['Type Name'],testDf['Test Smell'])"
      ],
      "metadata": {
        "colab": {
          "base_uri": "https://localhost:8080/",
          "height": 238
        },
        "id": "5tKTV_DrdENc",
        "outputId": "747446a5-93a4-4fd9-ee5a-7a6b45b34355"
      },
      "execution_count": null,
      "outputs": [
        {
          "output_type": "execute_result",
          "data": {
            "text/plain": [
              "Test Smell                           Assertion roulette  Eager test  \\\n",
              "Type Name                                                             \n",
              "AlunoPodeAcessarOPlanoDeEstudosTest                   2           0   \n",
              "IndexaPlanoDeEstudosTest                              0           0   \n",
              "InscricaoPlanoControllerTest                          1           1   \n",
              "NovoPlanoDeEstudosControllerTest                      2           0   \n",
              "RegistraAlunoTest                                     2           2   \n",
              "\n",
              "Test Smell                           Missing assertion  \n",
              "Type Name                                               \n",
              "AlunoPodeAcessarOPlanoDeEstudosTest                  0  \n",
              "IndexaPlanoDeEstudosTest                             1  \n",
              "InscricaoPlanoControllerTest                         0  \n",
              "NovoPlanoDeEstudosControllerTest                     0  \n",
              "RegistraAlunoTest                                    0  "
            ],
            "text/html": [
              "\n",
              "  <div id=\"df-7c5b6390-dedc-4152-beec-6145b0656bf9\">\n",
              "    <div class=\"colab-df-container\">\n",
              "      <div>\n",
              "<style scoped>\n",
              "    .dataframe tbody tr th:only-of-type {\n",
              "        vertical-align: middle;\n",
              "    }\n",
              "\n",
              "    .dataframe tbody tr th {\n",
              "        vertical-align: top;\n",
              "    }\n",
              "\n",
              "    .dataframe thead th {\n",
              "        text-align: right;\n",
              "    }\n",
              "</style>\n",
              "<table border=\"1\" class=\"dataframe\">\n",
              "  <thead>\n",
              "    <tr style=\"text-align: right;\">\n",
              "      <th>Test Smell</th>\n",
              "      <th>Assertion roulette</th>\n",
              "      <th>Eager test</th>\n",
              "      <th>Missing assertion</th>\n",
              "    </tr>\n",
              "    <tr>\n",
              "      <th>Type Name</th>\n",
              "      <th></th>\n",
              "      <th></th>\n",
              "      <th></th>\n",
              "    </tr>\n",
              "  </thead>\n",
              "  <tbody>\n",
              "    <tr>\n",
              "      <th>AlunoPodeAcessarOPlanoDeEstudosTest</th>\n",
              "      <td>2</td>\n",
              "      <td>0</td>\n",
              "      <td>0</td>\n",
              "    </tr>\n",
              "    <tr>\n",
              "      <th>IndexaPlanoDeEstudosTest</th>\n",
              "      <td>0</td>\n",
              "      <td>0</td>\n",
              "      <td>1</td>\n",
              "    </tr>\n",
              "    <tr>\n",
              "      <th>InscricaoPlanoControllerTest</th>\n",
              "      <td>1</td>\n",
              "      <td>1</td>\n",
              "      <td>0</td>\n",
              "    </tr>\n",
              "    <tr>\n",
              "      <th>NovoPlanoDeEstudosControllerTest</th>\n",
              "      <td>2</td>\n",
              "      <td>0</td>\n",
              "      <td>0</td>\n",
              "    </tr>\n",
              "    <tr>\n",
              "      <th>RegistraAlunoTest</th>\n",
              "      <td>2</td>\n",
              "      <td>2</td>\n",
              "      <td>0</td>\n",
              "    </tr>\n",
              "  </tbody>\n",
              "</table>\n",
              "</div>\n",
              "      <button class=\"colab-df-convert\" onclick=\"convertToInteractive('df-7c5b6390-dedc-4152-beec-6145b0656bf9')\"\n",
              "              title=\"Convert this dataframe to an interactive table.\"\n",
              "              style=\"display:none;\">\n",
              "        \n",
              "  <svg xmlns=\"http://www.w3.org/2000/svg\" height=\"24px\"viewBox=\"0 0 24 24\"\n",
              "       width=\"24px\">\n",
              "    <path d=\"M0 0h24v24H0V0z\" fill=\"none\"/>\n",
              "    <path d=\"M18.56 5.44l.94 2.06.94-2.06 2.06-.94-2.06-.94-.94-2.06-.94 2.06-2.06.94zm-11 1L8.5 8.5l.94-2.06 2.06-.94-2.06-.94L8.5 2.5l-.94 2.06-2.06.94zm10 10l.94 2.06.94-2.06 2.06-.94-2.06-.94-.94-2.06-.94 2.06-2.06.94z\"/><path d=\"M17.41 7.96l-1.37-1.37c-.4-.4-.92-.59-1.43-.59-.52 0-1.04.2-1.43.59L10.3 9.45l-7.72 7.72c-.78.78-.78 2.05 0 2.83L4 21.41c.39.39.9.59 1.41.59.51 0 1.02-.2 1.41-.59l7.78-7.78 2.81-2.81c.8-.78.8-2.07 0-2.86zM5.41 20L4 18.59l7.72-7.72 1.47 1.35L5.41 20z\"/>\n",
              "  </svg>\n",
              "      </button>\n",
              "      \n",
              "  <style>\n",
              "    .colab-df-container {\n",
              "      display:flex;\n",
              "      flex-wrap:wrap;\n",
              "      gap: 12px;\n",
              "    }\n",
              "\n",
              "    .colab-df-convert {\n",
              "      background-color: #E8F0FE;\n",
              "      border: none;\n",
              "      border-radius: 50%;\n",
              "      cursor: pointer;\n",
              "      display: none;\n",
              "      fill: #1967D2;\n",
              "      height: 32px;\n",
              "      padding: 0 0 0 0;\n",
              "      width: 32px;\n",
              "    }\n",
              "\n",
              "    .colab-df-convert:hover {\n",
              "      background-color: #E2EBFA;\n",
              "      box-shadow: 0px 1px 2px rgba(60, 64, 67, 0.3), 0px 1px 3px 1px rgba(60, 64, 67, 0.15);\n",
              "      fill: #174EA6;\n",
              "    }\n",
              "\n",
              "    [theme=dark] .colab-df-convert {\n",
              "      background-color: #3B4455;\n",
              "      fill: #D2E3FC;\n",
              "    }\n",
              "\n",
              "    [theme=dark] .colab-df-convert:hover {\n",
              "      background-color: #434B5C;\n",
              "      box-shadow: 0px 1px 3px 1px rgba(0, 0, 0, 0.15);\n",
              "      filter: drop-shadow(0px 1px 2px rgba(0, 0, 0, 0.3));\n",
              "      fill: #FFFFFF;\n",
              "    }\n",
              "  </style>\n",
              "\n",
              "      <script>\n",
              "        const buttonEl =\n",
              "          document.querySelector('#df-7c5b6390-dedc-4152-beec-6145b0656bf9 button.colab-df-convert');\n",
              "        buttonEl.style.display =\n",
              "          google.colab.kernel.accessAllowed ? 'block' : 'none';\n",
              "\n",
              "        async function convertToInteractive(key) {\n",
              "          const element = document.querySelector('#df-7c5b6390-dedc-4152-beec-6145b0656bf9');\n",
              "          const dataTable =\n",
              "            await google.colab.kernel.invokeFunction('convertToInteractive',\n",
              "                                                     [key], {});\n",
              "          if (!dataTable) return;\n",
              "\n",
              "          const docLinkHtml = 'Like what you see? Visit the ' +\n",
              "            '<a target=\"_blank\" href=https://colab.research.google.com/notebooks/data_table.ipynb>data table notebook</a>'\n",
              "            + ' to learn more about interactive tables.';\n",
              "          element.innerHTML = '';\n",
              "          dataTable['output_type'] = 'display_data';\n",
              "          await google.colab.output.renderOutput(dataTable, element);\n",
              "          const docLink = document.createElement('div');\n",
              "          docLink.innerHTML = docLinkHtml;\n",
              "          element.appendChild(docLink);\n",
              "        }\n",
              "      </script>\n",
              "    </div>\n",
              "  </div>\n",
              "  "
            ]
          },
          "metadata": {},
          "execution_count": 32
        }
      ]
    },
    {
      "cell_type": "markdown",
      "source": [
        "### Smells de Testabilidade\n",
        "\n",
        "* Hard-wired dependencies\n",
        "* Global state\n",
        "* Excessive dependency\n",
        "* Law of Demeter violation"
      ],
      "metadata": {
        "id": "5RY8BH-VyuyJ"
      }
    },
    {
      "cell_type": "code",
      "source": [
        "counts = testabilityDf['Testability Smell'].value_counts().sort_index()\n",
        "plt.bar(counts.index, counts.values)\n",
        "plt.xlabel('Testability Smell')\n",
        "plt.xticks(rotation=45)\n",
        "plt.ylabel('Ocorrências')\n",
        "plt.show()"
      ],
      "metadata": {
        "colab": {
          "base_uri": "https://localhost:8080/",
          "height": 365
        },
        "id": "DwT5Vkb5nZwV",
        "outputId": "673c15eb-db2b-4eb2-b337-bc4e1358c3c4"
      },
      "execution_count": null,
      "outputs": [
        {
          "output_type": "display_data",
          "data": {
            "text/plain": [
              "<Figure size 432x288 with 1 Axes>"
            ],
            "image/png": "[encoded data removed]"
          },
          "metadata": {
            "needs_background": "light"
          }
        }
      ]
    },
    {
      "cell_type": "code",
      "source": [
        "pd.crosstab(testabilityDf['Type Name'],testabilityDf['Testability Smell'])"
      ],
      "metadata": {
        "colab": {
          "base_uri": "https://localhost:8080/",
          "height": 332
        },
        "id": "ajsR7OROdUpD",
        "outputId": "94746e41-2bb6-4b66-f3f0-7dec56db09af"
      },
      "execution_count": null,
      "outputs": [
        {
          "output_type": "execute_result",
          "data": {
            "text/plain": [
              "Testability Smell                      Global State  Hard-wired Dependency  \\\n",
              "Type Name                                                                    \n",
              "Aluno                                             0                      1   \n",
              "HandoraLogBuilder.Metodo                          1                      0   \n",
              "HandoraLogBuilder.OQueEstaAcontecendo             1                      0   \n",
              "HandoraLogBuilder.ProntoParaLogar                 1                      0   \n",
              "NovoPlanoDeEstudosRequest                         0                      1   \n",
              "PlanoDeEstudosFactory                             0                      1   \n",
              "TemaRequest                                       0                      1   \n",
              "ValidationErrorHandler                            0                      1   \n",
              "\n",
              "Testability Smell                      Law of Demeter violation  \n",
              "Type Name                                                        \n",
              "Aluno                                                         0  \n",
              "HandoraLogBuilder.Metodo                                      0  \n",
              "HandoraLogBuilder.OQueEstaAcontecendo                         0  \n",
              "HandoraLogBuilder.ProntoParaLogar                             0  \n",
              "NovoPlanoDeEstudosRequest                                     0  \n",
              "PlanoDeEstudosFactory                                         2  \n",
              "TemaRequest                                                   0  \n",
              "ValidationErrorHandler                                        0  "
            ],
            "text/html": [
              "\n",
              "  <div id=\"df-d41186bb-753d-45d7-bea0-56c9dc24c58a\">\n",
              "    <div class=\"colab-df-container\">\n",
              "      <div>\n",
              "<style scoped>\n",
              "    .dataframe tbody tr th:only-of-type {\n",
              "        vertical-align: middle;\n",
              "    }\n",
              "\n",
              "    .dataframe tbody tr th {\n",
              "        vertical-align: top;\n",
              "    }\n",
              "\n",
              "    .dataframe thead th {\n",
              "        text-align: right;\n",
              "    }\n",
              "</style>\n",
              "<table border=\"1\" class=\"dataframe\">\n",
              "  <thead>\n",
              "    <tr style=\"text-align: right;\">\n",
              "      <th>Testability Smell</th>\n",
              "      <th>Global State</th>\n",
              "      <th>Hard-wired Dependency</th>\n",
              "      <th>Law of Demeter violation</th>\n",
              "    </tr>\n",
              "    <tr>\n",
              "      <th>Type Name</th>\n",
              "      <th></th>\n",
              "      <th></th>\n",
              "      <th></th>\n",
              "    </tr>\n",
              "  </thead>\n",
              "  <tbody>\n",
              "    <tr>\n",
              "      <th>Aluno</th>\n",
              "      <td>0</td>\n",
              "      <td>1</td>\n",
              "      <td>0</td>\n",
              "    </tr>\n",
              "    <tr>\n",
              "      <th>HandoraLogBuilder.Metodo</th>\n",
              "      <td>1</td>\n",
              "      <td>0</td>\n",
              "      <td>0</td>\n",
              "    </tr>\n",
              "    <tr>\n",
              "      <th>HandoraLogBuilder.OQueEstaAcontecendo</th>\n",
              "      <td>1</td>\n",
              "      <td>0</td>\n",
              "      <td>0</td>\n",
              "    </tr>\n",
              "    <tr>\n",
              "      <th>HandoraLogBuilder.ProntoParaLogar</th>\n",
              "      <td>1</td>\n",
              "      <td>0</td>\n",
              "      <td>0</td>\n",
              "    </tr>\n",
              "    <tr>\n",
              "      <th>NovoPlanoDeEstudosRequest</th>\n",
              "      <td>0</td>\n",
              "      <td>1</td>\n",
              "      <td>0</td>\n",
              "    </tr>\n",
              "    <tr>\n",
              "      <th>PlanoDeEstudosFactory</th>\n",
              "      <td>0</td>\n",
              "      <td>1</td>\n",
              "      <td>2</td>\n",
              "    </tr>\n",
              "    <tr>\n",
              "      <th>TemaRequest</th>\n",
              "      <td>0</td>\n",
              "      <td>1</td>\n",
              "      <td>0</td>\n",
              "    </tr>\n",
              "    <tr>\n",
              "      <th>ValidationErrorHandler</th>\n",
              "      <td>0</td>\n",
              "      <td>1</td>\n",
              "      <td>0</td>\n",
              "    </tr>\n",
              "  </tbody>\n",
              "</table>\n",
              "</div>\n",
              "      <button class=\"colab-df-convert\" onclick=\"convertToInteractive('df-d41186bb-753d-45d7-bea0-56c9dc24c58a')\"\n",
              "              title=\"Convert this dataframe to an interactive table.\"\n",
              "              style=\"display:none;\">\n",
              "        \n",
              "  <svg xmlns=\"http://www.w3.org/2000/svg\" height=\"24px\"viewBox=\"0 0 24 24\"\n",
              "       width=\"24px\">\n",
              "    <path d=\"M0 0h24v24H0V0z\" fill=\"none\"/>\n",
              "    <path d=\"M18.56 5.44l.94 2.06.94-2.06 2.06-.94-2.06-.94-.94-2.06-.94 2.06-2.06.94zm-11 1L8.5 8.5l.94-2.06 2.06-.94-2.06-.94L8.5 2.5l-.94 2.06-2.06.94zm10 10l.94 2.06.94-2.06 2.06-.94-2.06-.94-.94-2.06-.94 2.06-2.06.94z\"/><path d=\"M17.41 7.96l-1.37-1.37c-.4-.4-.92-.59-1.43-.59-.52 0-1.04.2-1.43.59L10.3 9.45l-7.72 7.72c-.78.78-.78 2.05 0 2.83L4 21.41c.39.39.9.59 1.41.59.51 0 1.02-.2 1.41-.59l7.78-7.78 2.81-2.81c.8-.78.8-2.07 0-2.86zM5.41 20L4 18.59l7.72-7.72 1.47 1.35L5.41 20z\"/>\n",
              "  </svg>\n",
              "      </button>\n",
              "      \n",
              "  <style>\n",
              "    .colab-df-container {\n",
              "      display:flex;\n",
              "      flex-wrap:wrap;\n",
              "      gap: 12px;\n",
              "    }\n",
              "\n",
              "    .colab-df-convert {\n",
              "      background-color: #E8F0FE;\n",
              "      border: none;\n",
              "      border-radius: 50%;\n",
              "      cursor: pointer;\n",
              "      display: none;\n",
              "      fill: #1967D2;\n",
              "      height: 32px;\n",
              "      padding: 0 0 0 0;\n",
              "      width: 32px;\n",
              "    }\n",
              "\n",
              "    .colab-df-convert:hover {\n",
              "      background-color: #E2EBFA;\n",
              "      box-shadow: 0px 1px 2px rgba(60, 64, 67, 0.3), 0px 1px 3px 1px rgba(60, 64, 67, 0.15);\n",
              "      fill: #174EA6;\n",
              "    }\n",
              "\n",
              "    [theme=dark] .colab-df-convert {\n",
              "      background-color: #3B4455;\n",
              "      fill: #D2E3FC;\n",
              "    }\n",
              "\n",
              "    [theme=dark] .colab-df-convert:hover {\n",
              "      background-color: #434B5C;\n",
              "      box-shadow: 0px 1px 3px 1px rgba(0, 0, 0, 0.15);\n",
              "      filter: drop-shadow(0px 1px 2px rgba(0, 0, 0, 0.3));\n",
              "      fill: #FFFFFF;\n",
              "    }\n",
              "  </style>\n",
              "\n",
              "      <script>\n",
              "        const buttonEl =\n",
              "          document.querySelector('#df-d41186bb-753d-45d7-bea0-56c9dc24c58a button.colab-df-convert');\n",
              "        buttonEl.style.display =\n",
              "          google.colab.kernel.accessAllowed ? 'block' : 'none';\n",
              "\n",
              "        async function convertToInteractive(key) {\n",
              "          const element = document.querySelector('#df-d41186bb-753d-45d7-bea0-56c9dc24c58a');\n",
              "          const dataTable =\n",
              "            await google.colab.kernel.invokeFunction('convertToInteractive',\n",
              "                                                     [key], {});\n",
              "          if (!dataTable) return;\n",
              "\n",
              "          const docLinkHtml = 'Like what you see? Visit the ' +\n",
              "            '<a target=\"_blank\" href=https://colab.research.google.com/notebooks/data_table.ipynb>data table notebook</a>'\n",
              "            + ' to learn more about interactive tables.';\n",
              "          element.innerHTML = '';\n",
              "          dataTable['output_type'] = 'display_data';\n",
              "          await google.colab.output.renderOutput(dataTable, element);\n",
              "          const docLink = document.createElement('div');\n",
              "          docLink.innerHTML = docLinkHtml;\n",
              "          element.appendChild(docLink);\n",
              "        }\n",
              "      </script>\n",
              "    </div>\n",
              "  </div>\n",
              "  "
            ]
          },
          "metadata": {},
          "execution_count": 34
        }
      ]
    },
    {
      "cell_type": "markdown",
      "source": [
        "### Smells de Design\n",
        "\n",
        "* Abstraction Design Smells: Imperative Abstraction, Unnecessary Abstraction, Multifaceted Abstraction, Unutilized Abstraction, Feature Envy.\n",
        "* Encapsulation Design Smells: Deficient Encapsulation, Unexploited Encapsulation.\n",
        "* Modularization Design Smells: Broken Modularization, Insufficient Modularization, Hub-like Modularization, Cyclically-dependent Modularization.\n",
        "* Hierarchy Design Smells: Wide Hierarchy, Deep Hierarchy, Multipath Hierarchy, Cyclic Hierarchy, Rebellious Hierarchy, Missing Hierarchy, Broken Hierarchy."
      ],
      "metadata": {
        "id": "u1l7WrXby4a2"
      }
    },
    {
      "cell_type": "code",
      "source": [
        "counts = designDf['Design Smell'].value_counts().sort_index()\n",
        "plt.bar(counts.index, counts.values)\n",
        "plt.xlabel('Design Smell')\n",
        "plt.xticks(rotation=45)\n",
        "plt.ylabel('Ocorrências')\n",
        "plt.show()"
      ],
      "metadata": {
        "colab": {
          "base_uri": "https://localhost:8080/",
          "height": 405
        },
        "id": "PmWaJdH9y6Fv",
        "outputId": "0c885eed-6aa8-490f-f528-60da91b71463"
      },
      "execution_count": null,
      "outputs": [
        {
          "output_type": "display_data",
          "data": {
            "text/plain": [
              "<Figure size 432x288 with 1 Axes>"
            ],
            "image/png": "[encoded data removed]"
          },
          "metadata": {
            "needs_background": "light"
          }
        }
      ]
    },
    {
      "cell_type": "code",
      "source": [
        "pd.crosstab(designDf['Type Name'],designDf['Design Smell'])"
      ],
      "metadata": {
        "colab": {
          "base_uri": "https://localhost:8080/",
          "height": 520
        },
        "id": "LZJrGkHdddVw",
        "outputId": "200010f7-86ff-4637-fc72-4992896c4342"
      },
      "execution_count": null,
      "outputs": [
        {
          "output_type": "execute_result",
          "data": {
            "text/plain": [
              "Design Smell                           Cyclically-dependent Modularization  \\\n",
              "Type Name                                                                    \n",
              "AdicionaItensPlanodeEstudos                                              0   \n",
              "AdicionaItensTemas                                                       0   \n",
              "Aluno                                                                    1   \n",
              "BearerTokenToStringConverter                                             0   \n",
              "CampoUnicoValidator                                                      0   \n",
              "CorsConfiguration                                                        0   \n",
              "FeignConfig                                                              0   \n",
              "HandoraLogBuilder.Metodo                                                 0   \n",
              "HandoraLogBuilder.OQueEstaAcontecendo                                    0   \n",
              "HandoraLogBuilder.ProntoParaLogar                                        0   \n",
              "Inscricao                                                                1   \n",
              "JsonHelper                                                               0   \n",
              "ValidationErrorHandler                                                   0   \n",
              "WebSecurityConfig                                                        0   \n",
              "\n",
              "Design Smell                           Unnecessary Abstraction  \\\n",
              "Type Name                                                        \n",
              "AdicionaItensPlanodeEstudos                                  0   \n",
              "AdicionaItensTemas                                           0   \n",
              "Aluno                                                        0   \n",
              "BearerTokenToStringConverter                                 0   \n",
              "CampoUnicoValidator                                          0   \n",
              "CorsConfiguration                                            0   \n",
              "FeignConfig                                                  0   \n",
              "HandoraLogBuilder.Metodo                                     1   \n",
              "HandoraLogBuilder.OQueEstaAcontecendo                        1   \n",
              "HandoraLogBuilder.ProntoParaLogar                            1   \n",
              "Inscricao                                                    0   \n",
              "JsonHelper                                                   0   \n",
              "ValidationErrorHandler                                       0   \n",
              "WebSecurityConfig                                            0   \n",
              "\n",
              "Design Smell                           Unutilized Abstraction  \n",
              "Type Name                                                      \n",
              "AdicionaItensPlanodeEstudos                                 1  \n",
              "AdicionaItensTemas                                          1  \n",
              "Aluno                                                       0  \n",
              "BearerTokenToStringConverter                                1  \n",
              "CampoUnicoValidator                                         1  \n",
              "CorsConfiguration                                           1  \n",
              "FeignConfig                                                 1  \n",
              "HandoraLogBuilder.Metodo                                    1  \n",
              "HandoraLogBuilder.OQueEstaAcontecendo                       1  \n",
              "HandoraLogBuilder.ProntoParaLogar                           1  \n",
              "Inscricao                                                   0  \n",
              "JsonHelper                                                  1  \n",
              "ValidationErrorHandler                                      1  \n",
              "WebSecurityConfig                                           1  "
            ],
            "text/html": [
              "\n",
              "  <div id=\"df-b92bca60-ee7e-4771-b637-02de598fd06a\">\n",
              "    <div class=\"colab-df-container\">\n",
              "      <div>\n",
              "<style scoped>\n",
              "    .dataframe tbody tr th:only-of-type {\n",
              "        vertical-align: middle;\n",
              "    }\n",
              "\n",
              "    .dataframe tbody tr th {\n",
              "        vertical-align: top;\n",
              "    }\n",
              "\n",
              "    .dataframe thead th {\n",
              "        text-align: right;\n",
              "    }\n",
              "</style>\n",
              "<table border=\"1\" class=\"dataframe\">\n",
              "  <thead>\n",
              "    <tr style=\"text-align: right;\">\n",
              "      <th>Design Smell</th>\n",
              "      <th>Cyclically-dependent Modularization</th>\n",
              "      <th>Unnecessary Abstraction</th>\n",
              "      <th>Unutilized Abstraction</th>\n",
              "    </tr>\n",
              "    <tr>\n",
              "      <th>Type Name</th>\n",
              "      <th></th>\n",
              "      <th></th>\n",
              "      <th></th>\n",
              "    </tr>\n",
              "  </thead>\n",
              "  <tbody>\n",
              "    <tr>\n",
              "      <th>AdicionaItensPlanodeEstudos</th>\n",
              "      <td>0</td>\n",
              "      <td>0</td>\n",
              "      <td>1</td>\n",
              "    </tr>\n",
              "    <tr>\n",
              "      <th>AdicionaItensTemas</th>\n",
              "      <td>0</td>\n",
              "      <td>0</td>\n",
              "      <td>1</td>\n",
              "    </tr>\n",
              "    <tr>\n",
              "      <th>Aluno</th>\n",
              "      <td>1</td>\n",
              "      <td>0</td>\n",
              "      <td>0</td>\n",
              "    </tr>\n",
              "    <tr>\n",
              "      <th>BearerTokenToStringConverter</th>\n",
              "      <td>0</td>\n",
              "      <td>0</td>\n",
              "      <td>1</td>\n",
              "    </tr>\n",
              "    <tr>\n",
              "      <th>CampoUnicoValidator</th>\n",
              "      <td>0</td>\n",
              "      <td>0</td>\n",
              "      <td>1</td>\n",
              "    </tr>\n",
              "    <tr>\n",
              "      <th>CorsConfiguration</th>\n",
              "      <td>0</td>\n",
              "      <td>0</td>\n",
              "      <td>1</td>\n",
              "    </tr>\n",
              "    <tr>\n",
              "      <th>FeignConfig</th>\n",
              "      <td>0</td>\n",
              "      <td>0</td>\n",
              "      <td>1</td>\n",
              "    </tr>\n",
              "    <tr>\n",
              "      <th>HandoraLogBuilder.Metodo</th>\n",
              "      <td>0</td>\n",
              "      <td>1</td>\n",
              "      <td>1</td>\n",
              "    </tr>\n",
              "    <tr>\n",
              "      <th>HandoraLogBuilder.OQueEstaAcontecendo</th>\n",
              "      <td>0</td>\n",
              "      <td>1</td>\n",
              "      <td>1</td>\n",
              "    </tr>\n",
              "    <tr>\n",
              "      <th>HandoraLogBuilder.ProntoParaLogar</th>\n",
              "      <td>0</td>\n",
              "      <td>1</td>\n",
              "      <td>1</td>\n",
              "    </tr>\n",
              "    <tr>\n",
              "      <th>Inscricao</th>\n",
              "      <td>1</td>\n",
              "      <td>0</td>\n",
              "      <td>0</td>\n",
              "    </tr>\n",
              "    <tr>\n",
              "      <th>JsonHelper</th>\n",
              "      <td>0</td>\n",
              "      <td>0</td>\n",
              "      <td>1</td>\n",
              "    </tr>\n",
              "    <tr>\n",
              "      <th>ValidationErrorHandler</th>\n",
              "      <td>0</td>\n",
              "      <td>0</td>\n",
              "      <td>1</td>\n",
              "    </tr>\n",
              "    <tr>\n",
              "      <th>WebSecurityConfig</th>\n",
              "      <td>0</td>\n",
              "      <td>0</td>\n",
              "      <td>1</td>\n",
              "    </tr>\n",
              "  </tbody>\n",
              "</table>\n",
              "</div>\n",
              "      <button class=\"colab-df-convert\" onclick=\"convertToInteractive('df-b92bca60-ee7e-4771-b637-02de598fd06a')\"\n",
              "              title=\"Convert this dataframe to an interactive table.\"\n",
              "              style=\"display:none;\">\n",
              "        \n",
              "  <svg xmlns=\"http://www.w3.org/2000/svg\" height=\"24px\"viewBox=\"0 0 24 24\"\n",
              "       width=\"24px\">\n",
              "    <path d=\"M0 0h24v24H0V0z\" fill=\"none\"/>\n",
              "    <path d=\"M18.56 5.44l.94 2.06.94-2.06 2.06-.94-2.06-.94-.94-2.06-.94 2.06-2.06.94zm-11 1L8.5 8.5l.94-2.06 2.06-.94-2.06-.94L8.5 2.5l-.94 2.06-2.06.94zm10 10l.94 2.06.94-2.06 2.06-.94-2.06-.94-.94-2.06-.94 2.06-2.06.94z\"/><path d=\"M17.41 7.96l-1.37-1.37c-.4-.4-.92-.59-1.43-.59-.52 0-1.04.2-1.43.59L10.3 9.45l-7.72 7.72c-.78.78-.78 2.05 0 2.83L4 21.41c.39.39.9.59 1.41.59.51 0 1.02-.2 1.41-.59l7.78-7.78 2.81-2.81c.8-.78.8-2.07 0-2.86zM5.41 20L4 18.59l7.72-7.72 1.47 1.35L5.41 20z\"/>\n",
              "  </svg>\n",
              "      </button>\n",
              "      \n",
              "  <style>\n",
              "    .colab-df-container {\n",
              "      display:flex;\n",
              "      flex-wrap:wrap;\n",
              "      gap: 12px;\n",
              "    }\n",
              "\n",
              "    .colab-df-convert {\n",
              "      background-color: #E8F0FE;\n",
              "      border: none;\n",
              "      border-radius: 50%;\n",
              "      cursor: pointer;\n",
              "      display: none;\n",
              "      fill: #1967D2;\n",
              "      height: 32px;\n",
              "      padding: 0 0 0 0;\n",
              "      width: 32px;\n",
              "    }\n",
              "\n",
              "    .colab-df-convert:hover {\n",
              "      background-color: #E2EBFA;\n",
              "      box-shadow: 0px 1px 2px rgba(60, 64, 67, 0.3), 0px 1px 3px 1px rgba(60, 64, 67, 0.15);\n",
              "      fill: #174EA6;\n",
              "    }\n",
              "\n",
              "    [theme=dark] .colab-df-convert {\n",
              "      background-color: #3B4455;\n",
              "      fill: #D2E3FC;\n",
              "    }\n",
              "\n",
              "    [theme=dark] .colab-df-convert:hover {\n",
              "      background-color: #434B5C;\n",
              "      box-shadow: 0px 1px 3px 1px rgba(0, 0, 0, 0.15);\n",
              "      filter: drop-shadow(0px 1px 2px rgba(0, 0, 0, 0.3));\n",
              "      fill: #FFFFFF;\n",
              "    }\n",
              "  </style>\n",
              "\n",
              "      <script>\n",
              "        const buttonEl =\n",
              "          document.querySelector('#df-b92bca60-ee7e-4771-b637-02de598fd06a button.colab-df-convert');\n",
              "        buttonEl.style.display =\n",
              "          google.colab.kernel.accessAllowed ? 'block' : 'none';\n",
              "\n",
              "        async function convertToInteractive(key) {\n",
              "          const element = document.querySelector('#df-b92bca60-ee7e-4771-b637-02de598fd06a');\n",
              "          const dataTable =\n",
              "            await google.colab.kernel.invokeFunction('convertToInteractive',\n",
              "                                                     [key], {});\n",
              "          if (!dataTable) return;\n",
              "\n",
              "          const docLinkHtml = 'Like what you see? Visit the ' +\n",
              "            '<a target=\"_blank\" href=https://colab.research.google.com/notebooks/data_table.ipynb>data table notebook</a>'\n",
              "            + ' to learn more about interactive tables.';\n",
              "          element.innerHTML = '';\n",
              "          dataTable['output_type'] = 'display_data';\n",
              "          await google.colab.output.renderOutput(dataTable, element);\n",
              "          const docLink = document.createElement('div');\n",
              "          docLink.innerHTML = docLinkHtml;\n",
              "          element.appendChild(docLink);\n",
              "        }\n",
              "      </script>\n",
              "    </div>\n",
              "  </div>\n",
              "  "
            ]
          },
          "metadata": {},
          "execution_count": 36
        }
      ]
    },
    {
      "cell_type": "markdown",
      "source": [
        "## Mensuração, Avaliação e Recomendação"
      ],
      "metadata": {
        "id": "e4AEPmvm0C2D"
      }
    },
    {
      "cell_type": "code",
      "source": [
        "methodMetricsDf['Package Name'].value_counts()"
      ],
      "metadata": {
        "colab": {
          "base_uri": "https://localhost:8080/"
        },
        "id": "sNPjiQY8F2AO",
        "outputId": "fdac9f3f-0396-4d2a-b578-3649e04fc305"
      },
      "execution_count": null,
      "outputs": [
        {
          "output_type": "execute_result",
          "data": {
            "text/plain": [
              "br.com.zup.handora.planodeestudos.plano                      76\n",
              "br.com.zup.handora.planodeestudos.compartilhado              27\n",
              "br.com.zup.handora.planodeestudos.plano.partials.tema        19\n",
              "br.com.zup.handora.planodeestudos.plano.partials.plano       18\n",
              "br.com.zup.handora.planodeestudos.alunos                     13\n",
              "br.com.zup.handora.planodeestudos.utils                      13\n",
              "br.com.zup.handora.planodeestudos.clientes                    6\n",
              "br.com.zup.handora.planodeestudos.clientes.indexador          3\n",
              "br.com.zup.handora.planodeestudos.compartilhado.seguranca     2\n",
              "br.com.zup.handora.planodeestudos                             1\n",
              "Name: Package Name, dtype: int64"
            ]
          },
          "metadata": {},
          "execution_count": 12
        }
      ]
    },
    {
      "cell_type": "code",
      "source": [
        "packageTotal = methodMetricsDf['Package Name'].nunique()\n",
        "packageTotal"
      ],
      "metadata": {
        "colab": {
          "base_uri": "https://localhost:8080/"
        },
        "id": "8k9FUXCmGdo-",
        "outputId": "1e6ed059-dacb-40f1-fe3a-1a15bd6c13d1"
      },
      "execution_count": null,
      "outputs": [
        {
          "output_type": "execute_result",
          "data": {
            "text/plain": [
              "10"
            ]
          },
          "metadata": {},
          "execution_count": 13
        }
      ]
    },
    {
      "cell_type": "code",
      "source": [
        "methodMetricsDf['Type Name'].value_counts()"
      ],
      "metadata": {
        "colab": {
          "base_uri": "https://localhost:8080/"
        },
        "id": "VXVLnn_QGIpl",
        "outputId": "71dcc403-f12d-4645-fa7a-30e5d499391b"
      },
      "execution_count": null,
      "outputs": [
        {
          "output_type": "execute_result",
          "data": {
            "text/plain": [
              "Tema                                      15\n",
              "PlanoDeEstudos                            15\n",
              "PlanoDeEstudosFactory                     13\n",
              "TemaRequest                               11\n",
              "NovoPlanoDeEstudosRequest                 10\n",
              "Link                                       8\n",
              "Aluno                                      8\n",
              "Inscricao                                  7\n",
              "ValidationErrorHandler                     7\n",
              "TextoOrdenado                              7\n",
              "ValidationErrorsOutputDto                  5\n",
              "FieldErrorOutputDto                        4\n",
              "AdicionaItensTemas                         4\n",
              "BearerToken                                4\n",
              "AdicionaItensPlanodeEstudos                3\n",
              "NovoPlanoDeEstudosControllerTest           3\n",
              "InscricaoPlanoControllerTest               3\n",
              "RegistraAlunoTest                          2\n",
              "PlanosSeguidosPeloAlunoControllerTest      2\n",
              "NovoPlanoDeEstudosController               2\n",
              "IndexaPlanoDeEstudosTest                   2\n",
              "DetalhesDoTemaControllerTest               2\n",
              "DetalhesDoPlanoDeEstudosControllerTest     2\n",
              "DadosDoPlanoResumidoControllerTest         2\n",
              "AlunoPodeAcessarOPlanoDeEstudosTest        2\n",
              "RegistraAluno                              2\n",
              "PlanosSeguidosPeloAlunoController          2\n",
              "IndexaPlanoDeEstudos                       2\n",
              "WebSecurityConfig                          2\n",
              "Transacao                                  2\n",
              "InscricaoPlanoController                   2\n",
              "CampoUnicoValidator                        2\n",
              "DetalhesDoTemaController                   2\n",
              "DetalhesDoPlanoDeEstudosController         2\n",
              "DadosDoPlanoResumidoController             2\n",
              "HandoraLogBuilder                          2\n",
              "JsonHelper                                 2\n",
              "PlanoDeEstudosApplication                  1\n",
              "CorsConfiguration                          1\n",
              "ExecucaoAssincrona                         1\n",
              "ServicoRemotoIndexacao                     1\n",
              "TestAsyncExecutor                          1\n",
              "BearerTokenToStringConverter               1\n",
              "AlunoPodeAcessarOPlanoDeEstudos            1\n",
              "AlunoRepository                            1\n",
              "TemPlanoDeEstudos                          1\n",
              "InscricaoRepository                        1\n",
              "FeignConfig                                1\n",
              "Name: Type Name, dtype: int64"
            ]
          },
          "metadata": {},
          "execution_count": 14
        }
      ]
    },
    {
      "cell_type": "code",
      "source": [
        "classTotal = methodMetricsDf['Type Name'].nunique()\n",
        "classTotal"
      ],
      "metadata": {
        "colab": {
          "base_uri": "https://localhost:8080/"
        },
        "id": "xYnlilZkGg0y",
        "outputId": "16569fc8-1886-4950-fb6f-0ba43d37fb95"
      },
      "execution_count": null,
      "outputs": [
        {
          "output_type": "execute_result",
          "data": {
            "text/plain": [
              "48"
            ]
          },
          "metadata": {},
          "execution_count": 15
        }
      ]
    },
    {
      "cell_type": "code",
      "source": [
        "methodMetricsDf['Method Name'].value_counts()"
      ],
      "metadata": {
        "colab": {
          "base_uri": "https://localhost:8080/"
        },
        "id": "OldRt7agGR3f",
        "outputId": "6f9c9144-1aa1-4dde-b38e-e45ed779bb9c"
      },
      "execution_count": null,
      "outputs": [
        {
          "output_type": "execute_result",
          "data": {
            "text/plain": [
              "hashCode                            8\n",
              "equals                              8\n",
              "teste1                              7\n",
              "teste2                              7\n",
              "executa                             5\n",
              "                                   ..\n",
              "desserializa                        1\n",
              "handleResponseStatusException       1\n",
              "handleGenericException              1\n",
              "findByAlunoIdAndPlanoDeEstudosId    1\n",
              "criaAluno                           1\n",
              "Name: Method Name, Length: 108, dtype: int64"
            ]
          },
          "metadata": {},
          "execution_count": 16
        }
      ]
    },
    {
      "cell_type": "code",
      "source": [
        "methodTotal = methodMetricsDf['Method Name'].nunique()\n",
        "methodTotal"
      ],
      "metadata": {
        "colab": {
          "base_uri": "https://localhost:8080/"
        },
        "id": "N4MDFV7IGk0R",
        "outputId": "bc5b6b1e-0479-44e6-c590-cbd107325e7d"
      },
      "execution_count": null,
      "outputs": [
        {
          "output_type": "execute_result",
          "data": {
            "text/plain": [
              "108"
            ]
          },
          "metadata": {},
          "execution_count": 17
        }
      ]
    },
    {
      "cell_type": "code",
      "source": [
        "#TO-DO: Muitos smells em um método longo é tudo bem, considerar isso depois\n",
        "#Excluir métodos que não agregam valor (muito parecidos)\n",
        "def calcMeasurement(total, affected, adjustment):\n",
        "  affected_adjustment = affected + (adjustment/total)\n",
        "  percent = (affected_adjustment*100)/total\n",
        "  print(percent)\n",
        "  if(percent <= 20):\n",
        "    result = 5\n",
        "  elif (percent <= 40):\n",
        "    result = 4\n",
        "  elif (percent <= 60):\n",
        "    result = 3\n",
        "  elif (percent <= 80):\n",
        "    result = 2\n",
        "  else:\n",
        "    result = 1\n",
        "\n",
        "  return result"
      ],
      "metadata": {
        "id": "QQBUB0T2iI2d"
      },
      "execution_count": null,
      "outputs": []
    },
    {
      "cell_type": "markdown",
      "source": [
        "### Smells de Implementação"
      ],
      "metadata": {
        "id": "biaP3GRa0Id6"
      }
    },
    {
      "cell_type": "code",
      "source": [
        "implementationDf['Package Name'].nunique()"
      ],
      "metadata": {
        "colab": {
          "base_uri": "https://localhost:8080/"
        },
        "id": "ydVrtXpgTby-",
        "outputId": "54cebd17-e326-4b1e-b483-e1de8fa999cd"
      },
      "execution_count": null,
      "outputs": [
        {
          "output_type": "execute_result",
          "data": {
            "text/plain": [
              "8"
            ]
          },
          "metadata": {},
          "execution_count": 19
        }
      ]
    },
    {
      "cell_type": "code",
      "source": [
        "implementationDf['Type Name'].nunique()"
      ],
      "metadata": {
        "colab": {
          "base_uri": "https://localhost:8080/"
        },
        "id": "dOwvRapCG9BH",
        "outputId": "59e5d8f2-7cd9-456f-ec5c-05bf848b3d74"
      },
      "execution_count": null,
      "outputs": [
        {
          "output_type": "execute_result",
          "data": {
            "text/plain": [
              "26"
            ]
          },
          "metadata": {},
          "execution_count": 20
        }
      ]
    },
    {
      "cell_type": "code",
      "source": [
        "totalImplementationSmellMethod = implementationDf['Method Name'].nunique()\n",
        "totalImplementationSmellMethod"
      ],
      "metadata": {
        "colab": {
          "base_uri": "https://localhost:8080/"
        },
        "id": "yMWlnhO8G9JO",
        "outputId": "0db72c90-82f5-477e-9dc1-f95fea180c12"
      },
      "execution_count": null,
      "outputs": [
        {
          "output_type": "execute_result",
          "data": {
            "text/plain": [
              "33"
            ]
          },
          "metadata": {},
          "execution_count": 21
        }
      ]
    },
    {
      "cell_type": "code",
      "source": [
        "implementationDf['Method Name'].value_counts()"
      ],
      "metadata": {
        "colab": {
          "base_uri": "https://localhost:8080/"
        },
        "id": "Y1jw8tVF1umc",
        "outputId": "20e1a720-c1db-44a4-90dc-eda879e1eaa1"
      },
      "execution_count": null,
      "outputs": [
        {
          "output_type": "execute_result",
          "data": {
            "text/plain": [
              "teste1                                                 13\n",
              "teste2                                                 10\n",
              "adicionaFormasVerificacaoConhecimento                   5\n",
              "adicionaFormasValidacaoConhecimento                     4\n",
              "teste3                                                  3\n",
              "detalhesDoTema                                          3\n",
              "executa                                                 3\n",
              "novoPlanoDeEstudos                                      3\n",
              "seInscreve                                              3\n",
              "detalhes                                                3\n",
              "NovoPlanoDeEstudosRequest                               2\n",
              "DetalhesDoTemaController                                2\n",
              "adicionaDadosOrdenados                                  2\n",
              "DetalhesDoPlanoDeEstudosController                      2\n",
              "resumo                                                  2\n",
              "criaNovoPlanoDeEstudosRequest                           2\n",
              "isValid                                                 2\n",
              "Tema                                                    1\n",
              "compareTo                                               1\n",
              "insereFormasVerificacaoConhecimento                     1\n",
              "getTodasAsHabilidades                                   1\n",
              "PlanoDeEstudos                                          1\n",
              "getPlanosSeguidos                                       1\n",
              "TemaRequest                                             1\n",
              "test3                                                   1\n",
              "test2                                                   1\n",
              "test                                                    1\n",
              "criaInscricao                                           1\n",
              "jwtAuthenticationConverter                              1\n",
              "filterChain                                             1\n",
              "handleGenericException                                  1\n",
              "metodo                                                  1\n",
              "criaNovoPlanoDeEstudosRequestSemValidarConhecimento     1\n",
              "Name: Method Name, dtype: int64"
            ]
          },
          "metadata": {},
          "execution_count": 22
        }
      ]
    },
    {
      "cell_type": "code",
      "source": [
        "implementationDf['Implementation Smell'].value_counts()"
      ],
      "metadata": {
        "colab": {
          "base_uri": "https://localhost:8080/"
        },
        "id": "0too0fm1IBUF",
        "outputId": "64d05528-94e7-4dfe-a624-afcbd6ac30a1"
      },
      "execution_count": null,
      "outputs": [
        {
          "output_type": "execute_result",
          "data": {
            "text/plain": [
              "Long Statement         56\n",
              "Long Identifier        11\n",
              "Magic Number           10\n",
              "Long Parameter List     3\n",
              "Name: Implementation Smell, dtype: int64"
            ]
          },
          "metadata": {},
          "execution_count": 23
        }
      ]
    },
    {
      "cell_type": "code",
      "source": [
        "totalImplementationSmell = implementationDf['Implementation Smell'].value_counts().sum()\n",
        "totalImplementationSmell"
      ],
      "metadata": {
        "colab": {
          "base_uri": "https://localhost:8080/"
        },
        "id": "G7JBiOebhMvV",
        "outputId": "9897ae42-f69c-4bc0-db18-c4c1714d1e76"
      },
      "execution_count": null,
      "outputs": [
        {
          "output_type": "execute_result",
          "data": {
            "text/plain": [
              "80"
            ]
          },
          "metadata": {},
          "execution_count": 24
        }
      ]
    },
    {
      "cell_type": "code",
      "source": [
        "implementationSmellMeasurement = calcMeasurement(methodTotal,totalImplementationSmellMethod,totalImplementationSmell)\n",
        "implementationSmellMeasurement"
      ],
      "metadata": {
        "colab": {
          "base_uri": "https://localhost:8080/"
        },
        "id": "Gjo599LIgVSR",
        "outputId": "a9a73e9a-380a-4ebf-e5a5-6501b4bee3e6"
      },
      "execution_count": null,
      "outputs": [
        {
          "output_type": "stream",
          "name": "stdout",
          "text": [
            "31.24142661179698\n"
          ]
        },
        {
          "output_type": "execute_result",
          "data": {
            "text/plain": [
              "4"
            ]
          },
          "metadata": {},
          "execution_count": 25
        }
      ]
    },
    {
      "cell_type": "code",
      "source": [
        "implementationSmellDetected = implementationDf['Implementation Smell'].unique()\n",
        "implementationSmellDetected"
      ],
      "metadata": {
        "colab": {
          "base_uri": "https://localhost:8080/"
        },
        "id": "VrZe1tOAoIT1",
        "outputId": "95ed5de1-120e-4796-d3f0-779fc7f9afc8"
      },
      "execution_count": null,
      "outputs": [
        {
          "output_type": "execute_result",
          "data": {
            "text/plain": [
              "array(['Long Statement', 'Magic Number', 'Long Identifier',\n",
              "       'Long Parameter List'], dtype=object)"
            ]
          },
          "metadata": {},
          "execution_count": 26
        }
      ]
    },
    {
      "cell_type": "code",
      "source": [
        "explanationImplementation ={\n",
        "  \"Abstract Function Call From Constructor\": \"Chamadas de funções abstratas dentro do construtor podem levar a problemas de design, pois o comportamento da função abstrata pode depender dos dados que só estão disponíveis após a conclusão da inicialização do objeto.\",\n",
        "  \"Complex Conditional\": \"Condicionais complexos com muitas expressões lógicas e operadores podem tornar o código difícil de entender e manter, além de aumentar a probabilidade de erros.\",\n",
        "  \"Complex Method\": \"Métodos complexos com muitas linhas de código, muitos desvios condicionais e muitos blocos aninhados podem tornar o código difícil de entender e manter, além de aumentar a probabilidade de erros.\",\n",
        "  \"Empty catch clause\": \"Cláusulas vazias de catch não fazem nada quando ocorre uma exceção e podem dificultar a depuração do código.\",\n",
        "  \"Long Identifier\": \"Identificadores longos podem ser difíceis de ler e escrever, e podem dificultar a manutenção do código.\",\n",
        "  \"Long Method\": \"Métodos longos com muitas linhas de código, muitos desvios condicionais e muitos blocos aninhados podem tornar o código difícil de entender e manter, além de aumentar a probabilidade de erros.\",\n",
        "  \"Long Parameter List\": \"Listas de parâmetros longas com muitos argumentos podem tornar o código difícil de entender e manter, além de aumentar a probabilidade de erros.\",\n",
        "  \"Long Statement\": \"Declarações longas com muitas expressões podem tornar o código difícil de entender e manter, além de aumentar a probabilidade de erros.\",\n",
        "  \"Magic Number\": \"Números mágicos são valores literais usados diretamente no código, o que pode tornar o código difícil de entender e manter, além de aumentar a probabilidade de erros.\",\n",
        "  \"Missing default\": \"Falta de uma cláusula padrão em uma instrução switch pode levar a erros quando o valor de entrada não corresponde a nenhum dos casos.\",\n",
        "}"
      ],
      "metadata": {
        "id": "JCsJWhkT0p_V"
      },
      "execution_count": null,
      "outputs": []
    },
    {
      "cell_type": "code",
      "source": [
        "explanationImplementationFinal = {}\n",
        "for chave, valor in explanationImplementation.items():\n",
        "    if chave in implementationSmellDetected:\n",
        "        explanationImplementationFinal[chave] = valor\n",
        "explanationImplementationFinal"
      ],
      "metadata": {
        "colab": {
          "base_uri": "https://localhost:8080/"
        },
        "id": "VqlQzE5F502T",
        "outputId": "fcb1c3ff-0014-421b-f0da-249c2f0a0029"
      },
      "execution_count": null,
      "outputs": [
        {
          "output_type": "execute_result",
          "data": {
            "text/plain": [
              "{'Long Identifier': 'Identificadores longos podem ser difíceis de ler e escrever, e podem dificultar a manutenção do código.',\n",
              " 'Long Parameter List': 'Listas de parâmetros longas com muitos argumentos podem tornar o código difícil de entender e manter, além de aumentar a probabilidade de erros.',\n",
              " 'Long Statement': 'Declarações longas com muitas expressões podem tornar o código difícil de entender e manter, além de aumentar a probabilidade de erros.',\n",
              " 'Magic Number': 'Números mágicos são valores literais usados diretamente no código, o que pode tornar o código difícil de entender e manter, além de aumentar a probabilidade de erros.'}"
            ]
          },
          "metadata": {},
          "execution_count": 28
        }
      ]
    },
    {
      "cell_type": "code",
      "source": [
        "recommendImplementation = {\n",
        "  \"Abstract Function Call From Constructor\": \"Evite chamar funções abstratas de dentro de construtores. Considere usar métodos de inicialização em vez disso.\",\n",
        "  \"Complex Conditional\": \"Tente quebrar condicionais complexos em condições menores, usando variáveis auxiliares e/ou funções.\",\n",
        "  \"Complex Method\": \"Divida métodos grandes e complexos em métodos menores e mais simples. Considere usar funções para extrair trechos de código repetitivos.\",\n",
        "  \"Empty catch clause\": \"Evite usar cláusulas 'catch' vazias. Se você não pode lidar com a exceção adequadamente, é melhor deixar a exceção passar e propagá-la para um nível superior.\",\n",
        "  \"Long Identifier\": \"Tente manter os identificadores de variáveis, métodos e classes curtos e descritivos. Evite usar abreviações obscuras ou nomes muito genéricos.\",\n",
        "  \"Long Method\": \"Divida métodos grandes e complexos em métodos menores e mais simples. Considere usar funções para extrair trechos de código repetitivos.\",\n",
        "  \"Long Parameter List\": \"Evite métodos com muitos parâmetros. Considere agrupá-los em estruturas de dados (como dicionários ou tuplas) ou usar parâmetros opcionais.\",\n",
        "  \"Long Statement\": \"Evite instruções muito longas e complexas. Considere dividir as instruções em instruções menores ou usar variáveis auxiliares para tornar o código mais legível.\",\n",
        "  \"Magic Number\": \"Evite usar números mágicos (números literais em código). Em vez disso, atribua esses valores a constantes descritivas e use essas constantes em todo o código.\",\n",
        "  \"Missing default\": \"Sempre forneça uma cláusula 'default' em instruções 'switch' ou 'case', para lidar com casos inesperados.\"\n",
        "}"
      ],
      "metadata": {
        "id": "o-0BWtBgpFoq"
      },
      "execution_count": null,
      "outputs": []
    },
    {
      "cell_type": "code",
      "source": [
        "recommendImplementationFinal = {}\n",
        "for chave, valor in recommendImplementation.items():\n",
        "    if chave in implementationSmellDetected:\n",
        "        recommendImplementationFinal[chave] = valor\n",
        "recommendImplementationFinal"
      ],
      "metadata": {
        "colab": {
          "base_uri": "https://localhost:8080/"
        },
        "id": "6WUUi0cTpTpZ",
        "outputId": "bab1451b-576d-4fa4-ee7a-6486ff347d40"
      },
      "execution_count": null,
      "outputs": [
        {
          "output_type": "execute_result",
          "data": {
            "text/plain": [
              "{'Long Identifier': 'Tente manter os identificadores de variáveis, métodos e classes curtos e descritivos. Evite usar abreviações obscuras ou nomes muito genéricos.',\n",
              " 'Long Parameter List': 'Evite métodos com muitos parâmetros. Considere agrupá-los em estruturas de dados (como dicionários ou tuplas) ou usar parâmetros opcionais.',\n",
              " 'Long Statement': 'Evite instruções muito longas e complexas. Considere dividir as instruções em instruções menores ou usar variáveis auxiliares para tornar o código mais legível.',\n",
              " 'Magic Number': 'Evite usar números mágicos (números literais em código). Em vez disso, atribua esses valores a constantes descritivas e use essas constantes em todo o código.'}"
            ]
          },
          "metadata": {},
          "execution_count": 30
        }
      ]
    },
    {
      "cell_type": "code",
      "source": [
        "implementationDf['Cause of the Smell'].value_counts()"
      ],
      "metadata": {
        "colab": {
          "base_uri": "https://localhost:8080/"
        },
        "id": "zO_2tmluHx6d",
        "outputId": "0a921cdb-8797-43e1-d156-bb3d6ce98b32"
      },
      "execution_count": null,
      "outputs": [
        {
          "output_type": "execute_result",
          "data": {
            "text/plain": [
              "The length of the statement \"mockMvc.perform(post(\"/\" + planoDeEstudos.getId() + \"/inscricao\").with((jwt().jwt(jwt -> jwt.claim(\"email\"`\"aluno@email.com\"))))).andExpect(status().isSeeOther()).andExpect(header().exists(\"Location\"));\" is 202.                                                                                                                                                                                                                                                                                                                                                                                                                                                                                                                                                                                                                                                                                                                                                                                                                                                                                                                                                                                                                                                                                                                                                                                                                                                                                                                                                                                                                                                                                                                                                                                                                                                                                                                                                                                                                                          5\n",
              "The length of the field alunoPodeAcessarOPlanoDeEstudos is 31.                                                                                                                                                                                                                                                                                                                                                                                                                                                                                                                                                                                                                                                                                                                                                                                                                                                                                                                                                                                                                                                                                                                                                                                                                                                                                                                                                                                                                                                                                                                                                                                                                                                                                                                                                                                                                                                                                                                                                                                                                            4\n",
              "The method contains a magic number: 200                                                                                                                                                                                                                                                                                                                                                                                                                                                                                                                                                                                                                                                                                                                                                                                                                                                                                                                                                                                                                                                                                                                                                                                                                                                                                                                                                                                                                                                                                                                                                                                                                                                                                                                                                                                                                                                                                                                                                                                                                                                   3\n",
              "The length of the parameter alunoPodeAcessarOPlanoDeEstudos is 31.                                                                                                                                                                                                                                                                                                                                                                                                                                                                                                                                                                                                                                                                                                                                                                                                                                                                                                                                                                                                                                                                                                                                                                                                                                                                                                                                                                                                                                                                                                                                                                                                                                                                                                                                                                                                                                                                                                                                                                                                                        2\n",
              "The method has 6 parameters.                                                                                                                                                                                                                                                                                                                                                                                                                                                                                                                                                                                                                                                                                                                                                                                                                                                                                                                                                                                                                                                                                                                                                                                                                                                                                                                                                                                                                                                                                                                                                                                                                                                                                                                                                                                                                                                                                                                                                                                                                                                              2\n",
              "                                                                                                                                                                                                                                                                                                                                                                                                                                                                                                                                                                                                                                                                                                                                                                                                                                                                                                                                                                                                                                                                                                                                                                                                                                                                                                                                                                                                                                                                                                                                                                                                                                                                                                                                                                                                                                                                                                                                                                                                                                                                                         ..\n",
              "The length of the statement \"mockMvc.perform(get(\"/\" + planoDeEstudos.getId() + \"/resumo\").with((jwt().jwt(jwt -> jwt.claim(\"email\"`\"aluno@email.com\"))))).andExpect(jsonPath(\"$.alunoInscrito\").value(false)).andExpect(jsonPath(\"$.tituloDoPlano\").value(planoDeEstudos.getTitulo())).andExpect(jsonPath(\"$.motivacao\").value(planoDeEstudos.getMotivacao())).andExpect(jsonPath(\"$.objetivo\").value(planoDeEstudos.getObjetivo())).andExpect(jsonPath(\"$.temas\").exists()).andExpect(jsonPath(\"$.temas[0].titulo\").value(planoDeEstudos.getTemas().first().getTitulo())).andExpect(jsonPath(\"$.preRequisitos\").exists()).andExpect(jsonPath(\"$.preRequisitos[0].descricao\").value(planoDeEstudos.getPreRequisitos().first().getDescricao())).andExpect(jsonPath(\"$.preRequisitos[1].descricao\").value(planoDeEstudos.getPreRequisitos().last().getDescricao())).andExpect(jsonPath(\"$.habilidades\").exists()).andExpect(jsonPath(\"$.habilidades[0].descricao\").value(planoDeEstudos.getTodasAsHabilidades().first().getDescricao())).andExpect(jsonPath(\"$.habilidades[1].descricao\").value(planoDeEstudos.getTodasAsHabilidades().last().getDescricao())).andExpect(status().isOk());\" is 1116.                                                                                                                                                                                                                                                                                                                                                                                                                                                                                                                                                                                                                                                                                                                                                                                                                                                                                       1\n",
              "The length of the statement \"mockMvc.perform(get(\"/\" + planoDeEstudos.getId()).with((jwt().jwt(jwt -> jwt.claim(\"email\"`\"aluno@email.com\"))))).andExpect(jsonPath(\"$.tituloDoPlano\").value(planoDeEstudos.getTitulo())).andExpect(jsonPath(\"$.motivacao\").value(planoDeEstudos.getMotivacao())).andExpect(jsonPath(\"$.objetivo\").value(planoDeEstudos.getObjetivo())).andExpect(jsonPath(\"$.temas\").exists()).andExpect(jsonPath(\"$.temas[0].titulo\").value(planoDeEstudos.getTemas().first().getTitulo())).andExpect(jsonPath(\"$.temas[0].ordem\").value(planoDeEstudos.getTemas().first().getIdentificadorOrdenacao())).andExpect(jsonPath(\"$.temas[0].id\").value(planoDeEstudos.getTemas().first().getId())).andExpect(jsonPath(\"$.palavrasChave\").exists()).andExpect(jsonPath(\"$.palavrasChave[0].descricao\").value(planoDeEstudos.getPalavrasChave().first().getDescricao())).andExpect(jsonPath(\"$.palavrasChave[0].ordem\").value(planoDeEstudos.getPalavrasChave().first().getIdentificadorOrdenacao())).andExpect(jsonPath(\"$.palavrasChave[1].descricao\").value(planoDeEstudos.getPalavrasChave().last().getDescricao())).andExpect(jsonPath(\"$.palavrasChave[1].ordem\").value(planoDeEstudos.getPalavrasChave().last().getIdentificadorOrdenacao())).andExpect(jsonPath(\"$.validacaoConhecimento[0].descricao\").value(planoDeEstudos.getFormasValidacaoConhecimento().first().getTitulo())).andExpect(jsonPath(\"$.validacaoConhecimento[0].url\").value(planoDeEstudos.getFormasValidacaoConhecimento().first().getUrl().toString())).andExpect(jsonPath(\"$.validacaoConhecimento[0].ordem\").value(planoDeEstudos.getFormasValidacaoConhecimento().first().getIdentificadorOrdenacao())).andExpect(status().isOk());\" is 1632.                                                                                                                                                                                                                                                                                                                                                   1\n",
              "The length of the statement \"Assert.state(this.inscricoes.add(inscricao)`\"Não foi possível criar uma inscrição para o aluno com o plano de estudos de id[\" + planoDeEstudos.getId() + \"]. Aparentemente já existe este mesmo plano de estudo lá dentro.\");\" is 221.                                                                                                                                                                                                                                                                                                                                                                                                                                                                                                                                                                                                                                                                                                                                                                                                                                                                                                                                                                                                                                                                                                                                                                                                                                                                                                                                                                                                                                                                                                                                                                                                                                                                                                                                                                                                                       1\n",
              "The length of the statement \"mockMvc.perform(get(\"/tema/\" + tema.getId()).with((jwt().jwt(jwt -> jwt.claim(\"email\"`\"aluno@email.com\"))))).andExpect(jsonPath(\"$.idDoPlano\").value(tema.getPlanoDeEstudos().getId())).andExpect(jsonPath(\"$.tituloDoPlano\").value(tema.getPlanoDeEstudos().getTitulo())).andExpect(jsonPath(\"$.motivacaoDoPlano\").value(tema.getPlanoDeEstudos().getMotivacao())).andExpect(jsonPath(\"$.tituloDoTema\").value(tema.getTitulo())).andExpect(jsonPath(\"$.habilidades[0].descricao\").value(tema.getHabilidades().first().getDescricao())).andExpect(jsonPath(\"$.habilidades[0].ordem\").value(tema.getHabilidades().first().getIdentificadorOrdenacao())).andExpect(jsonPath(\"$.habilidades[1].descricao\").value(tema.getHabilidades().last().getDescricao())).andExpect(jsonPath(\"$.habilidades[1].ordem\").value(tema.getHabilidades().last().getIdentificadorOrdenacao())).andExpect(jsonPath(\"$.conteudos[0].ordem\").value(tema.getReferencias().first().getIdentificadorOrdenacao())).andExpect(jsonPath(\"$.conteudos[0].url\").value(tema.getReferencias().first().getUrl().toString())).andExpect(jsonPath(\"$.conteudos[0].descricao\").value(tema.getReferencias().first().getTitulo())).andExpect(jsonPath(\"$.verifiqueSeuConhecimento[0].descricao\").value(tema.getFormasVerificacaoConhecimento().first().getTitulo())).andExpect(jsonPath(\"$.verifiqueSeuConhecimento[0].url\").value(tema.getFormasVerificacaoConhecimento().first().getUrl().toString())).andExpect(jsonPath(\"$.verifiqueSeuConhecimento[0].ordem\").value(tema.getFormasVerificacaoConhecimento().first().getIdentificadorOrdenacao())).andExpect(jsonPath(\"$.valideSeuConhecimento[0].descricao\").value(tema.getFormasValidacaoConhecimento().first().getTitulo())).andExpect(jsonPath(\"$.valideSeuConhecimento[0].url\").value(tema.getFormasValidacaoConhecimento().first().getUrl().toString())).andExpect(jsonPath(\"$.valideSeuConhecimento[0].ordem\").value(tema.getFormasValidacaoConhecimento().first().getIdentificadorOrdenacao())).andExpect(status().isOk());\" is 1967.    1\n",
              "The length of the statement \"return new NovoPlanoDeEstudosRequest(\"titulo\"`\"motivação\"`\"objetivo\"`List.of(\"pre-requisito1\"`\"pre-requisito2\")`List.of(\"palavra-chave1\"`\"palavra-chave2\")`List.of(criaTemaRequest()));\" is 183.                                                                                                                                                                                                                                                                                                                                                                                                                                                                                                                                                                                                                                                                                                                                                                                                                                                                                                                                                                                                                                                                                                                                                                                                                                                                                                                                                                                                                                                                                                                                                                                                                                                                                                                                                                                                                                                             1\n",
              "Name: Cause of the Smell, Length: 63, dtype: int64"
            ]
          },
          "metadata": {},
          "execution_count": 48
        }
      ]
    },
    {
      "cell_type": "markdown",
      "source": [
        "### Smells de Arquitetura"
      ],
      "metadata": {
        "id": "MGsOX_fx0hCP"
      }
    },
    {
      "cell_type": "code",
      "source": [
        "totalArchitectureSmellPackage = architectureDf['Package Name'].nunique()\n",
        "totalArchitectureSmellPackage"
      ],
      "metadata": {
        "colab": {
          "base_uri": "https://localhost:8080/"
        },
        "id": "SxFoh9JvqmDo",
        "outputId": "06da78ee-e901-4a60-f734-5784ff7445c6"
      },
      "execution_count": null,
      "outputs": [
        {
          "output_type": "execute_result",
          "data": {
            "text/plain": [
              "7"
            ]
          },
          "metadata": {},
          "execution_count": 31
        }
      ]
    },
    {
      "cell_type": "code",
      "source": [
        "totalArchitectureSmell = architectureDf['Architecture Smell'].value_counts().sum()\n",
        "totalArchitectureSmell"
      ],
      "metadata": {
        "colab": {
          "base_uri": "https://localhost:8080/"
        },
        "id": "QYvY0GRIqioG",
        "outputId": "95f46e3d-2287-4b3d-c8a5-66edfc4281eb"
      },
      "execution_count": null,
      "outputs": [
        {
          "output_type": "execute_result",
          "data": {
            "text/plain": [
              "23"
            ]
          },
          "metadata": {},
          "execution_count": 32
        }
      ]
    },
    {
      "cell_type": "code",
      "source": [
        "architectureSmellMeasurement = calcMeasurement(packageTotal,totalArchitectureSmellPackage,totalArchitectureSmell)\n",
        "architectureSmellMeasurement"
      ],
      "metadata": {
        "colab": {
          "base_uri": "https://localhost:8080/"
        },
        "id": "l-gyg3YR1vES",
        "outputId": "28ff6290-a80f-4008-f6f1-2d5f7971431c"
      },
      "execution_count": null,
      "outputs": [
        {
          "output_type": "stream",
          "name": "stdout",
          "text": [
            "93.00000000000001\n"
          ]
        },
        {
          "output_type": "execute_result",
          "data": {
            "text/plain": [
              "1"
            ]
          },
          "metadata": {},
          "execution_count": 33
        }
      ]
    },
    {
      "cell_type": "code",
      "source": [
        "architectureDf['Architecture Smell'].value_counts()"
      ],
      "metadata": {
        "colab": {
          "base_uri": "https://localhost:8080/"
        },
        "id": "xXwakAvsvzjk",
        "outputId": "5be4191a-268a-44a4-e4c1-99711d920ff7"
      },
      "execution_count": null,
      "outputs": [
        {
          "output_type": "execute_result",
          "data": {
            "text/plain": [
              "Cyclic Dependency        15\n",
              "Unstable Dependency       4\n",
              "Feature Concentration     3\n",
              "God Component             1\n",
              "Name: Architecture Smell, dtype: int64"
            ]
          },
          "metadata": {},
          "execution_count": 34
        }
      ]
    },
    {
      "cell_type": "code",
      "source": [
        "architectureSmellDetected = architectureDf['Architecture Smell'].unique()\n",
        "architectureSmellDetected"
      ],
      "metadata": {
        "colab": {
          "base_uri": "https://localhost:8080/"
        },
        "id": "Clu_4jRUvzre",
        "outputId": "6c9eef18-952b-4ffa-fc09-8d3e917d6cf7"
      },
      "execution_count": null,
      "outputs": [
        {
          "output_type": "execute_result",
          "data": {
            "text/plain": [
              "array(['Cyclic Dependency', 'Unstable Dependency',\n",
              "       'Feature Concentration', 'God Component'], dtype=object)"
            ]
          },
          "metadata": {},
          "execution_count": 35
        }
      ]
    },
    {
      "cell_type": "code",
      "source": [
        "explanationArchitecture = {\n",
        "\"Cyclic Dependency\": \"Ocorre quando dois ou mais módulos ou componentes dependem um do outro em um loop, tornando difícil a compreensão e manutenção do sistema.\",\n",
        "\"Unstable Dependency\": \"Ocorre quando um módulo depende de outro módulo que é instável e passível de mudanças frequentes, causando impacto negativo na estabilidade do sistema.\",\n",
        "\"Ambiguous Interface\": \"Ocorre quando a interface de um módulo é mal definida, ambígua ou confusa, dificultando seu uso e entendimento pelos usuários.\",\n",
        "\"God Component\": \"Ocorre quando um único componente do sistema é responsável por uma grande quantidade de funcionalidades, tornando-o complexo, difícil de testar e de manter.\",\n",
        "\"Feature Concentration\": \"Ocorre quando um grupo de funcionalidades está concentrado em um único módulo ou componente, tornando-o sobrecarregado e dificultando a separação de responsabilidades.\",\n",
        "\"Scattered Functionality\": \"Ocorre quando as funcionalidades de um sistema estão espalhadas por vários módulos ou componentes, tornando-o difícil de entender e de manter.\",\n",
        "\"Dense Structure\": \"Ocorre quando a estrutura do sistema é complexa e confusa, com muitas camadas e interdependências, dificultando a compreensão e manutenção do sistema.\"\n",
        "}"
      ],
      "metadata": {
        "id": "G5tqXTCq1rOm"
      },
      "execution_count": null,
      "outputs": []
    },
    {
      "cell_type": "code",
      "source": [
        "explanationArchitectureFinal = {}\n",
        "for chave, valor in explanationArchitecture.items():\n",
        "    if chave in architectureSmellDetected:\n",
        "        explanationArchitectureFinal[chave] = valor\n",
        "explanationArchitectureFinal"
      ],
      "metadata": {
        "colab": {
          "base_uri": "https://localhost:8080/"
        },
        "id": "Y0sX3Ivl6CCo",
        "outputId": "f97208a9-c99e-4fd1-9dc3-3bfd1b87048c"
      },
      "execution_count": null,
      "outputs": [
        {
          "output_type": "execute_result",
          "data": {
            "text/plain": [
              "{'Cyclic Dependency': 'Ocorre quando dois ou mais módulos ou componentes dependem um do outro em um loop, tornando difícil a compreensão e manutenção do sistema.',\n",
              " 'Unstable Dependency': 'Ocorre quando um módulo depende de outro módulo que é instável e passível de mudanças frequentes, causando impacto negativo na estabilidade do sistema.',\n",
              " 'God Component': 'Ocorre quando um único componente do sistema é responsável por uma grande quantidade de funcionalidades, tornando-o complexo, difícil de testar e de manter.',\n",
              " 'Feature Concentration': 'Ocorre quando um grupo de funcionalidades está concentrado em um único módulo ou componente, tornando-o sobrecarregado e dificultando a separação de responsabilidades.'}"
            ]
          },
          "metadata": {},
          "execution_count": 37
        }
      ]
    },
    {
      "cell_type": "code",
      "source": [
        "recommendArchitecture = {\n",
        "    \"Cyclic Dependency\": \"Reorganize the code to avoid circular references. Consider using dependency injection or event-driven architecture.\",\n",
        "    \"Unstable Dependency\": \"Reorganize the code to minimize dependencies on unstable components. Consider using interfaces or dependency inversion.\",\n",
        "    \"Ambiguous Interface\": \"Clarify the interface of components to avoid misunderstandings and reduce the likelihood of future changes breaking the code.\",\n",
        "    \"God Component\": \"Refactor the code to break down the god component into smaller, more specialized components. Consider using the single responsibility principle.\",\n",
        "    \"Feature Concentration\": \"Refactor the code to distribute features across multiple components instead of having them concentrated in a few. Consider using the separation of concerns principle.\",\n",
        "    \"Scattered Functionality\": \"Refactor the code to group related functionality into cohesive components. Consider using the cohesion principle.\",\n",
        "    \"Dense Structure\": \"Refactor the code to reduce the complexity of the structure. Consider using modular design or layering.\"\n",
        "}"
      ],
      "metadata": {
        "id": "obQAAkPYyrfk"
      },
      "execution_count": null,
      "outputs": []
    },
    {
      "cell_type": "code",
      "source": [
        "recommendArchitectureFinal = {}\n",
        "for chave, valor in recommendArchitecture.items():\n",
        "    if chave in architectureSmellDetected:\n",
        "        recommendArchitectureFinal[chave] = valor\n",
        "recommendArchitectureFinal"
      ],
      "metadata": {
        "colab": {
          "base_uri": "https://localhost:8080/"
        },
        "id": "4a0ov6wUz9aG",
        "outputId": "bb04a7b6-b687-4008-df78-b0dfaaed2ba7"
      },
      "execution_count": null,
      "outputs": [
        {
          "output_type": "execute_result",
          "data": {
            "text/plain": [
              "{'Cyclic Dependency': 'Reorganize the code to avoid circular references. Consider using dependency injection or event-driven architecture.',\n",
              " 'Unstable Dependency': 'Reorganize the code to minimize dependencies on unstable components. Consider using interfaces or dependency inversion.',\n",
              " 'God Component': 'Refactor the code to break down the god component into smaller, more specialized components. Consider using the single responsibility principle.',\n",
              " 'Feature Concentration': 'Refactor the code to distribute features across multiple components instead of having them concentrated in a few. Consider using the separation of concerns principle.'}"
            ]
          },
          "metadata": {},
          "execution_count": 39
        }
      ]
    },
    {
      "cell_type": "markdown",
      "source": [
        "### Smells de Teste"
      ],
      "metadata": {
        "id": "syBItKu80irb"
      }
    },
    {
      "cell_type": "code",
      "source": [
        "totalTestSmellMethod = testDf['Method Name'].nunique()\n",
        "totalTestSmellMethod"
      ],
      "metadata": {
        "colab": {
          "base_uri": "https://localhost:8080/"
        },
        "id": "0lXBIPJT1vh4",
        "outputId": "d826e3f8-c28b-40bf-9ba7-5a951298bcd5"
      },
      "execution_count": null,
      "outputs": [
        {
          "output_type": "execute_result",
          "data": {
            "text/plain": [
              "6"
            ]
          },
          "metadata": {},
          "execution_count": 40
        }
      ]
    },
    {
      "cell_type": "code",
      "source": [
        "totalTestSmell = testDf['Test Smell'].value_counts().sum()\n",
        "totalTestSmell"
      ],
      "metadata": {
        "colab": {
          "base_uri": "https://localhost:8080/"
        },
        "id": "A1YdjCE0UfVl",
        "outputId": "5e67ceb1-0684-4aaf-c8a2-06165b45fb55"
      },
      "execution_count": null,
      "outputs": [
        {
          "output_type": "execute_result",
          "data": {
            "text/plain": [
              "11"
            ]
          },
          "metadata": {},
          "execution_count": 41
        }
      ]
    },
    {
      "cell_type": "code",
      "source": [
        "#Pegando total de metodos de classes de teste\n",
        "methodTotalFilteredtest = methodMetricsDf[methodMetricsDf['Type Name'].str.contains('Test', case=True)]\n",
        "methodTotalFilteredtest = methodTotalFilteredtest['Method Name'].nunique()\n",
        "methodTotalFilteredtest"
      ],
      "metadata": {
        "colab": {
          "base_uri": "https://localhost:8080/"
        },
        "id": "mt9zmk3ntnKy",
        "outputId": "77785355-2dc9-4ff3-979d-5ee68a40e924"
      },
      "execution_count": null,
      "outputs": [
        {
          "output_type": "execute_result",
          "data": {
            "text/plain": [
              "8"
            ]
          },
          "metadata": {},
          "execution_count": 42
        }
      ]
    },
    {
      "cell_type": "code",
      "source": [
        "testSmellMeasurement = calcMeasurement(methodTotalFilteredtest,totalTestSmellMethod,totalTestSmell)\n",
        "testSmellMeasurement"
      ],
      "metadata": {
        "colab": {
          "base_uri": "https://localhost:8080/"
        },
        "id": "X1OZWcBLsQ8O",
        "outputId": "5137a88e-4b72-4e10-ccc9-20449917e2ff"
      },
      "execution_count": null,
      "outputs": [
        {
          "output_type": "stream",
          "name": "stdout",
          "text": [
            "92.1875\n"
          ]
        },
        {
          "output_type": "execute_result",
          "data": {
            "text/plain": [
              "1"
            ]
          },
          "metadata": {},
          "execution_count": 43
        }
      ]
    },
    {
      "cell_type": "code",
      "source": [
        "testDf['Test Smell'].value_counts()"
      ],
      "metadata": {
        "colab": {
          "base_uri": "https://localhost:8080/"
        },
        "id": "8u1641srv0fo",
        "outputId": "69da5957-36b2-44c3-cb8c-033ee1bfb13a"
      },
      "execution_count": null,
      "outputs": [
        {
          "output_type": "execute_result",
          "data": {
            "text/plain": [
              "Assertion roulette    7\n",
              "Eager test            3\n",
              "Missing assertion     1\n",
              "Name: Test Smell, dtype: int64"
            ]
          },
          "metadata": {},
          "execution_count": 44
        }
      ]
    },
    {
      "cell_type": "code",
      "source": [
        "testSmellDetected = testDf['Test Smell'].unique()\n",
        "testSmellDetected"
      ],
      "metadata": {
        "colab": {
          "base_uri": "https://localhost:8080/"
        },
        "id": "Dhd1f_rHv0nE",
        "outputId": "c64162af-896a-42a3-960c-9e3281c699da"
      },
      "execution_count": null,
      "outputs": [
        {
          "output_type": "execute_result",
          "data": {
            "text/plain": [
              "array(['Assertion roulette', 'Eager test', 'Missing assertion'],\n",
              "      dtype=object)"
            ]
          },
          "metadata": {},
          "execution_count": 45
        }
      ]
    },
    {
      "cell_type": "code",
      "source": [
        "explanationTest = {\n",
        "\"Assertion roulette\": \"Ocorre quando testes contêm muitas afirmações (assertions), tornando difícil determinar qual afirmação falhou em caso de falha de teste.\",\n",
        "\"Conditional test logic\": \"Ocorre quando a lógica do teste é muito complexa, com muitas condições, o que dificulta a manutenção e a compreensão dos testes.\",\n",
        "\"Constructor initialization\": \"Ocorre quando os testes usam construtores para inicializar objetos, o que pode tornar os testes mais lentos e difíceis de manter.\",\n",
        "\"Eager test\": \"Ocorre quando os testes realizam muitas ações e verificam muitas coisas, o que torna os testes lentos e difíceis de manter.\",\n",
        "\"Empty test\": \"Ocorre quando os testes não fazem nenhuma verificação ou validação, tornando-os inúteis para garantir a qualidade do software.\",\n",
        "\"Exception handling\": \"Ocorre quando os testes não lidam com exceções (exceptions) adequadamente, tornando difícil determinar a causa de uma falha de teste.\",\n",
        "\"Ignored test\": \"Ocorre quando os testes são ignorados (skipped) sem uma razão válida, o que pode levar a falhas não detectadas no software.\",\n",
        "\"Missing assertion\": \"Ocorre quando os testes não incluem afirmações (assertions) suficientes para verificar se o software está funcionando corretamente.\",\n",
        "\"Unknown test\": \"Ocorre quando os testes não são nomeados adequadamente ou não possuem documentação, tornando difícil determinar o que o teste está verificando ou como ele funciona.\"\n",
        "}"
      ],
      "metadata": {
        "id": "3LOsU-wv2OSV"
      },
      "execution_count": null,
      "outputs": []
    },
    {
      "cell_type": "code",
      "source": [
        "explanationTestFinal = {}\n",
        "for chave, valor in explanationTest.items():\n",
        "    if chave in testSmellDetected:\n",
        "        explanationTestFinal[chave] = valor\n",
        "explanationTestFinal"
      ],
      "metadata": {
        "colab": {
          "base_uri": "https://localhost:8080/"
        },
        "id": "qZQPEdIh6Pus",
        "outputId": "7e223938-e1a8-493f-877e-e8ede68e895e"
      },
      "execution_count": null,
      "outputs": [
        {
          "output_type": "execute_result",
          "data": {
            "text/plain": [
              "{'Assertion roulette': 'Ocorre quando testes contêm muitas afirmações (assertions), tornando difícil determinar qual afirmação falhou em caso de falha de teste.',\n",
              " 'Eager test': 'Ocorre quando os testes realizam muitas ações e verificam muitas coisas, o que torna os testes lentos e difíceis de manter.',\n",
              " 'Missing assertion': 'Ocorre quando os testes não incluem afirmações (assertions) suficientes para verificar se o software está funcionando corretamente.'}"
            ]
          },
          "metadata": {},
          "execution_count": 48
        }
      ]
    },
    {
      "cell_type": "code",
      "source": [
        "recommendTest = {\n",
        "    \"Assertion roulette\": \"Rever o conjunto de asserções e eliminar as que não são necessárias, mantendo apenas aquelas que são essenciais para garantir a corretude do sistema.\",\n",
        "    \"Conditional test logic\": \"Simplificar os testes para reduzir a complexidade da lógica de teste, evitando testes condicionais demais.\",\n",
        "    \"Constructor initialization\": \"Verificar se a inicialização dos objetos está sendo feita corretamente no construtor e se é possível separar a inicialização em métodos auxiliares para tornar o construtor mais claro.\",\n",
        "    \"Eager test\": \"Avaliar se todos os testes são necessários, considerando remover testes que cobrem funcionalidades pouco importantes ou que já foram testadas de outras formas.\",\n",
        "    \"Empty test\": \"Eliminar os testes vazios e garantir que cada teste cubra pelo menos uma funcionalidade do sistema.\",\n",
        "    \"Exception handling\": \"Garantir que as exceções sejam tratadas de forma correta e que o código esteja protegido contra possíveis erros ou comportamentos inesperados.\",\n",
        "    \"Ignored test\": \"Remover os testes ignorados ou refatorá-los para que cubram um cenário real do sistema.\",\n",
        "    \"Missing assertion\": \"Adicione uma ou mais declarações de assert no final do teste para verificar o resultado esperado. As declarações de assert devem ser cuidadosamente escritas para garantir que testem apenas o que é necessário e não deixem passar casos não previstos.\",\n",
        "    \"Unknown test\": \"Analisar os testes para verificar se estão cobrindo funcionalidades desconhecidas ou mal definidas e reescrever os testes para garantir que cubram apenas funcionalidades bem definidas.\"\n",
        "}"
      ],
      "metadata": {
        "id": "b-dWYOlHy1a8"
      },
      "execution_count": null,
      "outputs": []
    },
    {
      "cell_type": "code",
      "source": [
        "recommendTestFinal = {}\n",
        "for chave, valor in recommendTest.items():\n",
        "    if chave in testSmellDetected:\n",
        "        recommendTestFinal[chave] = valor\n",
        "recommendTestFinal"
      ],
      "metadata": {
        "colab": {
          "base_uri": "https://localhost:8080/"
        },
        "id": "CmQEAD3M0Yfk",
        "outputId": "9c3f8d43-57ac-4e40-e8ab-9934e2a49416"
      },
      "execution_count": null,
      "outputs": [
        {
          "output_type": "execute_result",
          "data": {
            "text/plain": [
              "{'Assertion roulette': 'Rever o conjunto de asserções e eliminar as que não são necessárias, mantendo apenas aquelas que são essenciais para garantir a corretude do sistema.',\n",
              " 'Eager test': 'Avaliar se todos os testes são necessários, considerando remover testes que cobrem funcionalidades pouco importantes ou que já foram testadas de outras formas.',\n",
              " 'Missing assertion': 'Adicione uma ou mais declarações de assert no final do teste para verificar o resultado esperado. As declarações de assert devem ser cuidadosamente escritas para garantir que testem apenas o que é necessário e não deixem passar casos não previstos.'}"
            ]
          },
          "metadata": {},
          "execution_count": 50
        }
      ]
    },
    {
      "cell_type": "markdown",
      "source": [
        "### Smells de Testabilidade"
      ],
      "metadata": {
        "id": "t8v6hfHF0kX7"
      }
    },
    {
      "cell_type": "code",
      "source": [
        "totalTestabilitySmellClass = testabilityDf['Type Name'].nunique()\n",
        "totalTestabilitySmellClass"
      ],
      "metadata": {
        "colab": {
          "base_uri": "https://localhost:8080/"
        },
        "id": "iBMWikjqt9Lk",
        "outputId": "caef950e-3822-4c92-f52e-718f5f117455"
      },
      "execution_count": null,
      "outputs": [
        {
          "output_type": "execute_result",
          "data": {
            "text/plain": [
              "8"
            ]
          },
          "metadata": {},
          "execution_count": 51
        }
      ]
    },
    {
      "cell_type": "code",
      "source": [
        "totalTestabilitySmell = testabilityDf['Testability Smell'].value_counts().sum()\n",
        "totalTestabilitySmell"
      ],
      "metadata": {
        "colab": {
          "base_uri": "https://localhost:8080/"
        },
        "id": "g2MCO0Iut9Wj",
        "outputId": "79a45d4c-f2c5-4fb8-d4cc-7daef6bed8d4"
      },
      "execution_count": null,
      "outputs": [
        {
          "output_type": "execute_result",
          "data": {
            "text/plain": [
              "10"
            ]
          },
          "metadata": {},
          "execution_count": 52
        }
      ]
    },
    {
      "cell_type": "code",
      "source": [
        "testabilitySmellMeasurement = calcMeasurement(classTotal,totalTestabilitySmellClass,totalTestabilitySmell)\n",
        "testabilitySmellMeasurement"
      ],
      "metadata": {
        "colab": {
          "base_uri": "https://localhost:8080/"
        },
        "id": "o7hww--JuAfs",
        "outputId": "1407ef3e-f0d5-47d4-eb1c-a9418613e7ed"
      },
      "execution_count": null,
      "outputs": [
        {
          "output_type": "stream",
          "name": "stdout",
          "text": [
            "17.100694444444446\n"
          ]
        },
        {
          "output_type": "execute_result",
          "data": {
            "text/plain": [
              "5"
            ]
          },
          "metadata": {},
          "execution_count": 53
        }
      ]
    },
    {
      "cell_type": "code",
      "source": [
        "testabilityDf['Testability Smell'].value_counts()"
      ],
      "metadata": {
        "colab": {
          "base_uri": "https://localhost:8080/"
        },
        "id": "jUguBNsUv1Sr",
        "outputId": "5f58e0fa-2a33-473b-9b13-b4d9977a27df"
      },
      "execution_count": null,
      "outputs": [
        {
          "output_type": "execute_result",
          "data": {
            "text/plain": [
              "Hard-wired Dependency       5\n",
              "Global State                3\n",
              "Law of Demeter violation    2\n",
              "Name: Testability Smell, dtype: int64"
            ]
          },
          "metadata": {},
          "execution_count": 54
        }
      ]
    },
    {
      "cell_type": "code",
      "source": [
        "testabilitySmellDetected = testabilityDf['Testability Smell'].unique()\n",
        "testabilitySmellDetected"
      ],
      "metadata": {
        "colab": {
          "base_uri": "https://localhost:8080/"
        },
        "id": "VE21FYzWv1dM",
        "outputId": "a1ffefe3-2b78-4ddb-bba4-42dc0c5e6248"
      },
      "execution_count": null,
      "outputs": [
        {
          "output_type": "execute_result",
          "data": {
            "text/plain": [
              "array(['Hard-wired Dependency', 'Global State',\n",
              "       'Law of Demeter violation'], dtype=object)"
            ]
          },
          "metadata": {},
          "execution_count": 55
        }
      ]
    },
    {
      "cell_type": "code",
      "source": [
        "explanationTestability = {\n",
        "\"Hard-wired Dependency\": \"Ocorre quando um objeto faz referência direta a um objeto específico em vez de depender de uma abstração, o que dificulta a substituição de componentes e torna o código menos flexível.\",\n",
        "\"Global State\": \"Ocorre quando variáveis globais são usadas em diferentes partes do código, tornando difícil rastrear onde essas variáveis são alteradas e dificultando a manutenção do código.\",\n",
        "\"Excessive dependency\": \"Ocorre quando uma classe tem muitas dependências de outras classes, tornando o acoplamento entre as classes muito forte e difícil de gerenciar.\",\n",
        "\"Law of Demeter violation\": \"Ocorre quando uma classe interage com muitas outras classes e não segue o princípio da Lei de Demeter, o que torna o código mais complexo e difícil de entender, além de aumentar o acoplamento entre as classes.\" \n",
        "}"
      ],
      "metadata": {
        "id": "cWKY4J7p3kYq"
      },
      "execution_count": null,
      "outputs": []
    },
    {
      "cell_type": "code",
      "source": [
        "explanationTestabilityFinal = {}\n",
        "for chave, valor in explanationTestability.items():\n",
        "    if chave in testabilitySmellDetected:\n",
        "        explanationTestabilityFinal[chave] = valor\n",
        "explanationTestabilityFinal"
      ],
      "metadata": {
        "colab": {
          "base_uri": "https://localhost:8080/"
        },
        "id": "qoQRncZk6g8y",
        "outputId": "665d404a-c53a-4ff0-d506-1d9bf2b37d08"
      },
      "execution_count": null,
      "outputs": [
        {
          "output_type": "execute_result",
          "data": {
            "text/plain": [
              "{'Hard-wired Dependency': 'Ocorre quando um objeto faz referência direta a um objeto específico em vez de depender de uma abstração, o que dificulta a substituição de componentes e torna o código menos flexível.',\n",
              " 'Global State': 'Ocorre quando variáveis globais são usadas em diferentes partes do código, tornando difícil rastrear onde essas variáveis são alteradas e dificultando a manutenção do código.',\n",
              " 'Law of Demeter violation': 'Ocorre quando uma classe interage com muitas outras classes e não segue o princípio da Lei de Demeter, o que torna o código mais complexo e difícil de entender, além de aumentar o acoplamento entre as classes.'}"
            ]
          },
          "metadata": {},
          "execution_count": 57
        }
      ]
    },
    {
      "cell_type": "code",
      "source": [
        "recommendTestability = {\n",
        "  \"Hard-wired Dependency\": \"Use dependency injection to decouple dependencies and make them easier to mock in tests.\",\n",
        "  \"Global State\": \"Reduce or eliminate the use of global variables to make code more modular and testable.\",\n",
        "  \"Excessive dependency\": \"Identify and remove unnecessary dependencies to reduce the complexity of the code and make it easier to test.\",\n",
        "  \"Law of Demeter violation\": \"Use the Law of Demeter (LoD) principle to minimize the coupling between objects and make code more modular and testable.\"\n",
        "}"
      ],
      "metadata": {
        "id": "OuvtqLuUzVOb"
      },
      "execution_count": null,
      "outputs": []
    },
    {
      "cell_type": "code",
      "source": [
        "recommendTestabilityFinal = {}\n",
        "for chave, valor in recommendTestability.items():\n",
        "    if chave in testabilitySmellDetected:\n",
        "        recommendTestabilityFinal[chave] = valor\n",
        "recommendTestabilityFinal"
      ],
      "metadata": {
        "colab": {
          "base_uri": "https://localhost:8080/"
        },
        "id": "7I_Ag0KK1Ke6",
        "outputId": "96eb2d54-7f69-41f0-97a7-476658afc128"
      },
      "execution_count": null,
      "outputs": [
        {
          "output_type": "execute_result",
          "data": {
            "text/plain": [
              "{'Hard-wired Dependency': 'Use dependency injection to decouple dependencies and make them easier to mock in tests.',\n",
              " 'Global State': 'Reduce or eliminate the use of global variables to make code more modular and testable.',\n",
              " 'Law of Demeter violation': 'Use the Law of Demeter (LoD) principle to minimize the coupling between objects and make code more modular and testable.'}"
            ]
          },
          "metadata": {},
          "execution_count": 59
        }
      ]
    },
    {
      "cell_type": "markdown",
      "source": [
        "### Smells de Design"
      ],
      "metadata": {
        "id": "aoz4ypxh0lyX"
      }
    },
    {
      "cell_type": "code",
      "source": [
        "totalDesignSmellClass = designDf['Type Name'].nunique()\n",
        "totalDesignSmellClass"
      ],
      "metadata": {
        "colab": {
          "base_uri": "https://localhost:8080/"
        },
        "id": "za8sU55Auln8",
        "outputId": "a83e6bb6-16d5-407a-fb87-ae3609984572"
      },
      "execution_count": null,
      "outputs": [
        {
          "output_type": "execute_result",
          "data": {
            "text/plain": [
              "14"
            ]
          },
          "metadata": {},
          "execution_count": 60
        }
      ]
    },
    {
      "cell_type": "code",
      "source": [
        "totalDesignSmell = designDf['Design Smell'].value_counts().sum()\n",
        "totalDesignSmell"
      ],
      "metadata": {
        "colab": {
          "base_uri": "https://localhost:8080/"
        },
        "id": "fbmIf0W4ulvW",
        "outputId": "9cd5cf26-0177-4ea5-f657-7a9364dec59c"
      },
      "execution_count": null,
      "outputs": [
        {
          "output_type": "execute_result",
          "data": {
            "text/plain": [
              "17"
            ]
          },
          "metadata": {},
          "execution_count": 61
        }
      ]
    },
    {
      "cell_type": "code",
      "source": [
        "designSmellMeasurement = calcMeasurement(classTotal,totalDesignSmellClass,totalDesignSmell)\n",
        "designSmellMeasurement"
      ],
      "metadata": {
        "colab": {
          "base_uri": "https://localhost:8080/"
        },
        "id": "Vt68r70Xul3G",
        "outputId": "3be6ea28-365a-4341-b70f-5737e894d7f4"
      },
      "execution_count": null,
      "outputs": [
        {
          "output_type": "stream",
          "name": "stdout",
          "text": [
            "29.904513888888886\n"
          ]
        },
        {
          "output_type": "execute_result",
          "data": {
            "text/plain": [
              "4"
            ]
          },
          "metadata": {},
          "execution_count": 62
        }
      ]
    },
    {
      "cell_type": "code",
      "source": [
        "designDf['Design Smell'].value_counts()"
      ],
      "metadata": {
        "colab": {
          "base_uri": "https://localhost:8080/"
        },
        "id": "Y_itl_tov2Rg",
        "outputId": "7208a24a-6584-40dd-de66-1d617cc2ec20"
      },
      "execution_count": null,
      "outputs": [
        {
          "output_type": "execute_result",
          "data": {
            "text/plain": [
              "Unutilized Abstraction                 12\n",
              "Unnecessary Abstraction                 3\n",
              "Cyclically-dependent Modularization     2\n",
              "Name: Design Smell, dtype: int64"
            ]
          },
          "metadata": {},
          "execution_count": 63
        }
      ]
    },
    {
      "cell_type": "code",
      "source": [
        "designSmellDetected = designDf['Design Smell'].unique()\n",
        "designSmellDetected"
      ],
      "metadata": {
        "colab": {
          "base_uri": "https://localhost:8080/"
        },
        "id": "Uv2llAz9v2ZG",
        "outputId": "1fdb0aab-e0de-4402-c53a-c721c7990851"
      },
      "execution_count": null,
      "outputs": [
        {
          "output_type": "execute_result",
          "data": {
            "text/plain": [
              "array(['Cyclically-dependent Modularization', 'Unutilized Abstraction',\n",
              "       'Unnecessary Abstraction'], dtype=object)"
            ]
          },
          "metadata": {},
          "execution_count": 64
        }
      ]
    },
    {
      "cell_type": "code",
      "source": [
        "explanationDesign = {\n",
        "\"Imperative Abstraction\": \"ocorre quando uma abstração é mal projetada, possuindo comandos imperativos ou instruções condicionais.\",\n",
        "\"Unnecessary Abstraction\": \"ocorre quando uma abstração é criada sem que haja uma necessidade real de existir.\",\n",
        "\"Multifaceted Abstraction\": \"ocorre quando uma abstração é utilizada para representar mais de um conceito, tornando seu uso confuso e desorganizado.\",\n",
        "\"Unutilized Abstraction\": \"ocorre quando uma abstração é criada, mas não é utilizada em nenhum lugar do código.\",\n",
        "\"Feature Envy\": \"ocorre quando um método ou classe utiliza excessivamente os dados ou comportamentos de outra classe, indicando que deveria pertencer à classe que utiliza.\",\n",
        "\"Deficient Encapsulation\": \"ocorre quando a estrutura interna de uma classe é acessível externamente, podendo levar a erros e dificuldades de manutenção.\",\n",
        "\"Unexploited Encapsulation\": \"ocorre quando uma classe encapsula dados e comportamentos, mas não os utiliza ou expõe para uso externo, tornando a abstração inútil.\",\n",
        "\"Broken Modularization\": \"ocorre quando o código é mal organizado em módulos, com responsabilidades mal definidas e interdependências excessivas.\",\n",
        "\"Insufficient Modularization\": \"ocorre quando o código não é suficientemente modularizado, com um único módulo contendo muitas responsabilidades e comportamentos diferentes.\",\n",
        "\"Hub-like Modularization\": \"ocorre quando um único módulo é responsável por conectar todos os outros módulos, tornando-se um ponto central de falhas e dificuldades de manutenção.\",\n",
        "\"Cyclically-dependent Modularization\": \"ocorre quando os módulos possuem dependências circulares, tornando difícil entender a lógica e a ordem de execução do código.\",\n",
        "\"Wide Hierarchy\": \"ocorre quando uma hierarquia de classes tem muitos níveis, dificultando a compreensão e manutenção do código.\",\n",
        "\"Deep Hierarchy\": \"ocorre quando uma hierarquia de classes tem muitos subníveis, o que pode indicar um design inadequado ou excesso de responsabilidades em uma única classe.\",\n",
        "\"Multipath Hierarchy\": \"ocorre quando há várias maneiras de acessar um mesmo comportamento ou dado em uma hierarquia de classes, o que pode levar a inconsistências e erros.\",\n",
        "\"Cyclic Hierarchy\": \"ocorre quando há dependências circulares entre as classes em uma hierarquia, tornando difícil entender a ordem de execução do código e a lógica por trás dela.\",\n",
        "\"Rebellious Hierarchy\": \"ocorre quando uma classe filha não segue a lógica ou responsabilidades esperadas da classe mãe, levando a um design inconsistente e difícil de entender.\",\n",
        "\"Missing Hierarchy\": \"ocorre quando não há uma hierarquia clara de classes para representar a lógica do código, levando a um design caótico e difícil de entender.\",\n",
        "\"Broken Hierarchy\": \"ocorre quando a hierarquia de classes não representa adequadamente a lógica do código, com classes deslocadas ou responsabilidades mal definidas.\"\n",
        "}"
      ],
      "metadata": {
        "id": "d6vfZ7yI4K1J"
      },
      "execution_count": null,
      "outputs": []
    },
    {
      "cell_type": "code",
      "source": [
        "explanationDesignFinal = {}\n",
        "for chave, valor in explanationDesign.items():\n",
        "    if chave in designSmellDetected:\n",
        "        explanationDesignFinal[chave] = valor\n",
        "explanationDesignFinal"
      ],
      "metadata": {
        "colab": {
          "base_uri": "https://localhost:8080/"
        },
        "id": "XgtW3_Ix6sVX",
        "outputId": "a6c71350-aed4-40fc-a115-b5f2d04acdde"
      },
      "execution_count": null,
      "outputs": [
        {
          "output_type": "execute_result",
          "data": {
            "text/plain": [
              "{'Unnecessary Abstraction': 'ocorre quando uma abstração é criada sem que haja uma necessidade real de existir.',\n",
              " 'Unutilized Abstraction': 'ocorre quando uma abstração é criada, mas não é utilizada em nenhum lugar do código.',\n",
              " 'Cyclically-dependent Modularization': 'ocorre quando os módulos possuem dependências circulares, tornando difícil entender a lógica e a ordem de execução do código.'}"
            ]
          },
          "metadata": {},
          "execution_count": 66
        }
      ]
    },
    {
      "cell_type": "code",
      "source": [
        "recommendDesign = {\"Imperative Abstraction\": \"tente tornar suas abstrações mais declarativas e expressivas, evitando comandos imperativos ou instruções condicionais.\",\n",
        "\"Unnecessary Abstraction\": \"remova qualquer abstração que não esteja fornecendo nenhum valor ou funcionalidade significativa.\",\n",
        "\"Multifaceted Abstraction\": \"tente dividir abstrações complexas em abstrações menores e mais específicas que tenham apenas uma responsabilidade clara e bem definida.\",\n",
        "\"Unutilized Abstraction\": \"remova qualquer abstração que não esteja sendo usada em seu código.\",\n",
        "\"Feature Envy\": \"tente mover o código que depende excessivamente de outras classes para a classe que contém as informações necessárias.\",\n",
        "\"Deficient Encapsulation\": \"tente proteger melhor as informações dentro de suas classes, evitando o acesso direto a variáveis de instância ou métodos.\",\n",
        "\"Unexploited Encapsulation\": \"use as informações encapsuladas dentro de suas classes e evite o acesso direto a variáveis de instância ou métodos.\",\n",
        "\"Broken Modularization\": \"tente dividir seu código em módulos menores e mais específicos que tenham apenas uma responsabilidade clara e bem definida.\",\n",
        "\"Insufficient Modularization\": \"tente dividir seu código em módulos mais granulares que forneçam funcionalidade mais específica e reutilizável.\",\n",
        "\"Hub-like Modularization\": \"tente dividir seu código em módulos mais equilibrados, sem depender de um único módulo centralizado para fornecer funcionalidade.\",\n",
        "\"Cyclically-dependent Modularization\": \"evite dependências circulares entre módulos, tente reorganizar seu código para que os módulos dependam apenas de outros módulos mais primitivos.\",\n",
        "\"Wide Hierarchy\": \"tente reduzir a largura da hierarquia de classes, limitando o número de subclasses diretas de uma classe base.\",\n",
        "\"Deep Hierarchy\": \"tente reduzir a profundidade da hierarquia de classes, limitando o número de níveis que uma classe pode ter na hierarquia.\",\n",
        "\"Multipath Hierarchy\": \"evite que uma classe tenha mais de um caminho para uma classe base, a menos que seja absolutamente necessário.\",\n",
        "\"Cyclic Hierarchy\": \"evite que uma classe dependa diretamente de uma classe que depende diretamente dela.\",\n",
        "\"Rebellious Hierarchy\": \"evite que uma classe substitua métodos que não deveria substituir, o que pode levar a comportamentos inesperados ou não desejados.\",\n",
        "\"Missing Hierarchy\": \"considere adicionar uma hierarquia de classes se estiver lidando com comportamentos que variam com base em uma ou mais características específicas do objeto.\",\n",
        "\"Broken Hierarchy\": \"tente corrigir qualquer problema que esteja causando problemas com a hierarquia de classes.\"\n",
        "}"
      ],
      "metadata": {
        "id": "c-sH0B-Czalm"
      },
      "execution_count": null,
      "outputs": []
    },
    {
      "cell_type": "code",
      "source": [
        "recommendDesignFinal = {}\n",
        "for chave, valor in recommendDesign.items():\n",
        "    if chave in designSmellDetected:\n",
        "        recommendDesignFinal[chave] = valor\n",
        "recommendDesignFinal"
      ],
      "metadata": {
        "colab": {
          "base_uri": "https://localhost:8080/"
        },
        "id": "kFDdgJDA2Lqd",
        "outputId": "d3c120d5-8345-4365-b502-10a6c066ae4f"
      },
      "execution_count": null,
      "outputs": [
        {
          "output_type": "execute_result",
          "data": {
            "text/plain": [
              "{'Unnecessary Abstraction': 'remova qualquer abstração que não esteja fornecendo nenhum valor ou funcionalidade significativa.',\n",
              " 'Unutilized Abstraction': 'remova qualquer abstração que não esteja sendo usada em seu código.',\n",
              " 'Cyclically-dependent Modularization': 'evite dependências circulares entre módulos, tente reorganizar seu código para que os módulos dependam apenas de outros módulos mais primitivos.'}"
            ]
          },
          "metadata": {},
          "execution_count": 68
        }
      ]
    },
    {
      "cell_type": "markdown",
      "source": [
        "## TO-DO: Fazer para Segurança e SAD"
      ],
      "metadata": {
        "id": "pQgo3AxJ8gDR"
      }
    },
    {
      "cell_type": "markdown",
      "source": [
        "### Visão do Projeto"
      ],
      "metadata": {
        "id": "9rI7zRdJ0tXX"
      }
    },
    {
      "cell_type": "code",
      "source": [
        "measurements = [implementationSmellMeasurement, architectureSmellMeasurement, testSmellMeasurement, testabilitySmellMeasurement, designSmellMeasurement]\n",
        "projectMeasurement = sum(measurements)/len(measurements)\n",
        "projectMeasurement"
      ],
      "metadata": {
        "colab": {
          "base_uri": "https://localhost:8080/"
        },
        "id": "snz7eB7v1xGK",
        "outputId": "30dd2a75-85ac-449b-9102-6b8652583ee2"
      },
      "execution_count": null,
      "outputs": [
        {
          "output_type": "execute_result",
          "data": {
            "text/plain": [
              "3.0"
            ]
          },
          "metadata": {},
          "execution_count": 118
        }
      ]
    },
    {
      "cell_type": "code",
      "source": [
        "projectEvaluation = np.concatenate((implementationSmellDetected, architectureSmellDetected, testSmellDetected, testabilitySmellDetected, designSmellDetected))\n",
        "projectEvaluation"
      ],
      "metadata": {
        "colab": {
          "base_uri": "https://localhost:8080/"
        },
        "id": "Bfov0OI2v4eq",
        "outputId": "7aa67c00-80dd-4921-8a75-79b50b4a52a7"
      },
      "execution_count": null,
      "outputs": [
        {
          "output_type": "execute_result",
          "data": {
            "text/plain": [
              "array(['Long Statement', 'Magic Number', 'Long Identifier',\n",
              "       'Long Parameter List', 'Cyclic Dependency', 'Unstable Dependency',\n",
              "       'Feature Concentration', 'God Component', 'Assertion roulette',\n",
              "       'Eager test', 'Missing assertion', 'Hard-wired Dependency',\n",
              "       'Global State', 'Law of Demeter violation',\n",
              "       'Cyclically-dependent Modularization', 'Unutilized Abstraction',\n",
              "       'Unnecessary Abstraction'], dtype=object)"
            ]
          },
          "metadata": {},
          "execution_count": 128
        }
      ]
    },
    {
      "cell_type": "code",
      "source": [
        "projectRecommend = {}\n",
        "projectRecommend.update(recommendImplementationFinal)\n",
        "projectRecommend.update(recommendArchitectureFinal)\n",
        "projectRecommend.update(recommendTestFinal)\n",
        "projectRecommend.update(recommendTestabilityFinal)\n",
        "projectRecommend.update(recommendDesignFinal)\n",
        "projectRecommend"
      ],
      "metadata": {
        "colab": {
          "base_uri": "https://localhost:8080/"
        },
        "id": "Ov5Cz1mhv4nM",
        "outputId": "b0b388e5-019a-4c01-a545-0acfb958dc6c"
      },
      "execution_count": null,
      "outputs": [
        {
          "output_type": "execute_result",
          "data": {
            "text/plain": [
              "{'Long Identifier': 'Tente manter os identificadores de variáveis, métodos e classes curtos e descritivos. Evite usar abreviações obscuras ou nomes muito genéricos.',\n",
              " 'Long Parameter List': 'Evite métodos com muitos parâmetros. Considere agrupá-los em estruturas de dados (como dicionários ou tuplas) ou usar parâmetros opcionais.',\n",
              " 'Long Statement': 'Evite instruções muito longas e complexas. Considere dividir as instruções em instruções menores ou usar variáveis auxiliares para tornar o código mais legível.',\n",
              " 'Magic Number': 'Evite usar números mágicos (números literais em código). Em vez disso, atribua esses valores a constantes descritivas e use essas constantes em todo o código.',\n",
              " 'Cyclic Dependency': 'Reorganize the code to avoid circular references. Consider using dependency injection or event-driven architecture.',\n",
              " 'Unstable Dependency': 'Reorganize the code to minimize dependencies on unstable components. Consider using interfaces or dependency inversion.',\n",
              " 'God Component': 'Refactor the code to break down the god component into smaller, more specialized components. Consider using the single responsibility principle.',\n",
              " 'Feature Concentration': 'Refactor the code to distribute features across multiple components instead of having them concentrated in a few. Consider using the separation of concerns principle.',\n",
              " 'Assertion roulette': 'Rever o conjunto de asserções e eliminar as que não são necessárias, mantendo apenas aquelas que são essenciais para garantir a corretude do sistema.',\n",
              " 'Eager test': 'Avaliar se todos os testes são necessários, considerando remover testes que cobrem funcionalidades pouco importantes ou que já foram testadas de outras formas.',\n",
              " 'Missing assertion': 'Adicione uma ou mais declarações de assert no final do teste para verificar o resultado esperado. As declarações de assert devem ser cuidadosamente escritas para garantir que testem apenas o que é necessário e não deixem passar casos não previstos.',\n",
              " 'Hard-wired Dependency': 'Use dependency injection to decouple dependencies and make them easier to mock in tests.',\n",
              " 'Global State': 'Reduce or eliminate the use of global variables to make code more modular and testable.',\n",
              " 'Law of Demeter violation': 'Use the Law of Demeter (LoD) principle to minimize the coupling between objects and make code more modular and testable.',\n",
              " 'Unnecessary Abstraction': 'remova qualquer abstração que não esteja fornecendo nenhum valor ou funcionalidade significativa.',\n",
              " 'Unutilized Abstraction': 'remova qualquer abstração que não esteja sendo usada em seu código.',\n",
              " 'Cyclically-dependent Modularization': 'evite dependências circulares entre módulos, tente reorganizar seu código para que os módulos dependam apenas de outros módulos mais primitivos.'}"
            ]
          },
          "metadata": {},
          "execution_count": 141
        }
      ]
    },
    {
      "cell_type": "markdown",
      "source": [
        "## Exportar Relatório"
      ],
      "metadata": {
        "id": "t81kxTz91rWH"
      }
    },
    {
      "cell_type": "code",
      "source": [
        "counts = allSmellsDf['Type Name'].value_counts().sort_index()\n",
        "plt.style.use(\"ggplot\")\n",
        "plt.figure(figsize = (35, 12))\n",
        "plt.bar(counts.index, counts.values)\n",
        "plt.xlabel('Classe')\n",
        "plt.xticks(rotation=45)\n",
        "plt.ylabel('Ocorrências')\n",
        "plt.title(\"Classes com Mais Smells\")\n",
        "plt.savefig('/visaoclasses.png')\n",
        "plt.show()"
      ],
      "metadata": {
        "colab": {
          "base_uri": "https://localhost:8080/",
          "height": 663
        },
        "id": "F83uE6Be-OxJ",
        "outputId": "c3ab77c8-c558-493e-8079-e809315ba33c"
      },
      "execution_count": null,
      "outputs": [
        {
          "output_type": "display_data",
          "data": {
            "text/plain": [
              "<Figure size 2520x864 with 1 Axes>"
            ],
            "image/png": "[encoded data removed]"
          },
          "metadata": {}
        }
      ]
    },
    {
      "cell_type": "code",
      "source": [
        "!pip install python-docx\n",
        "\n",
        "import pandas as pd\n",
        "from docx import Document\n",
        "from docx.shared import Inches\n",
        "\n",
        "# Criar um documento Word\n",
        "doc = Document()\n",
        "\n",
        "# Adicionar um cabeçalho\n",
        "doc.add_heading('Auditoria/Análise de Qualidade', 0)\n",
        "\n",
        "doc.add_heading('Smells de Implementação', 1)\n",
        "p = doc.add_paragraph('Nota: ' + str(implementationSmellMeasurement)).bold = True\n",
        "p = doc.add_paragraph('Avaliação: ').bold = True\n",
        "p = doc.add_paragraph(str(implementationDf['Implementation Smell'].value_counts())).bold = True\n",
        "p = doc.add_paragraph('Recomendações: ' + str(recommendImplementationFinal)).bold = True\n",
        "\n",
        "doc.add_heading('Smells de Arquitetura', 1)\n",
        "p = doc.add_paragraph('Nota: ' + str(architectureSmellMeasurement)).bold = True\n",
        "p = doc.add_paragraph('Avaliação: ').bold = True\n",
        "p = doc.add_paragraph(str(architectureDf['Architecture Smell'].value_counts())).bold = True\n",
        "p = doc.add_paragraph('Recomendações: ' + str(recommendArchitectureFinal)).bold = True\n",
        "\n",
        "doc.add_heading('Smells de Teste', 1)\n",
        "p = doc.add_paragraph('Nota: ' + str(testSmellMeasurement)).bold = True\n",
        "p = doc.add_paragraph('Avaliação: ').bold = True\n",
        "p = doc.add_paragraph(str(testDf['Test Smell'].value_counts())).bold = True\n",
        "p = doc.add_paragraph('Recomendações: ' + str(recommendTestFinal)).bold = True\n",
        "\n",
        "doc.add_heading('Smells de Testabilidade', 1)\n",
        "p = doc.add_paragraph('Nota: ' + str(testabilitySmellMeasurement)).bold = True\n",
        "p = doc.add_paragraph('Avaliação: ').bold = True\n",
        "p = doc.add_paragraph(str(testabilityDf['Testability Smell'].value_counts())).bold = True\n",
        "p = doc.add_paragraph('Recomendações: ' + str(recommendTestabilityFinal)).bold = True\n",
        "\n",
        "doc.add_heading('Smells de Design', 1)\n",
        "p = doc.add_paragraph('Nota: ' + str(designSmellMeasurement)).bold = True\n",
        "p = doc.add_paragraph('Avaliação: ').bold = True\n",
        "p = doc.add_paragraph(str(designDf['Design Smell'].value_counts())).bold = True\n",
        "p = doc.add_paragraph('Recomendações: ' + str(recommendDesignFinal)).bold = True\n",
        "\n",
        "doc.add_heading('Visão Geral do Projeto', 1)\n",
        "p = doc.add_paragraph('Nota: ' + str(projectMeasurement)).bold = True\n",
        "p = doc.add_paragraph('Avaliação: ').bold = True\n",
        "p = doc.add_paragraph(str(projectEvaluation)).bold = True\n",
        "p = doc.add_paragraph('Recomendações: ' + str(projectRecommend)).bold = True\n",
        "\n",
        "doc.add_picture('/visaoclasses.png', width=Inches(2)) \n",
        "\n",
        "doc.add_heading('Evidências', 0)\n",
        "\n",
        "# Adicionar uma tabela com os dados do dataframe\n",
        "table = doc.add_table(rows=len(methodMetricsDf)+1, cols=len(methodMetricsDf.columns))\n",
        "table.style = 'Table Grid'\n",
        "# Adicionar o cabeçalho da tabela\n",
        "for j in range(len(methodMetricsDf.columns)):\n",
        "    table.cell(0,j).text = methodMetricsDf.columns[j]\n",
        "# Adicionar os dados do dataframe\n",
        "for i in range(len(methodMetricsDf)):\n",
        "    for j in range(len(methodMetricsDf.columns)):\n",
        "        table.cell(i+1,j).text = str(methodMetricsDf.values[i,j])\n",
        "\n",
        "# Salvar o documento\n",
        "doc.save('qualityReport.docx')"
      ],
      "metadata": {
        "colab": {
          "base_uri": "https://localhost:8080/"
        },
        "id": "e5I023k-1uLh",
        "outputId": "1d982da1-b9b6-4d28-ab7a-af9c0fd022a5"
      },
      "execution_count": null,
      "outputs": [
        {
          "output_type": "stream",
          "name": "stdout",
          "text": [
            "Looking in indexes: https://pypi.org/simple, https://us-python.pkg.dev/colab-wheels/public/simple/\n",
            "Requirement already satisfied: python-docx in /usr/local/lib/python3.8/dist-packages (0.8.11)\n",
            "Requirement already satisfied: lxml>=2.3.2 in /usr/local/lib/python3.8/dist-packages (from python-docx) (4.9.2)\n"
          ]
        }
      ]
    },
    {
      "cell_type": "code",
      "source": [
        "resultExplanationDesign = \"\"\n",
        "for key, value in explanationDesignFinal.items():\n",
        "    resultExplanationDesign += str(key) + \": \" + str(value) + \" \"\n",
        "\n",
        "resultExplanationArchitecture = \"\"\n",
        "for key, value in explanationArchitectureFinal.items():\n",
        "    resultExplanationArchitecture += str(key) + \": \" + str(value) + \" \"\n",
        "\n",
        "resultExplanationTest = \"\"\n",
        "for key, value in explanationTestFinal.items():\n",
        "    resultExplanationTest += str(key) + \": \" + str(value) + \" \"\n",
        "\n",
        "resultExplanationTestability = \"\"\n",
        "for key, value in explanationTestabilityFinal.items():\n",
        "    resultExplanationTestability += str(key) + \": \" + str(value) + \" \"\n",
        "\n",
        "resultExplanationImplementation = \"\"\n",
        "for key, value in explanationImplementationFinal.items():\n",
        "    resultExplanationImplementation += str(key) + \": \" + str(value) + \" \""
      ],
      "metadata": {
        "id": "OsqICu5p-_S_"
      },
      "execution_count": null,
      "outputs": []
    },
    {
      "cell_type": "code",
      "source": [
        "resultRecommendDesign = \"\"\n",
        "for key, value in recommendDesignFinal.items():\n",
        "    resultRecommendDesign += str(key) + \": \" + str(value) + \" \"\n",
        "\n",
        "resultRecommendArchitecture = \"\"\n",
        "for key, value in recommendArchitectureFinal.items():\n",
        "    resultRecommendArchitecture += str(key) + \": \" + str(value) + \" \"\n",
        "\n",
        "resultRecommendTest = \"\"\n",
        "for key, value in recommendTestFinal.items():\n",
        "    resultRecommendTest += str(key) + \": \" + str(value) + \" \"\n",
        "\n",
        "resultRecommendTestability = \"\"\n",
        "for key, value in recommendTestabilityFinal.items():\n",
        "    resultRecommendTestability += str(key) + \": \" + str(value) + \" \"\n",
        "\n",
        "resultRecommendImplementation = \"\"\n",
        "for key, value in recommendImplementationFinal.items():\n",
        "    resultRecommendImplementation += str(key) + \": \" + str(value) + \" \""
      ],
      "metadata": {
        "id": "XX4101tTAF7k"
      },
      "execution_count": null,
      "outputs": []
    },
    {
      "cell_type": "code",
      "source": [
        "projectName = architectureDf['Project Name'].values[0]"
      ],
      "metadata": {
        "id": "aNlWxtGY41uf"
      },
      "execution_count": null,
      "outputs": []
    },
    {
      "cell_type": "code",
      "source": [
        "implementationDfNew = implementationDf.drop(['Project Name', 'Package Name', 'Type Name', 'Cause of the Smell'], axis=1)\n",
        "implementationDfNew"
      ],
      "metadata": {
        "colab": {
          "base_uri": "https://localhost:8080/",
          "height": 423
        },
        "id": "peGnYWFBFV66",
        "outputId": "8b1dc94c-7f88-4f75-a50e-0794201aa802"
      },
      "execution_count": null,
      "outputs": [
        {
          "output_type": "execute_result",
          "data": {
            "text/plain": [
              "                                          Method Name Implementation Smell  \\\n",
              "0                                   getPlanosSeguidos       Long Statement   \n",
              "1                                       criaInscricao       Long Statement   \n",
              "2                                             executa       Long Statement   \n",
              "3                                             executa       Long Statement   \n",
              "4                                             executa       Long Statement   \n",
              "..                                                ...                  ...   \n",
              "78                                          compareTo       Long Statement   \n",
              "79                insereFormasVerificacaoConhecimento      Long Identifier   \n",
              "80                      criaNovoPlanoDeEstudosRequest       Long Statement   \n",
              "81                      criaNovoPlanoDeEstudosRequest       Long Statement   \n",
              "82  criaNovoPlanoDeEstudosRequestSemValidarConheci...       Long Statement   \n",
              "\n",
              "    Method start line no  \n",
              "0                     63  \n",
              "1                     75  \n",
              "2                     29  \n",
              "3                     29  \n",
              "4                     29  \n",
              "..                   ...  \n",
              "78                   106  \n",
              "79                   161  \n",
              "80                    62  \n",
              "81                    74  \n",
              "82                    86  \n",
              "\n",
              "[80 rows x 3 columns]"
            ],
            "text/html": [
              "\n",
              "  <div id=\"df-ae060301-8d02-4342-b882-da8aa7eff1ec\">\n",
              "    <div class=\"colab-df-container\">\n",
              "      <div>\n",
              "<style scoped>\n",
              "    .dataframe tbody tr th:only-of-type {\n",
              "        vertical-align: middle;\n",
              "    }\n",
              "\n",
              "    .dataframe tbody tr th {\n",
              "        vertical-align: top;\n",
              "    }\n",
              "\n",
              "    .dataframe thead th {\n",
              "        text-align: right;\n",
              "    }\n",
              "</style>\n",
              "<table border=\"1\" class=\"dataframe\">\n",
              "  <thead>\n",
              "    <tr style=\"text-align: right;\">\n",
              "      <th></th>\n",
              "      <th>Method Name</th>\n",
              "      <th>Implementation Smell</th>\n",
              "      <th>Method start line no</th>\n",
              "    </tr>\n",
              "  </thead>\n",
              "  <tbody>\n",
              "    <tr>\n",
              "      <th>0</th>\n",
              "      <td>getPlanosSeguidos</td>\n",
              "      <td>Long Statement</td>\n",
              "      <td>63</td>\n",
              "    </tr>\n",
              "    <tr>\n",
              "      <th>1</th>\n",
              "      <td>criaInscricao</td>\n",
              "      <td>Long Statement</td>\n",
              "      <td>75</td>\n",
              "    </tr>\n",
              "    <tr>\n",
              "      <th>2</th>\n",
              "      <td>executa</td>\n",
              "      <td>Long Statement</td>\n",
              "      <td>29</td>\n",
              "    </tr>\n",
              "    <tr>\n",
              "      <th>3</th>\n",
              "      <td>executa</td>\n",
              "      <td>Long Statement</td>\n",
              "      <td>29</td>\n",
              "    </tr>\n",
              "    <tr>\n",
              "      <th>4</th>\n",
              "      <td>executa</td>\n",
              "      <td>Long Statement</td>\n",
              "      <td>29</td>\n",
              "    </tr>\n",
              "    <tr>\n",
              "      <th>...</th>\n",
              "      <td>...</td>\n",
              "      <td>...</td>\n",
              "      <td>...</td>\n",
              "    </tr>\n",
              "    <tr>\n",
              "      <th>78</th>\n",
              "      <td>compareTo</td>\n",
              "      <td>Long Statement</td>\n",
              "      <td>106</td>\n",
              "    </tr>\n",
              "    <tr>\n",
              "      <th>79</th>\n",
              "      <td>insereFormasVerificacaoConhecimento</td>\n",
              "      <td>Long Identifier</td>\n",
              "      <td>161</td>\n",
              "    </tr>\n",
              "    <tr>\n",
              "      <th>80</th>\n",
              "      <td>criaNovoPlanoDeEstudosRequest</td>\n",
              "      <td>Long Statement</td>\n",
              "      <td>62</td>\n",
              "    </tr>\n",
              "    <tr>\n",
              "      <th>81</th>\n",
              "      <td>criaNovoPlanoDeEstudosRequest</td>\n",
              "      <td>Long Statement</td>\n",
              "      <td>74</td>\n",
              "    </tr>\n",
              "    <tr>\n",
              "      <th>82</th>\n",
              "      <td>criaNovoPlanoDeEstudosRequestSemValidarConheci...</td>\n",
              "      <td>Long Statement</td>\n",
              "      <td>86</td>\n",
              "    </tr>\n",
              "  </tbody>\n",
              "</table>\n",
              "<p>80 rows × 3 columns</p>\n",
              "</div>\n",
              "      <button class=\"colab-df-convert\" onclick=\"convertToInteractive('df-ae060301-8d02-4342-b882-da8aa7eff1ec')\"\n",
              "              title=\"Convert this dataframe to an interactive table.\"\n",
              "              style=\"display:none;\">\n",
              "        \n",
              "  <svg xmlns=\"http://www.w3.org/2000/svg\" height=\"24px\"viewBox=\"0 0 24 24\"\n",
              "       width=\"24px\">\n",
              "    <path d=\"M0 0h24v24H0V0z\" fill=\"none\"/>\n",
              "    <path d=\"M18.56 5.44l.94 2.06.94-2.06 2.06-.94-2.06-.94-.94-2.06-.94 2.06-2.06.94zm-11 1L8.5 8.5l.94-2.06 2.06-.94-2.06-.94L8.5 2.5l-.94 2.06-2.06.94zm10 10l.94 2.06.94-2.06 2.06-.94-2.06-.94-.94-2.06-.94 2.06-2.06.94z\"/><path d=\"M17.41 7.96l-1.37-1.37c-.4-.4-.92-.59-1.43-.59-.52 0-1.04.2-1.43.59L10.3 9.45l-7.72 7.72c-.78.78-.78 2.05 0 2.83L4 21.41c.39.39.9.59 1.41.59.51 0 1.02-.2 1.41-.59l7.78-7.78 2.81-2.81c.8-.78.8-2.07 0-2.86zM5.41 20L4 18.59l7.72-7.72 1.47 1.35L5.41 20z\"/>\n",
              "  </svg>\n",
              "      </button>\n",
              "      \n",
              "  <style>\n",
              "    .colab-df-container {\n",
              "      display:flex;\n",
              "      flex-wrap:wrap;\n",
              "      gap: 12px;\n",
              "    }\n",
              "\n",
              "    .colab-df-convert {\n",
              "      background-color: #E8F0FE;\n",
              "      border: none;\n",
              "      border-radius: 50%;\n",
              "      cursor: pointer;\n",
              "      display: none;\n",
              "      fill: #1967D2;\n",
              "      height: 32px;\n",
              "      padding: 0 0 0 0;\n",
              "      width: 32px;\n",
              "    }\n",
              "\n",
              "    .colab-df-convert:hover {\n",
              "      background-color: #E2EBFA;\n",
              "      box-shadow: 0px 1px 2px rgba(60, 64, 67, 0.3), 0px 1px 3px 1px rgba(60, 64, 67, 0.15);\n",
              "      fill: #174EA6;\n",
              "    }\n",
              "\n",
              "    [theme=dark] .colab-df-convert {\n",
              "      background-color: #3B4455;\n",
              "      fill: #D2E3FC;\n",
              "    }\n",
              "\n",
              "    [theme=dark] .colab-df-convert:hover {\n",
              "      background-color: #434B5C;\n",
              "      box-shadow: 0px 1px 3px 1px rgba(0, 0, 0, 0.15);\n",
              "      filter: drop-shadow(0px 1px 2px rgba(0, 0, 0, 0.3));\n",
              "      fill: #FFFFFF;\n",
              "    }\n",
              "  </style>\n",
              "\n",
              "      <script>\n",
              "        const buttonEl =\n",
              "          document.querySelector('#df-ae060301-8d02-4342-b882-da8aa7eff1ec button.colab-df-convert');\n",
              "        buttonEl.style.display =\n",
              "          google.colab.kernel.accessAllowed ? 'block' : 'none';\n",
              "\n",
              "        async function convertToInteractive(key) {\n",
              "          const element = document.querySelector('#df-ae060301-8d02-4342-b882-da8aa7eff1ec');\n",
              "          const dataTable =\n",
              "            await google.colab.kernel.invokeFunction('convertToInteractive',\n",
              "                                                     [key], {});\n",
              "          if (!dataTable) return;\n",
              "\n",
              "          const docLinkHtml = 'Like what you see? Visit the ' +\n",
              "            '<a target=\"_blank\" href=https://colab.research.google.com/notebooks/data_table.ipynb>data table notebook</a>'\n",
              "            + ' to learn more about interactive tables.';\n",
              "          element.innerHTML = '';\n",
              "          dataTable['output_type'] = 'display_data';\n",
              "          await google.colab.output.renderOutput(dataTable, element);\n",
              "          const docLink = document.createElement('div');\n",
              "          docLink.innerHTML = docLinkHtml;\n",
              "          element.appendChild(docLink);\n",
              "        }\n",
              "      </script>\n",
              "    </div>\n",
              "  </div>\n",
              "  "
            ]
          },
          "metadata": {},
          "execution_count": 79
        }
      ]
    },
    {
      "cell_type": "code",
      "source": [
        "testabilityDfNew = testabilityDf.drop(['Project Name', 'Package Name', 'Cause of the Smell'], axis=1)\n",
        "testabilityDfNew"
      ],
      "metadata": {
        "colab": {
          "base_uri": "https://localhost:8080/",
          "height": 363
        },
        "id": "pUpWMa01FMIf",
        "outputId": "fd919567-da38-4b09-e385-94c73a1ea0ce"
      },
      "execution_count": null,
      "outputs": [
        {
          "output_type": "execute_result",
          "data": {
            "text/plain": [
              "                                Type Name         Testability Smell\n",
              "0                                   Aluno     Hard-wired Dependency\n",
              "2       HandoraLogBuilder.ProntoParaLogar              Global State\n",
              "3   HandoraLogBuilder.OQueEstaAcontecendo              Global State\n",
              "4                HandoraLogBuilder.Metodo              Global State\n",
              "5                  ValidationErrorHandler     Hard-wired Dependency\n",
              "6               NovoPlanoDeEstudosRequest     Hard-wired Dependency\n",
              "7                             TemaRequest     Hard-wired Dependency\n",
              "10                  PlanoDeEstudosFactory     Hard-wired Dependency\n",
              "11                  PlanoDeEstudosFactory  Law of Demeter violation\n",
              "13                  PlanoDeEstudosFactory  Law of Demeter violation"
            ],
            "text/html": [
              "\n",
              "  <div id=\"df-28d37127-9113-4a87-91f8-837b47ea980a\">\n",
              "    <div class=\"colab-df-container\">\n",
              "      <div>\n",
              "<style scoped>\n",
              "    .dataframe tbody tr th:only-of-type {\n",
              "        vertical-align: middle;\n",
              "    }\n",
              "\n",
              "    .dataframe tbody tr th {\n",
              "        vertical-align: top;\n",
              "    }\n",
              "\n",
              "    .dataframe thead th {\n",
              "        text-align: right;\n",
              "    }\n",
              "</style>\n",
              "<table border=\"1\" class=\"dataframe\">\n",
              "  <thead>\n",
              "    <tr style=\"text-align: right;\">\n",
              "      <th></th>\n",
              "      <th>Type Name</th>\n",
              "      <th>Testability Smell</th>\n",
              "    </tr>\n",
              "  </thead>\n",
              "  <tbody>\n",
              "    <tr>\n",
              "      <th>0</th>\n",
              "      <td>Aluno</td>\n",
              "      <td>Hard-wired Dependency</td>\n",
              "    </tr>\n",
              "    <tr>\n",
              "      <th>2</th>\n",
              "      <td>HandoraLogBuilder.ProntoParaLogar</td>\n",
              "      <td>Global State</td>\n",
              "    </tr>\n",
              "    <tr>\n",
              "      <th>3</th>\n",
              "      <td>HandoraLogBuilder.OQueEstaAcontecendo</td>\n",
              "      <td>Global State</td>\n",
              "    </tr>\n",
              "    <tr>\n",
              "      <th>4</th>\n",
              "      <td>HandoraLogBuilder.Metodo</td>\n",
              "      <td>Global State</td>\n",
              "    </tr>\n",
              "    <tr>\n",
              "      <th>5</th>\n",
              "      <td>ValidationErrorHandler</td>\n",
              "      <td>Hard-wired Dependency</td>\n",
              "    </tr>\n",
              "    <tr>\n",
              "      <th>6</th>\n",
              "      <td>NovoPlanoDeEstudosRequest</td>\n",
              "      <td>Hard-wired Dependency</td>\n",
              "    </tr>\n",
              "    <tr>\n",
              "      <th>7</th>\n",
              "      <td>TemaRequest</td>\n",
              "      <td>Hard-wired Dependency</td>\n",
              "    </tr>\n",
              "    <tr>\n",
              "      <th>10</th>\n",
              "      <td>PlanoDeEstudosFactory</td>\n",
              "      <td>Hard-wired Dependency</td>\n",
              "    </tr>\n",
              "    <tr>\n",
              "      <th>11</th>\n",
              "      <td>PlanoDeEstudosFactory</td>\n",
              "      <td>Law of Demeter violation</td>\n",
              "    </tr>\n",
              "    <tr>\n",
              "      <th>13</th>\n",
              "      <td>PlanoDeEstudosFactory</td>\n",
              "      <td>Law of Demeter violation</td>\n",
              "    </tr>\n",
              "  </tbody>\n",
              "</table>\n",
              "</div>\n",
              "      <button class=\"colab-df-convert\" onclick=\"convertToInteractive('df-28d37127-9113-4a87-91f8-837b47ea980a')\"\n",
              "              title=\"Convert this dataframe to an interactive table.\"\n",
              "              style=\"display:none;\">\n",
              "        \n",
              "  <svg xmlns=\"http://www.w3.org/2000/svg\" height=\"24px\"viewBox=\"0 0 24 24\"\n",
              "       width=\"24px\">\n",
              "    <path d=\"M0 0h24v24H0V0z\" fill=\"none\"/>\n",
              "    <path d=\"M18.56 5.44l.94 2.06.94-2.06 2.06-.94-2.06-.94-.94-2.06-.94 2.06-2.06.94zm-11 1L8.5 8.5l.94-2.06 2.06-.94-2.06-.94L8.5 2.5l-.94 2.06-2.06.94zm10 10l.94 2.06.94-2.06 2.06-.94-2.06-.94-.94-2.06-.94 2.06-2.06.94z\"/><path d=\"M17.41 7.96l-1.37-1.37c-.4-.4-.92-.59-1.43-.59-.52 0-1.04.2-1.43.59L10.3 9.45l-7.72 7.72c-.78.78-.78 2.05 0 2.83L4 21.41c.39.39.9.59 1.41.59.51 0 1.02-.2 1.41-.59l7.78-7.78 2.81-2.81c.8-.78.8-2.07 0-2.86zM5.41 20L4 18.59l7.72-7.72 1.47 1.35L5.41 20z\"/>\n",
              "  </svg>\n",
              "      </button>\n",
              "      \n",
              "  <style>\n",
              "    .colab-df-container {\n",
              "      display:flex;\n",
              "      flex-wrap:wrap;\n",
              "      gap: 12px;\n",
              "    }\n",
              "\n",
              "    .colab-df-convert {\n",
              "      background-color: #E8F0FE;\n",
              "      border: none;\n",
              "      border-radius: 50%;\n",
              "      cursor: pointer;\n",
              "      display: none;\n",
              "      fill: #1967D2;\n",
              "      height: 32px;\n",
              "      padding: 0 0 0 0;\n",
              "      width: 32px;\n",
              "    }\n",
              "\n",
              "    .colab-df-convert:hover {\n",
              "      background-color: #E2EBFA;\n",
              "      box-shadow: 0px 1px 2px rgba(60, 64, 67, 0.3), 0px 1px 3px 1px rgba(60, 64, 67, 0.15);\n",
              "      fill: #174EA6;\n",
              "    }\n",
              "\n",
              "    [theme=dark] .colab-df-convert {\n",
              "      background-color: #3B4455;\n",
              "      fill: #D2E3FC;\n",
              "    }\n",
              "\n",
              "    [theme=dark] .colab-df-convert:hover {\n",
              "      background-color: #434B5C;\n",
              "      box-shadow: 0px 1px 3px 1px rgba(0, 0, 0, 0.15);\n",
              "      filter: drop-shadow(0px 1px 2px rgba(0, 0, 0, 0.3));\n",
              "      fill: #FFFFFF;\n",
              "    }\n",
              "  </style>\n",
              "\n",
              "      <script>\n",
              "        const buttonEl =\n",
              "          document.querySelector('#df-28d37127-9113-4a87-91f8-837b47ea980a button.colab-df-convert');\n",
              "        buttonEl.style.display =\n",
              "          google.colab.kernel.accessAllowed ? 'block' : 'none';\n",
              "\n",
              "        async function convertToInteractive(key) {\n",
              "          const element = document.querySelector('#df-28d37127-9113-4a87-91f8-837b47ea980a');\n",
              "          const dataTable =\n",
              "            await google.colab.kernel.invokeFunction('convertToInteractive',\n",
              "                                                     [key], {});\n",
              "          if (!dataTable) return;\n",
              "\n",
              "          const docLinkHtml = 'Like what you see? Visit the ' +\n",
              "            '<a target=\"_blank\" href=https://colab.research.google.com/notebooks/data_table.ipynb>data table notebook</a>'\n",
              "            + ' to learn more about interactive tables.';\n",
              "          element.innerHTML = '';\n",
              "          dataTable['output_type'] = 'display_data';\n",
              "          await google.colab.output.renderOutput(dataTable, element);\n",
              "          const docLink = document.createElement('div');\n",
              "          docLink.innerHTML = docLinkHtml;\n",
              "          element.appendChild(docLink);\n",
              "        }\n",
              "      </script>\n",
              "    </div>\n",
              "  </div>\n",
              "  "
            ]
          },
          "metadata": {},
          "execution_count": 80
        }
      ]
    },
    {
      "cell_type": "code",
      "source": [
        "testDfNew = testDf.drop(['Project Name', 'Package Name', 'Type Name', 'Cause of the Smell'], axis=1)\n",
        "testDfNew"
      ],
      "metadata": {
        "colab": {
          "base_uri": "https://localhost:8080/",
          "height": 394
        },
        "id": "Xi_rhJbmE__X",
        "outputId": "9f33d6ab-d8ce-499e-e048-ca7d03ee86bc"
      },
      "execution_count": null,
      "outputs": [
        {
          "output_type": "execute_result",
          "data": {
            "text/plain": [
              "   Method Name          Test Smell\n",
              "0        test1  Assertion roulette\n",
              "1        test1          Eager test\n",
              "2        test2  Assertion roulette\n",
              "3        test2          Eager test\n",
              "4       teste1  Assertion roulette\n",
              "5       teste2  Assertion roulette\n",
              "12      teste1   Missing assertion\n",
              "13        test  Assertion roulette\n",
              "14        test          Eager test\n",
              "15      teste1  Assertion roulette\n",
              "16      teste3  Assertion roulette"
            ],
            "text/html": [
              "\n",
              "  <div id=\"df-3b8c6cf0-c20d-40f9-960c-31bae6191eb9\">\n",
              "    <div class=\"colab-df-container\">\n",
              "      <div>\n",
              "<style scoped>\n",
              "    .dataframe tbody tr th:only-of-type {\n",
              "        vertical-align: middle;\n",
              "    }\n",
              "\n",
              "    .dataframe tbody tr th {\n",
              "        vertical-align: top;\n",
              "    }\n",
              "\n",
              "    .dataframe thead th {\n",
              "        text-align: right;\n",
              "    }\n",
              "</style>\n",
              "<table border=\"1\" class=\"dataframe\">\n",
              "  <thead>\n",
              "    <tr style=\"text-align: right;\">\n",
              "      <th></th>\n",
              "      <th>Method Name</th>\n",
              "      <th>Test Smell</th>\n",
              "    </tr>\n",
              "  </thead>\n",
              "  <tbody>\n",
              "    <tr>\n",
              "      <th>0</th>\n",
              "      <td>test1</td>\n",
              "      <td>Assertion roulette</td>\n",
              "    </tr>\n",
              "    <tr>\n",
              "      <th>1</th>\n",
              "      <td>test1</td>\n",
              "      <td>Eager test</td>\n",
              "    </tr>\n",
              "    <tr>\n",
              "      <th>2</th>\n",
              "      <td>test2</td>\n",
              "      <td>Assertion roulette</td>\n",
              "    </tr>\n",
              "    <tr>\n",
              "      <th>3</th>\n",
              "      <td>test2</td>\n",
              "      <td>Eager test</td>\n",
              "    </tr>\n",
              "    <tr>\n",
              "      <th>4</th>\n",
              "      <td>teste1</td>\n",
              "      <td>Assertion roulette</td>\n",
              "    </tr>\n",
              "    <tr>\n",
              "      <th>5</th>\n",
              "      <td>teste2</td>\n",
              "      <td>Assertion roulette</td>\n",
              "    </tr>\n",
              "    <tr>\n",
              "      <th>12</th>\n",
              "      <td>teste1</td>\n",
              "      <td>Missing assertion</td>\n",
              "    </tr>\n",
              "    <tr>\n",
              "      <th>13</th>\n",
              "      <td>test</td>\n",
              "      <td>Assertion roulette</td>\n",
              "    </tr>\n",
              "    <tr>\n",
              "      <th>14</th>\n",
              "      <td>test</td>\n",
              "      <td>Eager test</td>\n",
              "    </tr>\n",
              "    <tr>\n",
              "      <th>15</th>\n",
              "      <td>teste1</td>\n",
              "      <td>Assertion roulette</td>\n",
              "    </tr>\n",
              "    <tr>\n",
              "      <th>16</th>\n",
              "      <td>teste3</td>\n",
              "      <td>Assertion roulette</td>\n",
              "    </tr>\n",
              "  </tbody>\n",
              "</table>\n",
              "</div>\n",
              "      <button class=\"colab-df-convert\" onclick=\"convertToInteractive('df-3b8c6cf0-c20d-40f9-960c-31bae6191eb9')\"\n",
              "              title=\"Convert this dataframe to an interactive table.\"\n",
              "              style=\"display:none;\">\n",
              "        \n",
              "  <svg xmlns=\"http://www.w3.org/2000/svg\" height=\"24px\"viewBox=\"0 0 24 24\"\n",
              "       width=\"24px\">\n",
              "    <path d=\"M0 0h24v24H0V0z\" fill=\"none\"/>\n",
              "    <path d=\"M18.56 5.44l.94 2.06.94-2.06 2.06-.94-2.06-.94-.94-2.06-.94 2.06-2.06.94zm-11 1L8.5 8.5l.94-2.06 2.06-.94-2.06-.94L8.5 2.5l-.94 2.06-2.06.94zm10 10l.94 2.06.94-2.06 2.06-.94-2.06-.94-.94-2.06-.94 2.06-2.06.94z\"/><path d=\"M17.41 7.96l-1.37-1.37c-.4-.4-.92-.59-1.43-.59-.52 0-1.04.2-1.43.59L10.3 9.45l-7.72 7.72c-.78.78-.78 2.05 0 2.83L4 21.41c.39.39.9.59 1.41.59.51 0 1.02-.2 1.41-.59l7.78-7.78 2.81-2.81c.8-.78.8-2.07 0-2.86zM5.41 20L4 18.59l7.72-7.72 1.47 1.35L5.41 20z\"/>\n",
              "  </svg>\n",
              "      </button>\n",
              "      \n",
              "  <style>\n",
              "    .colab-df-container {\n",
              "      display:flex;\n",
              "      flex-wrap:wrap;\n",
              "      gap: 12px;\n",
              "    }\n",
              "\n",
              "    .colab-df-convert {\n",
              "      background-color: #E8F0FE;\n",
              "      border: none;\n",
              "      border-radius: 50%;\n",
              "      cursor: pointer;\n",
              "      display: none;\n",
              "      fill: #1967D2;\n",
              "      height: 32px;\n",
              "      padding: 0 0 0 0;\n",
              "      width: 32px;\n",
              "    }\n",
              "\n",
              "    .colab-df-convert:hover {\n",
              "      background-color: #E2EBFA;\n",
              "      box-shadow: 0px 1px 2px rgba(60, 64, 67, 0.3), 0px 1px 3px 1px rgba(60, 64, 67, 0.15);\n",
              "      fill: #174EA6;\n",
              "    }\n",
              "\n",
              "    [theme=dark] .colab-df-convert {\n",
              "      background-color: #3B4455;\n",
              "      fill: #D2E3FC;\n",
              "    }\n",
              "\n",
              "    [theme=dark] .colab-df-convert:hover {\n",
              "      background-color: #434B5C;\n",
              "      box-shadow: 0px 1px 3px 1px rgba(0, 0, 0, 0.15);\n",
              "      filter: drop-shadow(0px 1px 2px rgba(0, 0, 0, 0.3));\n",
              "      fill: #FFFFFF;\n",
              "    }\n",
              "  </style>\n",
              "\n",
              "      <script>\n",
              "        const buttonEl =\n",
              "          document.querySelector('#df-3b8c6cf0-c20d-40f9-960c-31bae6191eb9 button.colab-df-convert');\n",
              "        buttonEl.style.display =\n",
              "          google.colab.kernel.accessAllowed ? 'block' : 'none';\n",
              "\n",
              "        async function convertToInteractive(key) {\n",
              "          const element = document.querySelector('#df-3b8c6cf0-c20d-40f9-960c-31bae6191eb9');\n",
              "          const dataTable =\n",
              "            await google.colab.kernel.invokeFunction('convertToInteractive',\n",
              "                                                     [key], {});\n",
              "          if (!dataTable) return;\n",
              "\n",
              "          const docLinkHtml = 'Like what you see? Visit the ' +\n",
              "            '<a target=\"_blank\" href=https://colab.research.google.com/notebooks/data_table.ipynb>data table notebook</a>'\n",
              "            + ' to learn more about interactive tables.';\n",
              "          element.innerHTML = '';\n",
              "          dataTable['output_type'] = 'display_data';\n",
              "          await google.colab.output.renderOutput(dataTable, element);\n",
              "          const docLink = document.createElement('div');\n",
              "          docLink.innerHTML = docLinkHtml;\n",
              "          element.appendChild(docLink);\n",
              "        }\n",
              "      </script>\n",
              "    </div>\n",
              "  </div>\n",
              "  "
            ]
          },
          "metadata": {},
          "execution_count": 81
        }
      ]
    },
    {
      "cell_type": "code",
      "source": [
        "designDfnew = designDf.drop(['Project Name', 'Package Name', 'Cause of the Smell'], axis=1)\n",
        "designDfnew"
      ],
      "metadata": {
        "colab": {
          "base_uri": "https://localhost:8080/",
          "height": 582
        },
        "id": "tyR4DngbC_PD",
        "outputId": "17de7f0c-88ea-47a6-907c-d5a7e1d67ca2"
      },
      "execution_count": null,
      "outputs": [
        {
          "output_type": "execute_result",
          "data": {
            "text/plain": [
              "                                Type Name                         Design Smell\n",
              "1                                   Aluno  Cyclically-dependent Modularization\n",
              "6            BearerTokenToStringConverter               Unutilized Abstraction\n",
              "7                             FeignConfig               Unutilized Abstraction\n",
              "8                     CampoUnicoValidator               Unutilized Abstraction\n",
              "9                       CorsConfiguration               Unutilized Abstraction\n",
              "10      HandoraLogBuilder.ProntoParaLogar              Unnecessary Abstraction\n",
              "11      HandoraLogBuilder.ProntoParaLogar               Unutilized Abstraction\n",
              "12  HandoraLogBuilder.OQueEstaAcontecendo              Unnecessary Abstraction\n",
              "13  HandoraLogBuilder.OQueEstaAcontecendo               Unutilized Abstraction\n",
              "14               HandoraLogBuilder.Metodo              Unnecessary Abstraction\n",
              "15               HandoraLogBuilder.Metodo               Unutilized Abstraction\n",
              "16                             JsonHelper               Unutilized Abstraction\n",
              "17                 ValidationErrorHandler               Unutilized Abstraction\n",
              "19                      WebSecurityConfig               Unutilized Abstraction\n",
              "23                              Inscricao  Cyclically-dependent Modularization\n",
              "56            AdicionaItensPlanodeEstudos               Unutilized Abstraction\n",
              "61                     AdicionaItensTemas               Unutilized Abstraction"
            ],
            "text/html": [
              "\n",
              "  <div id=\"df-d7aa52b4-5e12-4a59-8b6e-2917f9005887\">\n",
              "    <div class=\"colab-df-container\">\n",
              "      <div>\n",
              "<style scoped>\n",
              "    .dataframe tbody tr th:only-of-type {\n",
              "        vertical-align: middle;\n",
              "    }\n",
              "\n",
              "    .dataframe tbody tr th {\n",
              "        vertical-align: top;\n",
              "    }\n",
              "\n",
              "    .dataframe thead th {\n",
              "        text-align: right;\n",
              "    }\n",
              "</style>\n",
              "<table border=\"1\" class=\"dataframe\">\n",
              "  <thead>\n",
              "    <tr style=\"text-align: right;\">\n",
              "      <th></th>\n",
              "      <th>Type Name</th>\n",
              "      <th>Design Smell</th>\n",
              "    </tr>\n",
              "  </thead>\n",
              "  <tbody>\n",
              "    <tr>\n",
              "      <th>1</th>\n",
              "      <td>Aluno</td>\n",
              "      <td>Cyclically-dependent Modularization</td>\n",
              "    </tr>\n",
              "    <tr>\n",
              "      <th>6</th>\n",
              "      <td>BearerTokenToStringConverter</td>\n",
              "      <td>Unutilized Abstraction</td>\n",
              "    </tr>\n",
              "    <tr>\n",
              "      <th>7</th>\n",
              "      <td>FeignConfig</td>\n",
              "      <td>Unutilized Abstraction</td>\n",
              "    </tr>\n",
              "    <tr>\n",
              "      <th>8</th>\n",
              "      <td>CampoUnicoValidator</td>\n",
              "      <td>Unutilized Abstraction</td>\n",
              "    </tr>\n",
              "    <tr>\n",
              "      <th>9</th>\n",
              "      <td>CorsConfiguration</td>\n",
              "      <td>Unutilized Abstraction</td>\n",
              "    </tr>\n",
              "    <tr>\n",
              "      <th>10</th>\n",
              "      <td>HandoraLogBuilder.ProntoParaLogar</td>\n",
              "      <td>Unnecessary Abstraction</td>\n",
              "    </tr>\n",
              "    <tr>\n",
              "      <th>11</th>\n",
              "      <td>HandoraLogBuilder.ProntoParaLogar</td>\n",
              "      <td>Unutilized Abstraction</td>\n",
              "    </tr>\n",
              "    <tr>\n",
              "      <th>12</th>\n",
              "      <td>HandoraLogBuilder.OQueEstaAcontecendo</td>\n",
              "      <td>Unnecessary Abstraction</td>\n",
              "    </tr>\n",
              "    <tr>\n",
              "      <th>13</th>\n",
              "      <td>HandoraLogBuilder.OQueEstaAcontecendo</td>\n",
              "      <td>Unutilized Abstraction</td>\n",
              "    </tr>\n",
              "    <tr>\n",
              "      <th>14</th>\n",
              "      <td>HandoraLogBuilder.Metodo</td>\n",
              "      <td>Unnecessary Abstraction</td>\n",
              "    </tr>\n",
              "    <tr>\n",
              "      <th>15</th>\n",
              "      <td>HandoraLogBuilder.Metodo</td>\n",
              "      <td>Unutilized Abstraction</td>\n",
              "    </tr>\n",
              "    <tr>\n",
              "      <th>16</th>\n",
              "      <td>JsonHelper</td>\n",
              "      <td>Unutilized Abstraction</td>\n",
              "    </tr>\n",
              "    <tr>\n",
              "      <th>17</th>\n",
              "      <td>ValidationErrorHandler</td>\n",
              "      <td>Unutilized Abstraction</td>\n",
              "    </tr>\n",
              "    <tr>\n",
              "      <th>19</th>\n",
              "      <td>WebSecurityConfig</td>\n",
              "      <td>Unutilized Abstraction</td>\n",
              "    </tr>\n",
              "    <tr>\n",
              "      <th>23</th>\n",
              "      <td>Inscricao</td>\n",
              "      <td>Cyclically-dependent Modularization</td>\n",
              "    </tr>\n",
              "    <tr>\n",
              "      <th>56</th>\n",
              "      <td>AdicionaItensPlanodeEstudos</td>\n",
              "      <td>Unutilized Abstraction</td>\n",
              "    </tr>\n",
              "    <tr>\n",
              "      <th>61</th>\n",
              "      <td>AdicionaItensTemas</td>\n",
              "      <td>Unutilized Abstraction</td>\n",
              "    </tr>\n",
              "  </tbody>\n",
              "</table>\n",
              "</div>\n",
              "      <button class=\"colab-df-convert\" onclick=\"convertToInteractive('df-d7aa52b4-5e12-4a59-8b6e-2917f9005887')\"\n",
              "              title=\"Convert this dataframe to an interactive table.\"\n",
              "              style=\"display:none;\">\n",
              "        \n",
              "  <svg xmlns=\"http://www.w3.org/2000/svg\" height=\"24px\"viewBox=\"0 0 24 24\"\n",
              "       width=\"24px\">\n",
              "    <path d=\"M0 0h24v24H0V0z\" fill=\"none\"/>\n",
              "    <path d=\"M18.56 5.44l.94 2.06.94-2.06 2.06-.94-2.06-.94-.94-2.06-.94 2.06-2.06.94zm-11 1L8.5 8.5l.94-2.06 2.06-.94-2.06-.94L8.5 2.5l-.94 2.06-2.06.94zm10 10l.94 2.06.94-2.06 2.06-.94-2.06-.94-.94-2.06-.94 2.06-2.06.94z\"/><path d=\"M17.41 7.96l-1.37-1.37c-.4-.4-.92-.59-1.43-.59-.52 0-1.04.2-1.43.59L10.3 9.45l-7.72 7.72c-.78.78-.78 2.05 0 2.83L4 21.41c.39.39.9.59 1.41.59.51 0 1.02-.2 1.41-.59l7.78-7.78 2.81-2.81c.8-.78.8-2.07 0-2.86zM5.41 20L4 18.59l7.72-7.72 1.47 1.35L5.41 20z\"/>\n",
              "  </svg>\n",
              "      </button>\n",
              "      \n",
              "  <style>\n",
              "    .colab-df-container {\n",
              "      display:flex;\n",
              "      flex-wrap:wrap;\n",
              "      gap: 12px;\n",
              "    }\n",
              "\n",
              "    .colab-df-convert {\n",
              "      background-color: #E8F0FE;\n",
              "      border: none;\n",
              "      border-radius: 50%;\n",
              "      cursor: pointer;\n",
              "      display: none;\n",
              "      fill: #1967D2;\n",
              "      height: 32px;\n",
              "      padding: 0 0 0 0;\n",
              "      width: 32px;\n",
              "    }\n",
              "\n",
              "    .colab-df-convert:hover {\n",
              "      background-color: #E2EBFA;\n",
              "      box-shadow: 0px 1px 2px rgba(60, 64, 67, 0.3), 0px 1px 3px 1px rgba(60, 64, 67, 0.15);\n",
              "      fill: #174EA6;\n",
              "    }\n",
              "\n",
              "    [theme=dark] .colab-df-convert {\n",
              "      background-color: #3B4455;\n",
              "      fill: #D2E3FC;\n",
              "    }\n",
              "\n",
              "    [theme=dark] .colab-df-convert:hover {\n",
              "      background-color: #434B5C;\n",
              "      box-shadow: 0px 1px 3px 1px rgba(0, 0, 0, 0.15);\n",
              "      filter: drop-shadow(0px 1px 2px rgba(0, 0, 0, 0.3));\n",
              "      fill: #FFFFFF;\n",
              "    }\n",
              "  </style>\n",
              "\n",
              "      <script>\n",
              "        const buttonEl =\n",
              "          document.querySelector('#df-d7aa52b4-5e12-4a59-8b6e-2917f9005887 button.colab-df-convert');\n",
              "        buttonEl.style.display =\n",
              "          google.colab.kernel.accessAllowed ? 'block' : 'none';\n",
              "\n",
              "        async function convertToInteractive(key) {\n",
              "          const element = document.querySelector('#df-d7aa52b4-5e12-4a59-8b6e-2917f9005887');\n",
              "          const dataTable =\n",
              "            await google.colab.kernel.invokeFunction('convertToInteractive',\n",
              "                                                     [key], {});\n",
              "          if (!dataTable) return;\n",
              "\n",
              "          const docLinkHtml = 'Like what you see? Visit the ' +\n",
              "            '<a target=\"_blank\" href=https://colab.research.google.com/notebooks/data_table.ipynb>data table notebook</a>'\n",
              "            + ' to learn more about interactive tables.';\n",
              "          element.innerHTML = '';\n",
              "          dataTable['output_type'] = 'display_data';\n",
              "          await google.colab.output.renderOutput(dataTable, element);\n",
              "          const docLink = document.createElement('div');\n",
              "          docLink.innerHTML = docLinkHtml;\n",
              "          element.appendChild(docLink);\n",
              "        }\n",
              "      </script>\n",
              "    </div>\n",
              "  </div>\n",
              "  "
            ]
          },
          "metadata": {},
          "execution_count": 82
        }
      ]
    },
    {
      "cell_type": "code",
      "source": [
        "architectureDfNew = architectureDf.drop(['Project Name', 'Cause of the Smell'], axis=1)\n",
        "architectureDfNew"
      ],
      "metadata": {
        "colab": {
          "base_uri": "https://localhost:8080/",
          "height": 770
        },
        "id": "PFN_m8tKEVqN",
        "outputId": "c98040c6-c003-4651-d207-e70ac376dbce"
      },
      "execution_count": null,
      "outputs": [
        {
          "output_type": "execute_result",
          "data": {
            "text/plain": [
              "                                         Package Name     Architecture Smell\n",
              "0            br.com.zup.handora.planodeestudos.alunos      Cyclic Dependency\n",
              "1            br.com.zup.handora.planodeestudos.alunos      Cyclic Dependency\n",
              "2            br.com.zup.handora.planodeestudos.alunos      Cyclic Dependency\n",
              "3            br.com.zup.handora.planodeestudos.alunos    Unstable Dependency\n",
              "4            br.com.zup.handora.planodeestudos.alunos  Feature Concentration\n",
              "5   br.com.zup.handora.planodeestudos.clientes.ind...      Cyclic Dependency\n",
              "6   br.com.zup.handora.planodeestudos.clientes.ind...      Cyclic Dependency\n",
              "7     br.com.zup.handora.planodeestudos.compartilhado  Feature Concentration\n",
              "8             br.com.zup.handora.planodeestudos.plano          God Component\n",
              "9             br.com.zup.handora.planodeestudos.plano      Cyclic Dependency\n",
              "10            br.com.zup.handora.planodeestudos.plano      Cyclic Dependency\n",
              "11            br.com.zup.handora.planodeestudos.plano      Cyclic Dependency\n",
              "12            br.com.zup.handora.planodeestudos.plano    Unstable Dependency\n",
              "13            br.com.zup.handora.planodeestudos.plano  Feature Concentration\n",
              "14  br.com.zup.handora.planodeestudos.plano.partia...      Cyclic Dependency\n",
              "15  br.com.zup.handora.planodeestudos.plano.partia...      Cyclic Dependency\n",
              "16  br.com.zup.handora.planodeestudos.plano.partia...    Unstable Dependency\n",
              "17  br.com.zup.handora.planodeestudos.plano.partia...      Cyclic Dependency\n",
              "18  br.com.zup.handora.planodeestudos.plano.partia...      Cyclic Dependency\n",
              "19  br.com.zup.handora.planodeestudos.plano.partia...      Cyclic Dependency\n",
              "20  br.com.zup.handora.planodeestudos.plano.partia...    Unstable Dependency\n",
              "21            br.com.zup.handora.planodeestudos.utils      Cyclic Dependency\n",
              "22            br.com.zup.handora.planodeestudos.utils      Cyclic Dependency"
            ],
            "text/html": [
              "\n",
              "  <div id=\"df-f0fef3b1-d308-4d00-ae9e-fbe54e51299f\">\n",
              "    <div class=\"colab-df-container\">\n",
              "      <div>\n",
              "<style scoped>\n",
              "    .dataframe tbody tr th:only-of-type {\n",
              "        vertical-align: middle;\n",
              "    }\n",
              "\n",
              "    .dataframe tbody tr th {\n",
              "        vertical-align: top;\n",
              "    }\n",
              "\n",
              "    .dataframe thead th {\n",
              "        text-align: right;\n",
              "    }\n",
              "</style>\n",
              "<table border=\"1\" class=\"dataframe\">\n",
              "  <thead>\n",
              "    <tr style=\"text-align: right;\">\n",
              "      <th></th>\n",
              "      <th>Package Name</th>\n",
              "      <th>Architecture Smell</th>\n",
              "    </tr>\n",
              "  </thead>\n",
              "  <tbody>\n",
              "    <tr>\n",
              "      <th>0</th>\n",
              "      <td>br.com.zup.handora.planodeestudos.alunos</td>\n",
              "      <td>Cyclic Dependency</td>\n",
              "    </tr>\n",
              "    <tr>\n",
              "      <th>1</th>\n",
              "      <td>br.com.zup.handora.planodeestudos.alunos</td>\n",
              "      <td>Cyclic Dependency</td>\n",
              "    </tr>\n",
              "    <tr>\n",
              "      <th>2</th>\n",
              "      <td>br.com.zup.handora.planodeestudos.alunos</td>\n",
              "      <td>Cyclic Dependency</td>\n",
              "    </tr>\n",
              "    <tr>\n",
              "      <th>3</th>\n",
              "      <td>br.com.zup.handora.planodeestudos.alunos</td>\n",
              "      <td>Unstable Dependency</td>\n",
              "    </tr>\n",
              "    <tr>\n",
              "      <th>4</th>\n",
              "      <td>br.com.zup.handora.planodeestudos.alunos</td>\n",
              "      <td>Feature Concentration</td>\n",
              "    </tr>\n",
              "    <tr>\n",
              "      <th>5</th>\n",
              "      <td>br.com.zup.handora.planodeestudos.clientes.ind...</td>\n",
              "      <td>Cyclic Dependency</td>\n",
              "    </tr>\n",
              "    <tr>\n",
              "      <th>6</th>\n",
              "      <td>br.com.zup.handora.planodeestudos.clientes.ind...</td>\n",
              "      <td>Cyclic Dependency</td>\n",
              "    </tr>\n",
              "    <tr>\n",
              "      <th>7</th>\n",
              "      <td>br.com.zup.handora.planodeestudos.compartilhado</td>\n",
              "      <td>Feature Concentration</td>\n",
              "    </tr>\n",
              "    <tr>\n",
              "      <th>8</th>\n",
              "      <td>br.com.zup.handora.planodeestudos.plano</td>\n",
              "      <td>God Component</td>\n",
              "    </tr>\n",
              "    <tr>\n",
              "      <th>9</th>\n",
              "      <td>br.com.zup.handora.planodeestudos.plano</td>\n",
              "      <td>Cyclic Dependency</td>\n",
              "    </tr>\n",
              "    <tr>\n",
              "      <th>10</th>\n",
              "      <td>br.com.zup.handora.planodeestudos.plano</td>\n",
              "      <td>Cyclic Dependency</td>\n",
              "    </tr>\n",
              "    <tr>\n",
              "      <th>11</th>\n",
              "      <td>br.com.zup.handora.planodeestudos.plano</td>\n",
              "      <td>Cyclic Dependency</td>\n",
              "    </tr>\n",
              "    <tr>\n",
              "      <th>12</th>\n",
              "      <td>br.com.zup.handora.planodeestudos.plano</td>\n",
              "      <td>Unstable Dependency</td>\n",
              "    </tr>\n",
              "    <tr>\n",
              "      <th>13</th>\n",
              "      <td>br.com.zup.handora.planodeestudos.plano</td>\n",
              "      <td>Feature Concentration</td>\n",
              "    </tr>\n",
              "    <tr>\n",
              "      <th>14</th>\n",
              "      <td>br.com.zup.handora.planodeestudos.plano.partia...</td>\n",
              "      <td>Cyclic Dependency</td>\n",
              "    </tr>\n",
              "    <tr>\n",
              "      <th>15</th>\n",
              "      <td>br.com.zup.handora.planodeestudos.plano.partia...</td>\n",
              "      <td>Cyclic Dependency</td>\n",
              "    </tr>\n",
              "    <tr>\n",
              "      <th>16</th>\n",
              "      <td>br.com.zup.handora.planodeestudos.plano.partia...</td>\n",
              "      <td>Unstable Dependency</td>\n",
              "    </tr>\n",
              "    <tr>\n",
              "      <th>17</th>\n",
              "      <td>br.com.zup.handora.planodeestudos.plano.partia...</td>\n",
              "      <td>Cyclic Dependency</td>\n",
              "    </tr>\n",
              "    <tr>\n",
              "      <th>18</th>\n",
              "      <td>br.com.zup.handora.planodeestudos.plano.partia...</td>\n",
              "      <td>Cyclic Dependency</td>\n",
              "    </tr>\n",
              "    <tr>\n",
              "      <th>19</th>\n",
              "      <td>br.com.zup.handora.planodeestudos.plano.partia...</td>\n",
              "      <td>Cyclic Dependency</td>\n",
              "    </tr>\n",
              "    <tr>\n",
              "      <th>20</th>\n",
              "      <td>br.com.zup.handora.planodeestudos.plano.partia...</td>\n",
              "      <td>Unstable Dependency</td>\n",
              "    </tr>\n",
              "    <tr>\n",
              "      <th>21</th>\n",
              "      <td>br.com.zup.handora.planodeestudos.utils</td>\n",
              "      <td>Cyclic Dependency</td>\n",
              "    </tr>\n",
              "    <tr>\n",
              "      <th>22</th>\n",
              "      <td>br.com.zup.handora.planodeestudos.utils</td>\n",
              "      <td>Cyclic Dependency</td>\n",
              "    </tr>\n",
              "  </tbody>\n",
              "</table>\n",
              "</div>\n",
              "      <button class=\"colab-df-convert\" onclick=\"convertToInteractive('df-f0fef3b1-d308-4d00-ae9e-fbe54e51299f')\"\n",
              "              title=\"Convert this dataframe to an interactive table.\"\n",
              "              style=\"display:none;\">\n",
              "        \n",
              "  <svg xmlns=\"http://www.w3.org/2000/svg\" height=\"24px\"viewBox=\"0 0 24 24\"\n",
              "       width=\"24px\">\n",
              "    <path d=\"M0 0h24v24H0V0z\" fill=\"none\"/>\n",
              "    <path d=\"M18.56 5.44l.94 2.06.94-2.06 2.06-.94-2.06-.94-.94-2.06-.94 2.06-2.06.94zm-11 1L8.5 8.5l.94-2.06 2.06-.94-2.06-.94L8.5 2.5l-.94 2.06-2.06.94zm10 10l.94 2.06.94-2.06 2.06-.94-2.06-.94-.94-2.06-.94 2.06-2.06.94z\"/><path d=\"M17.41 7.96l-1.37-1.37c-.4-.4-.92-.59-1.43-.59-.52 0-1.04.2-1.43.59L10.3 9.45l-7.72 7.72c-.78.78-.78 2.05 0 2.83L4 21.41c.39.39.9.59 1.41.59.51 0 1.02-.2 1.41-.59l7.78-7.78 2.81-2.81c.8-.78.8-2.07 0-2.86zM5.41 20L4 18.59l7.72-7.72 1.47 1.35L5.41 20z\"/>\n",
              "  </svg>\n",
              "      </button>\n",
              "      \n",
              "  <style>\n",
              "    .colab-df-container {\n",
              "      display:flex;\n",
              "      flex-wrap:wrap;\n",
              "      gap: 12px;\n",
              "    }\n",
              "\n",
              "    .colab-df-convert {\n",
              "      background-color: #E8F0FE;\n",
              "      border: none;\n",
              "      border-radius: 50%;\n",
              "      cursor: pointer;\n",
              "      display: none;\n",
              "      fill: #1967D2;\n",
              "      height: 32px;\n",
              "      padding: 0 0 0 0;\n",
              "      width: 32px;\n",
              "    }\n",
              "\n",
              "    .colab-df-convert:hover {\n",
              "      background-color: #E2EBFA;\n",
              "      box-shadow: 0px 1px 2px rgba(60, 64, 67, 0.3), 0px 1px 3px 1px rgba(60, 64, 67, 0.15);\n",
              "      fill: #174EA6;\n",
              "    }\n",
              "\n",
              "    [theme=dark] .colab-df-convert {\n",
              "      background-color: #3B4455;\n",
              "      fill: #D2E3FC;\n",
              "    }\n",
              "\n",
              "    [theme=dark] .colab-df-convert:hover {\n",
              "      background-color: #434B5C;\n",
              "      box-shadow: 0px 1px 3px 1px rgba(0, 0, 0, 0.15);\n",
              "      filter: drop-shadow(0px 1px 2px rgba(0, 0, 0, 0.3));\n",
              "      fill: #FFFFFF;\n",
              "    }\n",
              "  </style>\n",
              "\n",
              "      <script>\n",
              "        const buttonEl =\n",
              "          document.querySelector('#df-f0fef3b1-d308-4d00-ae9e-fbe54e51299f button.colab-df-convert');\n",
              "        buttonEl.style.display =\n",
              "          google.colab.kernel.accessAllowed ? 'block' : 'none';\n",
              "\n",
              "        async function convertToInteractive(key) {\n",
              "          const element = document.querySelector('#df-f0fef3b1-d308-4d00-ae9e-fbe54e51299f');\n",
              "          const dataTable =\n",
              "            await google.colab.kernel.invokeFunction('convertToInteractive',\n",
              "                                                     [key], {});\n",
              "          if (!dataTable) return;\n",
              "\n",
              "          const docLinkHtml = 'Like what you see? Visit the ' +\n",
              "            '<a target=\"_blank\" href=https://colab.research.google.com/notebooks/data_table.ipynb>data table notebook</a>'\n",
              "            + ' to learn more about interactive tables.';\n",
              "          element.innerHTML = '';\n",
              "          dataTable['output_type'] = 'display_data';\n",
              "          await google.colab.output.renderOutput(dataTable, element);\n",
              "          const docLink = document.createElement('div');\n",
              "          docLink.innerHTML = docLinkHtml;\n",
              "          element.appendChild(docLink);\n",
              "        }\n",
              "      </script>\n",
              "    </div>\n",
              "  </div>\n",
              "  "
            ]
          },
          "metadata": {},
          "execution_count": 83
        }
      ]
    },
    {
      "cell_type": "code",
      "source": [
        "!pip install python-docx\n",
        "\n",
        "import pandas as pd\n",
        "from docx import Document\n",
        "from docx.shared import Inches\n",
        "\n",
        "# Criar um documento Word\n",
        "doc = Document()\n",
        "\n",
        "# Adicionar um cabeçalho\n",
        "doc.add_heading('Auditoria/Análise de Qualidade', 0)\n",
        "\n",
        "p = doc.add_paragraph('Neste relatório apresentamos os resultados de um conjunto de análises de arquitetura, design de código, implementação, design de teste e testabilidade realizadas no repositório do projeto ' + str(projectName) + \".\")\n",
        "\n",
        "doc.add_heading('Nossa avaliação para cada critério', 1)\n",
        "\n",
        "p = doc.add_paragraph('Aqui usamos uma escala de 1 a 5. 1 significa extrema pobreza no uso das práticas enquanto 5 fala com excelência.')\n",
        "\n",
        "doc.add_heading('1. Nível de refinamento das heurísticas para tomada de decisão sobre detalhes do design do código', 2)\n",
        "p = doc.add_paragraph('a. Nota: ' + str((designSmellMeasurement+architectureSmellMeasurement/2))).bold = True\n",
        "p = doc.add_paragraph('b. Explicação: Quanto a aspectos de design de código, pode-se identicar: ' + str(resultExplanationDesign) + \" Já em relação a aspectos de arquitetura se observou: \" + str(resultExplanationArchitecture)).bold = True\n",
        "p = doc.add_paragraph('c. Recomendações: Frente aos cenários de smells de design de código encontrados, recomenda-se: ' + str(resultRecommendDesign) + \" Já em relação aos aspectos de arquitetura as recomendações são: \" + str(resultRecommendArchitecture)).bold = True\n",
        "p = doc.add_paragraph('d. Análise estática: ').bold = True\n",
        "\n",
        "p = doc.add_paragraph('Smells de Design: ')\n",
        "table = doc.add_table(rows=len(designDfnew)+1, cols=len(designDfnew.columns))\n",
        "table.style = 'Table Grid'\n",
        "for j in range(len(designDfnew.columns)):\n",
        "    table.cell(0,j).text = designDfnew.columns[j]\n",
        "for i in range(len(designDfnew)):\n",
        "    for j in range(len(designDfnew.columns)):\n",
        "        table.cell(i+1,j).text = str(designDfnew.values[i,j])\n",
        "\n",
        "p = doc.add_paragraph('Smells de Arquitetura: ')\n",
        "table = doc.add_table(rows=len(architectureDfNew)+1, cols=len(architectureDfNew.columns))\n",
        "table.style = 'Table Grid'\n",
        "for j in range(len(architectureDfNew.columns)):\n",
        "    table.cell(0,j).text = architectureDfNew.columns[j]\n",
        "for i in range(len(architectureDfNew)):\n",
        "    for j in range(len(architectureDfNew.columns)):\n",
        "        table.cell(i+1,j).text = str(architectureDfNew.values[i,j])\n",
        "\n",
        "doc.add_heading('2. O quão revelador de bugs aquele código é', 2)\n",
        "p = doc.add_paragraph('a. Nota: ' + str((testSmellMeasurement+testabilitySmellMeasurement/2))).bold = True\n",
        "p = doc.add_paragraph('b. Explicação: Quanto a aspectos de design de testes, pode-se identicar: ' + str(resultExplanationTest) + \" Já em relação a aspectos de testabilidade se observou: \" + str(resultExplanationTestability)).bold = True\n",
        "p = doc.add_paragraph('c. Recomendações: Frente aos cenários de smells de design de testes encontrados, recomenda-se: ' + str(resultRecommendTest)  + \" Já em relação aos aspectos de testabilidade as recomendações são: \" +  str(resultRecommendTestability)).bold = True\n",
        "p = doc.add_paragraph('d. Análise estática: ').bold = True\n",
        "\n",
        "p = doc.add_paragraph('Smells de Teste: ')\n",
        "table = doc.add_table(rows=len(testDfNew)+1, cols=len(testDfNew.columns))\n",
        "table.style = 'Table Grid'\n",
        "for j in range(len(testDfNew.columns)):\n",
        "    table.cell(0,j).text = testDfNew.columns[j]\n",
        "for i in range(len(testDfNew)):\n",
        "    for j in range(len(testDfNew.columns)):\n",
        "        table.cell(i+1,j).text = str(testDfNew.values[i,j])\n",
        "\n",
        "p = doc.add_paragraph('Smells de Testabilidade: ')\n",
        "table = doc.add_table(rows=len(testabilityDfNew)+1, cols=len(testabilityDfNew.columns))\n",
        "table.style = 'Table Grid'\n",
        "for j in range(len(testabilityDfNew.columns)):\n",
        "    table.cell(0,j).text = testabilityDfNew.columns[j]\n",
        "for i in range(len(testabilityDfNew)):\n",
        "    for j in range(len(testabilityDfNew.columns)):\n",
        "        table.cell(i+1,j).text = str(testabilityDfNew.values[i,j])\n",
        "\n",
        "doc.add_heading('3. Nível de facilidade de entendimento', 2)\n",
        "p = doc.add_paragraph('a. Nota: ' + str(implementationSmellMeasurement)).bold = True\n",
        "p = doc.add_paragraph('b. Explicação: Quanto a aspectos de implementação, pode-se identicar: ' + str(resultExplanationImplementation)).bold = True\n",
        "p = doc.add_paragraph('c. Recomendações: Frente aos cenários de smells de implementação encontrados, recomenda-se: ' + str(resultRecommendImplementation)).bold = True\n",
        "p = doc.add_paragraph('d. Análise estática: ').bold = True\n",
        "\n",
        "p = doc.add_paragraph('Smells de Implementação: ')\n",
        "table = doc.add_table(rows=len(implementationDfNew)+1, cols=len(implementationDfNew.columns))\n",
        "table.style = 'Table Grid'\n",
        "for j in range(len(implementationDfNew.columns)):\n",
        "    table.cell(0,j).text = implementationDfNew.columns[j]\n",
        "for i in range(len(implementationDfNew)):\n",
        "    for j in range(len(implementationDfNew.columns)):\n",
        "        table.cell(i+1,j).text = str(implementationDfNew.values[i,j])\n",
        "\n",
        "\n",
        "# doc.add_picture('/visaoclasses.png', width=Inches(2)) \n",
        "\n",
        "# doc.add_heading('Evidências', 0)\n",
        "\n",
        "# # Adicionar uma tabela com os dados do dataframe\n",
        "# table = doc.add_table(rows=len(methodMetricsDf)+1, cols=len(methodMetricsDf.columns))\n",
        "# table.style = 'Table Grid'\n",
        "# # Adicionar o cabeçalho da tabela\n",
        "# for j in range(len(methodMetricsDf.columns)):\n",
        "#     table.cell(0,j).text = methodMetricsDf.columns[j]\n",
        "# # Adicionar os dados do dataframe\n",
        "# for i in range(len(methodMetricsDf)):\n",
        "#     for j in range(len(methodMetricsDf.columns)):\n",
        "#         table.cell(i+1,j).text = str(methodMetricsDf.values[i,j])\n",
        "\n",
        "# Salvar o documento\n",
        "doc.save('qualityReport.docx')"
      ],
      "metadata": {
        "colab": {
          "base_uri": "https://localhost:8080/"
        },
        "id": "HuUWs_t169ap",
        "outputId": "c4c86b86-ffe7-4b67-8224-28fac43f742d"
      },
      "execution_count": null,
      "outputs": [
        {
          "output_type": "stream",
          "name": "stdout",
          "text": [
            "Looking in indexes: https://pypi.org/simple, https://us-python.pkg.dev/colab-wheels/public/simple/\n",
            "Requirement already satisfied: python-docx in /usr/local/lib/python3.8/dist-packages (0.8.11)\n",
            "Requirement already satisfied: lxml>=2.3.2 in /usr/local/lib/python3.8/dist-packages (from python-docx) (4.9.2)\n"
          ]
        }
      ]
    },
    {
      "cell_type": "markdown",
      "source": [
        "## Classificador"
      ],
      "metadata": {
        "id": "ccjLLxrm_TE2"
      }
    },
    {
      "cell_type": "code",
      "source": [
        "valores_aleatorios = np.random.randint(2, size=len(methodMetricsDf))\n",
        "valores_aleatorios"
      ],
      "metadata": {
        "colab": {
          "base_uri": "https://localhost:8080/"
        },
        "id": "NTuQRSjXAbj3",
        "outputId": "ee44c9cc-547c-4fe8-8f23-82076edbd3a0"
      },
      "execution_count": null,
      "outputs": [
        {
          "output_type": "execute_result",
          "data": {
            "text/plain": [
              "array([1, 0, 0, 0, 0, 0, 1, 0, 1, 0, 1, 0, 1, 1, 1, 0, 0, 1, 0, 0, 1, 1,\n",
              "       0, 1, 0, 0, 1, 1, 0, 1, 0, 1, 1, 1, 1, 1, 0, 0, 1, 0, 1, 1, 0, 0,\n",
              "       0, 1, 1, 1, 1, 1, 0, 1, 1, 0, 0, 0, 0, 1, 1, 1, 1, 0, 0, 1, 1, 0,\n",
              "       0, 0, 0, 1, 0, 0, 0, 1, 0, 0, 1, 0, 0, 0, 1, 0, 1, 0, 1, 1, 1, 1,\n",
              "       0, 0, 1, 0, 1, 0, 1, 1, 1, 0, 0, 1, 1, 0, 1, 1, 1, 1, 1, 1, 0, 1,\n",
              "       1, 0, 0, 1, 1, 1, 0, 0, 0, 1, 1, 0, 0, 1, 0, 1, 1, 1, 0, 0, 1, 1,\n",
              "       1, 1, 0, 1, 1, 0, 0, 0, 1, 0, 1, 1, 0, 0, 0, 0, 0, 0, 0, 1, 1, 0,\n",
              "       1, 0, 0, 1, 1, 1, 0, 1, 0, 1, 1, 0, 1, 0, 0, 0, 1, 0, 0, 0, 1, 0,\n",
              "       0, 1])"
            ]
          },
          "metadata": {},
          "execution_count": 163
        }
      ]
    },
    {
      "cell_type": "code",
      "source": [
        "methodMetricsDf['smell'] = valores_aleatorios"
      ],
      "metadata": {
        "id": "m0Dm9E9IAkkK"
      },
      "execution_count": null,
      "outputs": []
    },
    {
      "cell_type": "code",
      "source": [
        "methodMetricsDf.info()"
      ],
      "metadata": {
        "colab": {
          "base_uri": "https://localhost:8080/"
        },
        "id": "MozqMtE2AxWL",
        "outputId": "209c9aaa-ec8a-42f8-d110-581a0c769d4a"
      },
      "execution_count": null,
      "outputs": [
        {
          "output_type": "stream",
          "name": "stdout",
          "text": [
            "<class 'pandas.core.frame.DataFrame'>\n",
            "RangeIndex: 178 entries, 0 to 177\n",
            "Data columns (total 12 columns):\n",
            " #   Column                     Non-Null Count  Dtype \n",
            "---  ------                     --------------  ----- \n",
            " 0   Project Name               178 non-null    object\n",
            " 1   Package Name               178 non-null    object\n",
            " 2   Type Name                  178 non-null    object\n",
            " 3   Method Name                178 non-null    object\n",
            " 4   LOC                        178 non-null    int64 \n",
            " 5   CC                         178 non-null    int64 \n",
            " 6   PC                         178 non-null    int64 \n",
            " 7   Line no                    178 non-null    int64 \n",
            " 8   IsTest                     178 non-null    int64 \n",
            " 9   Main prod class tested     46 non-null     object\n",
            " 10  Production classes tested  46 non-null     object\n",
            " 11  smell                      178 non-null    int64 \n",
            "dtypes: int64(6), object(6)\n",
            "memory usage: 16.8+ KB\n"
          ]
        }
      ]
    },
    {
      "cell_type": "code",
      "source": [
        "x = methodMetricsDf[['LOC', 'CC', 'PC', 'Line no', 'IsTest']].copy()"
      ],
      "metadata": {
        "id": "FF_WDucIA3zZ"
      },
      "execution_count": null,
      "outputs": []
    },
    {
      "cell_type": "code",
      "source": [
        "y= methodMetricsDf[['smell']].copy()"
      ],
      "metadata": {
        "id": "8vqxmtOaA4t-"
      },
      "execution_count": null,
      "outputs": []
    },
    {
      "cell_type": "code",
      "source": [
        "print(x.shape)\n",
        "print(y.shape)"
      ],
      "metadata": {
        "colab": {
          "base_uri": "https://localhost:8080/"
        },
        "id": "ramdfEhJBLPq",
        "outputId": "3fb2e8ec-8356-4eb1-aeb4-16d272486a32"
      },
      "execution_count": null,
      "outputs": [
        {
          "output_type": "stream",
          "name": "stdout",
          "text": [
            "(178, 5)\n",
            "(178, 1)\n"
          ]
        }
      ]
    },
    {
      "cell_type": "code",
      "source": [
        "from sklearn.metrics import accuracy_score\n",
        "from sklearn.model_selection import train_test_split\n",
        "from sklearn.tree import DecisionTreeClassifier"
      ],
      "metadata": {
        "id": "zJsscMEaBT7G"
      },
      "execution_count": null,
      "outputs": []
    },
    {
      "cell_type": "code",
      "source": [
        "x_train, x_test, y_train,y_test = train_test_split(x,y, test_size=0.33, random_state=324)"
      ],
      "metadata": {
        "id": "mcfQEsXrBOuv"
      },
      "execution_count": null,
      "outputs": []
    },
    {
      "cell_type": "code",
      "source": [
        "print(x_train.shape)\n",
        "print(x_test.shape)\n",
        "print(y_train.shape)\n",
        "print(y_test.shape)"
      ],
      "metadata": {
        "colab": {
          "base_uri": "https://localhost:8080/"
        },
        "id": "PDAyvew0BZ7c",
        "outputId": "c1708990-fbdc-4b1b-e2db-785aa2cc7f9d"
      },
      "execution_count": null,
      "outputs": [
        {
          "output_type": "stream",
          "name": "stdout",
          "text": [
            "(119, 5)\n",
            "(59, 5)\n",
            "(119, 1)\n",
            "(59, 1)\n"
          ]
        }
      ]
    },
    {
      "cell_type": "code",
      "source": [
        "quality_classifier = DecisionTreeClassifier(max_leaf_nodes=10, random_state=1)\n",
        "quality_classifier.fit(x_train,y_train)"
      ],
      "metadata": {
        "colab": {
          "base_uri": "https://localhost:8080/",
          "height": 75
        },
        "id": "k7dchgIMBeYm",
        "outputId": "ed1f35ab-9696-421f-f667-996817096d3f"
      },
      "execution_count": null,
      "outputs": [
        {
          "output_type": "execute_result",
          "data": {
            "text/plain": [
              "DecisionTreeClassifier(max_leaf_nodes=10, random_state=1)"
            ],
            "text/html": [
              "<style>#sk-container-id-1 {color: black;background-color: white;}#sk-container-id-1 pre{padding: 0;}#sk-container-id-1 div.sk-toggleable {background-color: white;}#sk-container-id-1 label.sk-toggleable__label {cursor: pointer;display: block;width: 100%;margin-bottom: 0;padding: 0.3em;box-sizing: border-box;text-align: center;}#sk-container-id-1 label.sk-toggleable__label-arrow:before {content: \"▸\";float: left;margin-right: 0.25em;color: #696969;}#sk-container-id-1 label.sk-toggleable__label-arrow:hover:before {color: black;}#sk-container-id-1 div.sk-estimator:hover label.sk-toggleable__label-arrow:before {color: black;}#sk-container-id-1 div.sk-toggleable__content {max-height: 0;max-width: 0;overflow: hidden;text-align: left;background-color: #f0f8ff;}#sk-container-id-1 div.sk-toggleable__content pre {margin: 0.2em;color: black;border-radius: 0.25em;background-color: #f0f8ff;}#sk-container-id-1 input.sk-toggleable__control:checked~div.sk-toggleable__content {max-height: 200px;max-width: 100%;overflow: auto;}#sk-container-id-1 input.sk-toggleable__control:checked~label.sk-toggleable__label-arrow:before {content: \"▾\";}#sk-container-id-1 div.sk-estimator input.sk-toggleable__control:checked~label.sk-toggleable__label {background-color: #d4ebff;}#sk-container-id-1 div.sk-label input.sk-toggleable__control:checked~label.sk-toggleable__label {background-color: #d4ebff;}#sk-container-id-1 input.sk-hidden--visually {border: 0;clip: rect(1px 1px 1px 1px);clip: rect(1px, 1px, 1px, 1px);height: 1px;margin: -1px;overflow: hidden;padding: 0;position: absolute;width: 1px;}#sk-container-id-1 div.sk-estimator {font-family: monospace;background-color: #f0f8ff;border: 1px dotted black;border-radius: 0.25em;box-sizing: border-box;margin-bottom: 0.5em;}#sk-container-id-1 div.sk-estimator:hover {background-color: #d4ebff;}#sk-container-id-1 div.sk-parallel-item::after {content: \"\";width: 100%;border-bottom: 1px solid gray;flex-grow: 1;}#sk-container-id-1 div.sk-label:hover label.sk-toggleable__label {background-color: #d4ebff;}#sk-container-id-1 div.sk-serial::before {content: \"\";position: absolute;border-left: 1px solid gray;box-sizing: border-box;top: 0;bottom: 0;left: 50%;z-index: 0;}#sk-container-id-1 div.sk-serial {display: flex;flex-direction: column;align-items: center;background-color: white;padding-right: 0.2em;padding-left: 0.2em;position: relative;}#sk-container-id-1 div.sk-item {position: relative;z-index: 1;}#sk-container-id-1 div.sk-parallel {display: flex;align-items: stretch;justify-content: center;background-color: white;position: relative;}#sk-container-id-1 div.sk-item::before, #sk-container-id-1 div.sk-parallel-item::before {content: \"\";position: absolute;border-left: 1px solid gray;box-sizing: border-box;top: 0;bottom: 0;left: 50%;z-index: -1;}#sk-container-id-1 div.sk-parallel-item {display: flex;flex-direction: column;z-index: 1;position: relative;background-color: white;}#sk-container-id-1 div.sk-parallel-item:first-child::after {align-self: flex-end;width: 50%;}#sk-container-id-1 div.sk-parallel-item:last-child::after {align-self: flex-start;width: 50%;}#sk-container-id-1 div.sk-parallel-item:only-child::after {width: 0;}#sk-container-id-1 div.sk-dashed-wrapped {border: 1px dashed gray;margin: 0 0.4em 0.5em 0.4em;box-sizing: border-box;padding-bottom: 0.4em;background-color: white;}#sk-container-id-1 div.sk-label label {font-family: monospace;font-weight: bold;display: inline-block;line-height: 1.2em;}#sk-container-id-1 div.sk-label-container {text-align: center;}#sk-container-id-1 div.sk-container {/* jupyter's `normalize.less` sets `[hidden] { display: none; }` but bootstrap.min.css set `[hidden] { display: none !important; }` so we also need the `!important` here to be able to override the default hidden behavior on the sphinx rendered scikit-learn.org. See: https://github.com/scikit-learn/scikit-learn/issues/21755 */display: inline-block !important;position: relative;}#sk-container-id-1 div.sk-text-repr-fallback {display: none;}</style><div id=\"sk-container-id-1\" class=\"sk-top-container\"><div class=\"sk-text-repr-fallback\"><pre>DecisionTreeClassifier(max_leaf_nodes=10, random_state=1)</pre><b>In a Jupyter environment, please rerun this cell to show the HTML representation or trust the notebook. <br />On GitHub, the HTML representation is unable to render, please try loading this page with nbviewer.org.</b></div><div class=\"sk-container\" hidden><div class=\"sk-item\"><div class=\"sk-estimator sk-toggleable\"><input class=\"sk-toggleable__control sk-hidden--visually\" id=\"sk-estimator-id-1\" type=\"checkbox\" checked><label for=\"sk-estimator-id-1\" class=\"sk-toggleable__label sk-toggleable__label-arrow\">DecisionTreeClassifier</label><div class=\"sk-toggleable__content\"><pre>DecisionTreeClassifier(max_leaf_nodes=10, random_state=1)</pre></div></div></div></div></div>"
            ]
          },
          "metadata": {},
          "execution_count": 173
        }
      ]
    },
    {
      "cell_type": "code",
      "source": [
        "predictions = quality_classifier.predict(x_test)"
      ],
      "metadata": {
        "id": "Eolh40EDBoAX"
      },
      "execution_count": null,
      "outputs": []
    },
    {
      "cell_type": "code",
      "source": [
        "accuracy_score(y_true=y_test, y_pred=predictions)"
      ],
      "metadata": {
        "colab": {
          "base_uri": "https://localhost:8080/"
        },
        "id": "UwkP17q6BtQq",
        "outputId": "7d03a2b1-4256-412a-c23c-ce732a0ef23c"
      },
      "execution_count": null,
      "outputs": [
        {
          "output_type": "execute_result",
          "data": {
            "text/plain": [
              "0.423728813559322"
            ]
          },
          "metadata": {},
          "execution_count": 175
        }
      ]
    }
  ]
}